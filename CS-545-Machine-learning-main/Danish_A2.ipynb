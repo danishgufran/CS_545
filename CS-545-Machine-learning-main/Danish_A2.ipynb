{
 "cells": [
  {
   "cell_type": "markdown",
   "metadata": {
    "toc": true
   },
   "source": [
    "<h1>Table of Contents<span class=\"tocSkip\"></span></h1>\n",
    "<div class=\"toc\"><ul class=\"toc-item\"><li><span><a href=\"#A2.2-Multilayered-Neural-Network\" data-toc-modified-id=\"A2.2-Multilayered-Neural-Network-1\"><span class=\"toc-item-num\">1&nbsp;&nbsp;</span>A2.2 Multilayered Neural Network</a></span><ul class=\"toc-item\"><li><span><a href=\"#Required-Part-One\" data-toc-modified-id=\"Required-Part-One-1.1\"><span class=\"toc-item-num\">1.1&nbsp;&nbsp;</span>Required Part One</a></span></li><li><span><a href=\"#Required-Part-Two\" data-toc-modified-id=\"Required-Part-Two-1.2\"><span class=\"toc-item-num\">1.2&nbsp;&nbsp;</span>Required Part Two</a></span></li></ul></li><li><span><a href=\"#Grading\" data-toc-modified-id=\"Grading-2\"><span class=\"toc-item-num\">2&nbsp;&nbsp;</span>Grading</a></span></li><li><span><a href=\"#Check-In\" data-toc-modified-id=\"Check-In-3\"><span class=\"toc-item-num\">3&nbsp;&nbsp;</span>Check-In</a></span></li><li><span><a href=\"#Extra-Credit\" data-toc-modified-id=\"Extra-Credit-4\"><span class=\"toc-item-num\">4&nbsp;&nbsp;</span>Extra Credit</a></span></li></ul></div>"
   ]
  },
  {
   "cell_type": "markdown",
   "metadata": {},
   "source": [
    "# A2.2 Multilayered Neural Network\n",
    "\n",
    "* 2.2: *Added example output in Section 1.1.*\n",
    "* 2.1: *Added A2grader.tar and details on how to rename the functions for the use of the asymmetric sigmoid activation function.*"
   ]
  },
  {
   "cell_type": "markdown",
   "metadata": {},
   "source": [
    "## Required Part One\n",
    "\n",
    "The changes you must implement are specified here.  We recommend that you copy the above code cells and paste them below, then edit them appropriately.\n",
    "\n",
    "You will implement a set of functions for training and testing a multilayered neural network to predict continuous-valued target values.  This assignment provides an implementation of the functions for a neural network with one hidden layer.  You must modify the functions to allow any number of hidden layers, each with any number of units.\n",
    "\n",
    "The required functions are:\n",
    "\n",
    "* `make_weights(n_inputs, n_hiddens_list, n_outputs):` Given integers `n_inputs`, list of `n_hiddens`, one integer per hidden layer, and `n_outputs`, create and return list of weight matrices, one for each layer.\n",
    "* `forward(Xst, Ws)`: Given standardized input matrix `X` and list of weight matrices `Ws`, calculate the output of all layers and return a list of the outputs of each layer.\n",
    "* `backward(Xst, Tst, Ws)`: Given standardized input matrix `X`, standardized target matrix `T`, and list of weight matrices `Ws`, calculate the gradient of the mean squared error with respect to the weights in each layer, returning a tuple or list of all gradient matrices.\n",
    "* `train_sgd(X, T, Ws, learning_rate, n_epochs):` Given input and target matrices `X` and `T`, liist of all weight matrices `Ws`, a learning_rate and the number of epochs to train, update the weights for `n_epochs` iterations using the gradient of the mean squared over the whole data set in `X` and `T`  and return the list of resulting new weight matrices, the standardization parameters, and the list of RMSE training errors, one per epoch.\n",
    "* `use(X, Ws, stand_parms):` Calculate outputs of all layers after standardizing input `X`. Return list of outputs of each hidden layer, and unstandardized output of output layer."
   ]
  },
  {
   "cell_type": "code",
   "execution_count": 1,
   "metadata": {},
   "outputs": [],
   "source": [
    "import numpy as np\n",
    "import matplotlib.pyplot as plt"
   ]
  },
  {
   "cell_type": "code",
   "execution_count": 22,
   "metadata": {},
   "outputs": [],
   "source": [
    "def add_ones(X):\n",
    "    return np.insert(X, 0, 1, axis=1)\n",
    "\n",
    "def make_weights(n_inputs, n_hiddens_list, n_outputs):\n",
    "    # Create and return weight matrices, V and W, for the hidden and output layers.\n",
    "    # Initialize them to uniformly-distribted random values between -sqrt(n_in) and +sqrt(n_in)\n",
    "    temp = [np.random.uniform(-1, 1, size=(1 + n_inputs, n_hiddens_list[0])) / np.sqrt(n_inputs + 1)]\n",
    "    for i in range(1,len(n_hiddens_list)):\n",
    "        temp += [np.random.uniform(-1, 1, size=(1 + n_hiddens_list[i-1], n_hiddens_list[i]))/np.sqrt(n_hiddens_list[i-1] + 1)]\n",
    "    temp += [np.random.uniform(-1, 1, size=(1 + n_hiddens_list[-1], n_outputs)) / np.sqrt(n_hiddens_list[-1] + 1)]    \n",
    "    return temp\n",
    "\n",
    "def forward(Xst, Ws):\n",
    "    temp = 0\n",
    "    Yst = []\n",
    "\n",
    "    temp = np.tanh(add_ones(Xst) @ Ws[0])\n",
    "    \n",
    "    Yst += [temp]\n",
    "    for i in Ws[1:-1]:\n",
    "        temp = np.tanh(add_ones(temp) @ i)\n",
    "        Yst += [temp]\n",
    "    Yst += [add_ones(temp) @ Ws[-1]]\n",
    "    \n",
    "    return Yst\n",
    "\n",
    "def backward(Xst, Tst, Ws):\n",
    "    n_samples = Xst.shape[0]\n",
    "    n_outputs = Tst.shape[1]\n",
    "    \n",
    "    temp_list = forward(Xst,Ws)\n",
    "    delta = 0 \n",
    "\n",
    "    gradient_V = []\n",
    "    delta = -(Tst - temp_list[-1]) /  (n_samples * n_outputs)\n",
    "\n",
    "    for i in range( len(Ws)-2,-1,-1): \n",
    "        gradient_V += [add_ones(temp_list[i]).T @ delta]\n",
    "        delta = (delta @ Ws[i+1][1:,:].T) * (1- temp_list[i]**2)\n",
    "\n",
    "    gradient_V.append(add_ones(Xst).T @ delta)\n",
    "    gradient_V =gradient_V[::-1]\n",
    "\n",
    "    return gradient_V\n",
    "\n",
    "def train_sgd(X, T,Ws, learning_rate, n_epochs):\n",
    "    # Store standardization parameters in dictionary stand_parms.\n",
    "    stand_parms = calc_standardize_parameters(X, T)\n",
    "    # Standardize X and T.\n",
    "    Xst = standardize_X(X, stand_parms)\n",
    "    Tst = standardize_T(T, stand_parms)\n",
    "\n",
    "    error_trace = []\n",
    "    \n",
    "    # Update weights for n_epochs passes through the training data\n",
    "    for epoch in range(n_epochs):\n",
    "        gradient_Ws = backward(Xst, Tst, Ws)\n",
    "       \n",
    "        Ws = [a - (b*learning_rate) for a, b in zip(Ws, gradient_Ws)]\n",
    "#         for i in range(len(gradient_Ws)):\n",
    "#             Ws[i] -= (learning_rate * gradient_Ws[i])\n",
    "\n",
    "  \n",
    "        \n",
    "        Yst = forward(Xst,Ws)\n",
    "        Y = unstandardize_T(Yst[-1], stand_parms)\n",
    "        error_trace.append(rmse(Y, T))\n",
    "    \n",
    "    return Ws, stand_parms, error_trace\n",
    "\n",
    "\n",
    "def use(X, Ws, stand_parms):\n",
    "    # Standardize inputs X\n",
    "    Xst = standardize_X(X, stand_parms)\n",
    "    # Calculate outputs of each layer.\n",
    "    temp_list = forward(Xst, Ws)\n",
    "    # Unstandardize output of output layer\n",
    "    z = temp_list[:-1]\n",
    "    z += [unstandardize_T(temp_list[-1], stand_parms)]\n",
    "    return z\n",
    "\n",
    "def rmse(Y, T):\n",
    "       \n",
    "    error = T - Y\n",
    "    return np.sqrt(np.mean(error ** 2))"
   ]
  },
  {
   "cell_type": "code",
   "execution_count": 23,
   "metadata": {},
   "outputs": [],
   "source": [
    "def calc_standardize_parameters(X, T):\n",
    "    Xmeans = X.mean(axis=0)\n",
    "    Xstds = X.std(axis=0)\n",
    "    Tmeans = T.mean(axis=0)\n",
    "    Tstds = T.std(axis=0)\n",
    "    return {'Xmeans': Xmeans, 'Xstds': Xstds,\n",
    "            'Tmeans': Tmeans, 'Tstds': Tstds}\n",
    "\n",
    "def standardize_X(X, stand_parms):\n",
    "    return (X - stand_parms['Xmeans']) / stand_parms['Xstds']\n",
    "\n",
    "\n",
    "def unstandardize_X(Xst, stand_parms):\n",
    "    return Xst * stand_parms['Xstds'] + stand_parms['Xmeans']\n",
    "\n",
    "\n",
    "def standardize_T(T, stand_parms):\n",
    "    return (T - stand_parms['Tmeans']) / stand_parms['Tstds']\n",
    "\n",
    "\n",
    "def unstandardize_T(Tst, stand_parms):\n",
    "    return Tst * stand_parms['Tstds'] + stand_parms['Tmeans']"
   ]
  },
  {
   "cell_type": "markdown",
   "metadata": {},
   "source": [
    "Here is a test of the functions.  We fit a neural network to simple one-dimensional data."
   ]
  },
  {
   "cell_type": "code",
   "execution_count": 24,
   "metadata": {},
   "outputs": [],
   "source": [
    "n_samples = 30\n",
    "\n",
    "Xtrain = np.linspace(0., 20.0, n_samples).reshape((n_samples, 1))\n",
    "Ttrain = 0.2 + 0.05 * (Xtrain) + 0.4 * np.sin(Xtrain / 2) + 0.2 * np.random.normal(size=(n_samples, 1))\n",
    "\n",
    "Xtest = Xtrain + 0.1 * np.random.normal(size=(n_samples, 1))\n",
    "Ttest = 0.2 + 0.05 * (Xtest) + 0.4 * np.sin(Xtest / 2) + 0.2 * np.random.normal(size=(n_samples, 1))"
   ]
  },
  {
   "cell_type": "code",
   "execution_count": 25,
   "metadata": {},
   "outputs": [
    {
     "data": {
      "image/png": "[encoded data removed]",
      "text/plain": [
       "<Figure size 432x288 with 1 Axes>"
      ]
     },
     "metadata": {
      "needs_background": "light"
     },
     "output_type": "display_data"
    }
   ],
   "source": [
    "plt.plot(Xtrain, Ttrain, 'o', label='Train')\n",
    "plt.plot(Xtest, Ttest, 'o', label='Test')\n",
    "plt.legend();"
   ]
  },
  {
   "cell_type": "markdown",
   "metadata": {},
   "source": [
    "Here are some example outputs that should be returned from these functions."
   ]
  },
  {
   "cell_type": "code",
   "execution_count": 26,
   "metadata": {},
   "outputs": [
    {
     "data": {
      "image/png": "[encoded data removed]",
      "text/plain": [
       "<Figure size 432x288 with 1 Axes>"
      ]
     },
     "metadata": {
      "needs_background": "light"
     },
     "output_type": "display_data"
    }
   ],
   "source": [
    "X = np.arange(5).reshape(-1, 1)\n",
    "T = (X - 2) ** 3\n",
    "plt.plot(X, T, 'o');"
   ]
  },
  {
   "cell_type": "code",
   "execution_count": 27,
   "metadata": {},
   "outputs": [
    {
     "data": {
      "text/plain": [
       "{'Xmeans': array([2.]),\n",
       " 'Xstds': array([1.41421356]),\n",
       " 'Tmeans': array([0.]),\n",
       " 'Tstds': array([5.09901951])}"
      ]
     },
     "execution_count": 27,
     "metadata": {},
     "output_type": "execute_result"
    }
   ],
   "source": [
    "stand_parms = calc_standardize_parameters(X, T)\n",
    "stand_parms"
   ]
  },
  {
   "cell_type": "code",
   "execution_count": 28,
   "metadata": {},
   "outputs": [
    {
     "data": {
      "text/plain": [
       "[array([[-0.17742707,  0.63740628],\n",
       "        [ 0.32808898,  0.13952417]]),\n",
       " array([[-0.39719546, -0.39722331, -0.51028109],\n",
       "        [ 0.42282379,  0.11675756,  0.24026152],\n",
       "        [-0.55358134,  0.54260516,  0.3838717 ]]),\n",
       " array([[-0.28766089],\n",
       "        [-0.31817503],\n",
       "        [-0.31659549],\n",
       "        [-0.19575776]])]"
      ]
     },
     "execution_count": 28,
     "metadata": {},
     "output_type": "execute_result"
    }
   ],
   "source": [
    "np.random.seed(42) \n",
    "\n",
    "# Set the random number generator seed so same weight values are generated each time.\n",
    "n_inputs = 1\n",
    "n_hiddens_list = [2,3]\n",
    "n_outputs = 1\n",
    "Ws = make_weights(n_inputs, n_hiddens_list, n_outputs)\n",
    "Ws"
   ]
  },
  {
   "cell_type": "code",
   "execution_count": 29,
   "metadata": {},
   "outputs": [
    {
     "data": {
      "text/plain": [
       "(5, 1)"
      ]
     },
     "execution_count": 29,
     "metadata": {},
     "output_type": "execute_result"
    }
   ],
   "source": [
    "Xst = standardize_X(X, stand_parms)\n",
    "Xst.shape"
   ]
  },
  {
   "cell_type": "code",
   "execution_count": 30,
   "metadata": {},
   "outputs": [
    {
     "data": {
      "text/plain": [
       "[array([[-0.56586221,  0.41371847],\n",
       "        [-0.38798095,  0.49203951],\n",
       "        [-0.17558839,  0.56313093],\n",
       "        [ 0.05451278,  0.6267617 ],\n",
       "        [ 0.27896633,  0.68300402]]),\n",
       " array([[-0.69907152, -0.23436786, -0.45216727],\n",
       "        [-0.68241869, -0.17375875, -0.39238667],\n",
       "        [-0.65452655, -0.11169878, -0.32416858],\n",
       "        [-0.61759623, -0.05073081, -0.25110112],\n",
       "        [-0.57659057,  0.00594955, -0.17911703]]),\n",
       " array([[ 0.09748127],\n",
       "        [ 0.06129167],\n",
       "        [ 0.01941496],\n",
       "        [-0.02594105],\n",
       "        [-0.07102422]])]"
      ]
     },
     "execution_count": 30,
     "metadata": {},
     "output_type": "execute_result"
    }
   ],
   "source": [
    "forward(Xst, Ws)"
   ]
  },
  {
   "cell_type": "code",
   "execution_count": 31,
   "metadata": {},
   "outputs": [
    {
     "data": {
      "text/plain": [
       "array([[-1.56892908],\n",
       "       [-0.19611614],\n",
       "       [ 0.        ],\n",
       "       [ 0.19611614],\n",
       "       [ 1.56892908]])"
      ]
     },
     "execution_count": 31,
     "metadata": {},
     "output_type": "execute_result"
    }
   ],
   "source": [
    "Tst = standardize_T(T, stand_parms)\n",
    "Tst"
   ]
  },
  {
   "cell_type": "code",
   "execution_count": 32,
   "metadata": {},
   "outputs": [
    {
     "data": {
      "text/plain": [
       "[array([[ 0.02036822, -0.01636089],\n",
       "        [ 0.12862245,  0.0892945 ]]),\n",
       " array([[0.01472725, 0.00112042, 0.00918263],\n",
       "        [0.05411053, 0.09250499, 0.05057852],\n",
       "        [0.02592358, 0.02999365, 0.02150022]]),\n",
       " array([[ 0.01624453],\n",
       "        [-0.05411685],\n",
       "        [-0.08718807],\n",
       "        [-0.10225819]])]"
      ]
     },
     "execution_count": 32,
     "metadata": {},
     "output_type": "execute_result"
    }
   ],
   "source": [
    "backward(Xst, Tst, Ws)"
   ]
  },
  {
   "cell_type": "code",
   "execution_count": 33,
   "metadata": {},
   "outputs": [
    {
     "data": {
      "text/plain": [
       "[array([[-0.56586221,  0.41371847],\n",
       "        [-0.38798095,  0.49203951],\n",
       "        [-0.17558839,  0.56313093],\n",
       "        [ 0.05451278,  0.6267617 ],\n",
       "        [ 0.27896633,  0.68300402]]),\n",
       " array([[-0.69907152, -0.23436786, -0.45216727],\n",
       "        [-0.68241869, -0.17375875, -0.39238667],\n",
       "        [-0.65452655, -0.11169878, -0.32416858],\n",
       "        [-0.61759623, -0.05073081, -0.25110112],\n",
       "        [-0.57659057,  0.00594955, -0.17911703]]),\n",
       " array([[ 0.49705891],\n",
       "        [ 0.31252744],\n",
       "        [ 0.09899728],\n",
       "        [-0.13227391],\n",
       "        [-0.36215388]])]"
      ]
     },
     "execution_count": 33,
     "metadata": {},
     "output_type": "execute_result"
    }
   ],
   "source": [
    "use(X, Ws, stand_parms)"
   ]
  },
  {
   "cell_type": "code",
   "execution_count": 171,
   "metadata": {},
   "outputs": [
    {
     "name": "stdout",
     "output_type": "stream",
     "text": [
      "RMSE: Train 0.18 Test 0.29\n"
     ]
    },
    {
     "data": {
      "image/png": "[encoded data removed]",
      "text/plain": [
       "<Figure size 432x288 with 1 Axes>"
      ]
     },
     "metadata": {
      "needs_background": "light"
     },
     "output_type": "display_data"
    }
   ],
   "source": [
    "n_inputs = Xtrain.shape[1]\n",
    "n_hiddens_list = [2,3]\n",
    "n_outputs = Ttrain.shape[1]\n",
    "\n",
    "n_epochs = 2000\n",
    "learning_rate = 0.1\n",
    "results1=[]\n",
    "Ws = make_weights(n_inputs, n_hiddens_list, n_outputs)\n",
    "Ws, stand_parms, error_trace = train_sgd(Xtrain, Ttrain,Ws,learning_rate, n_epochs)\n",
    "\n",
    "Ytrain = use(Xtrain, Ws,stand_parms)  # \n",
    "rmse_train = rmse(Ytrain[-1], Ttrain)\n",
    "Ytest = use(Xtest, Ws,stand_parms)\n",
    "rmse_test = rmse(Ytest[-1], Ttest)\n",
    "\n",
    "results1.append(Ytrain[0][-1])\n",
    "results1.append(Ytrain[1][-1])\n",
    "\n",
    "plt.figure(0)\n",
    "plt.plot(Xtrain, Ttrain,'o', label='Training Data')\n",
    "plt.plot(Xtrain, Ytrain[-1], label='Neural Net Output')\n",
    "\n",
    "print(f'RMSE: Train {rmse_train:.2f} Test {rmse_test:.2f}')"
   ]
  },
  {
   "cell_type": "code",
   "execution_count": 172,
   "metadata": {},
   "outputs": [
    {
     "data": {
      "text/html": [
       "<table border=\"1\" class=\"dataframe\">\n",
       "  <thead>\n",
       "    <tr style=\"text-align: right;\">\n",
       "      <th></th>\n",
       "      <th>0</th>\n",
       "      <th>1</th>\n",
       "      <th>2</th>\n",
       "    </tr>\n",
       "  </thead>\n",
       "  <tbody>\n",
       "    <tr>\n",
       "      <th>0</th>\n",
       "      <td>0.915960</td>\n",
       "      <td>0.985248</td>\n",
       "      <td>NaN</td>\n",
       "    </tr>\n",
       "    <tr>\n",
       "      <th>1</th>\n",
       "      <td>0.949004</td>\n",
       "      <td>0.480416</td>\n",
       "      <td>0.33198</td>\n",
       "    </tr>\n",
       "  </tbody>\n",
       "</table>"
      ],
      "text/plain": [
       "<IPython.core.display.HTML object>"
      ]
     },
     "metadata": {},
     "output_type": "display_data"
    }
   ],
   "source": [
    "from IPython.display import display, HTML\n",
    "\n",
    "df = pandas.DataFrame(results1)\n",
    "display(HTML(df.to_html()))\n"
   ]
  },
  {
   "cell_type": "code",
   "execution_count": 173,
   "metadata": {},
   "outputs": [
    {
     "data": {
      "text/plain": [
       "<Figure size 432x288 with 0 Axes>"
      ]
     },
     "metadata": {},
     "output_type": "display_data"
    },
    {
     "data": {
      "image/png": "[encoded data removed]",
      "text/plain": [
       "<Figure size 432x288 with 1 Axes>"
      ]
     },
     "metadata": {
      "needs_background": "light"
     },
     "output_type": "display_data"
    }
   ],
   "source": [
    "plt.figure();\n",
    "df.plot();"
   ]
  },
  {
   "cell_type": "markdown",
   "metadata": {},
   "source": [
    "Test your functions on the same one-dimensional data defined above as `Xtrain, Ttrain` and `Xtest, Ttest` shown above.  Try your code using two hidden layers of as many units in each layer as you wish.  Plot the results, including an additional plot to show the outputs of each of the two hidden layers.\n",
    "\n",
    "Write a for loop to create and train neural nets containing one, two, three and four hidden layers each with 4 hidden units. Train each for 10,000 epochs and a learning rate of 0.1. Collect list of results with each result being a list containing the number of layers and the RMSE for training and testing data.\n",
    "\n",
    "Print a pretty table of your results be creating a `pandas` DataFrame of the results list (of lists). Discuss the results."
   ]
  },
  {
   "cell_type": "code",
   "execution_count": 158,
   "metadata": {},
   "outputs": [
    {
     "data": {
      "text/plain": [
       "1"
      ]
     },
     "execution_count": 158,
     "metadata": {},
     "output_type": "execute_result"
    }
   ],
   "source": []
  },
  {
   "cell_type": "code",
   "execution_count": 108,
   "metadata": {},
   "outputs": [
    {
     "data": {
      "image/png": "[encoded data removed]",
      "text/plain": [
       "<Figure size 432x288 with 1 Axes>"
      ]
     },
     "metadata": {
      "needs_background": "light"
     },
     "output_type": "display_data"
    },
    {
     "data": {
      "image/png": "[encoded data removed]",
      "text/plain": [
       "<Figure size 432x288 with 1 Axes>"
      ]
     },
     "metadata": {
      "needs_background": "light"
     },
     "output_type": "display_data"
    },
    {
     "data": {
      "image/png": "[encoded data removed]",
      "text/plain": [
       "<Figure size 432x288 with 1 Axes>"
      ]
     },
     "metadata": {
      "needs_background": "light"
     },
     "output_type": "display_data"
    },
    {
     "data": {
      "image/png": "[encoded data removed]",
      "text/plain": [
       "<Figure size 432x288 with 1 Axes>"
      ]
     },
     "metadata": {
      "needs_background": "light"
     },
     "output_type": "display_data"
    }
   ],
   "source": [
    "\n",
    "n_hiddens_list = [[4],[4,4],[4,4,4],[4,4,4,4]]\n",
    "\n",
    "n_inputs = Xtrain.shape[1]\n",
    "n_outputs = Ttrain.shape[1]\n",
    "learning_rate =0.1\n",
    "n_epochs = 10000\n",
    "\n",
    "results = []\n",
    "train_results =[]\n",
    "test_results =[]\n",
    "for i in range(len(n_hiddens_list)):\n",
    "    j =1\n",
    "    Ws=make_weights(n_inputs,n_hiddens_list[i],n_outputs)\n",
    "    Ws, stand_parms, error_trace = train_sgd(Xtrain,Ttrain,Ws,learning_rate, n_epochs)\n",
    "    Ytrain = use(Xtrain, Ws,stand_parms) \n",
    "    rmse_train = rmse(Ytrain[-1], Ttrain)\n",
    "    Ytest = use(Xtest, Ws,stand_parms)\n",
    "    rmse_test = rmse(Ytest[-1], Ttest)\n",
    "    results.append([i,rmse_train,rmse_test])\n",
    "    train_results.append([i,Xtrain,Ttrain,Ytrain])\n",
    "    test_results.append([i,Xtest,Ttest,Ytest])\n",
    "    plt.figure(i)\n",
    "    plt.plot(Xtrain, Ttrain, 'o', label='Training Data')\n",
    "    plt.plot(Xtrain, Ytrain[-1], label='Neural Net Output')\n",
    "\n",
    "    "
   ]
  },
  {
   "cell_type": "markdown",
   "metadata": {},
   "source": [
    "## OBSERVATION\n",
    "\n",
    "1. The training using [4] hidden layers give better output than the other hidden layer configuration.\n",
    "2. The Rmse value during training was lower than in testing which is a classic sign of the model overfitting.\n",
    "3. As the Layers increases Rmse  also increase both for the test and train data. May be switching to a more better configuration can give better results. \n",
    "4. tHE R=TRAIN DATA DOESNOT FIT IN MOST OF THE TESTING CASE WHICH SHOWS POOR PERFORMACE OF THE BETWORK. \\\n",
    "5. THE NETWORK WAS LESS INTRUTIVE\n"
   ]
  },
  {
   "cell_type": "code",
   "execution_count": 91,
   "metadata": {},
   "outputs": [
    {
     "data": {
      "text/html": [
       "<div>\n",
       "<style scoped>\n",
       "    .dataframe tbody tr th:only-of-type {\n",
       "        vertical-align: middle;\n",
       "    }\n",
       "\n",
       "    .dataframe tbody tr th {\n",
       "        vertical-align: top;\n",
       "    }\n",
       "\n",
       "    .dataframe thead th {\n",
       "        text-align: right;\n",
       "    }\n",
       "</style>\n",
       "<table border=\"1\" class=\"dataframe\">\n",
       "  <thead>\n",
       "    <tr style=\"text-align: right;\">\n",
       "      <th></th>\n",
       "      <th>Layers</th>\n",
       "      <th>RMSE Train</th>\n",
       "      <th>RMSE Test</th>\n",
       "    </tr>\n",
       "  </thead>\n",
       "  <tbody>\n",
       "    <tr>\n",
       "      <th>0</th>\n",
       "      <td>0</td>\n",
       "      <td>0.141119</td>\n",
       "      <td>0.245539</td>\n",
       "    </tr>\n",
       "    <tr>\n",
       "      <th>1</th>\n",
       "      <td>1</td>\n",
       "      <td>0.157432</td>\n",
       "      <td>0.291636</td>\n",
       "    </tr>\n",
       "    <tr>\n",
       "      <th>2</th>\n",
       "      <td>2</td>\n",
       "      <td>0.145526</td>\n",
       "      <td>0.263625</td>\n",
       "    </tr>\n",
       "    <tr>\n",
       "      <th>3</th>\n",
       "      <td>3</td>\n",
       "      <td>0.156171</td>\n",
       "      <td>0.314288</td>\n",
       "    </tr>\n",
       "  </tbody>\n",
       "</table>\n",
       "</div>"
      ],
      "text/plain": [
       "   Layers  RMSE Train  RMSE Test\n",
       "0       0    0.141119   0.245539\n",
       "1       1    0.157432   0.291636\n",
       "2       2    0.145526   0.263625\n",
       "3       3    0.156171   0.314288"
      ]
     },
     "execution_count": 91,
     "metadata": {},
     "output_type": "execute_result"
    }
   ],
   "source": [
    "import pandas\n",
    "df = pandas.DataFrame(results, columns=('Layers', 'RMSE Train', 'RMSE Test'))\n",
    "df\n"
   ]
  },
  {
   "cell_type": "code",
   "execution_count": 92,
   "metadata": {},
   "outputs": [
    {
     "data": {
      "text/plain": [
       "<Figure size 432x288 with 0 Axes>"
      ]
     },
     "metadata": {},
     "output_type": "display_data"
    },
    {
     "data": {
      "image/png": "[encoded data removed]",
      "text/plain": [
       "<Figure size 432x288 with 1 Axes>"
      ]
     },
     "metadata": {
      "needs_background": "light"
     },
     "output_type": "display_data"
    }
   ],
   "source": [
    "plt.figure();\n",
    "df.plot();"
   ]
  },
  {
   "cell_type": "code",
   "execution_count": 93,
   "metadata": {},
   "outputs": [
    {
     "data": {
      "text/html": [
       "<div>\n",
       "<style scoped>\n",
       "    .dataframe tbody tr th:only-of-type {\n",
       "        vertical-align: middle;\n",
       "    }\n",
       "\n",
       "    .dataframe tbody tr th {\n",
       "        vertical-align: top;\n",
       "    }\n",
       "\n",
       "    .dataframe thead th {\n",
       "        text-align: right;\n",
       "    }\n",
       "</style>\n",
       "<table border=\"1\" class=\"dataframe\">\n",
       "  <thead>\n",
       "    <tr style=\"text-align: right;\">\n",
       "      <th></th>\n",
       "      <th>Layers</th>\n",
       "      <th>XTrain</th>\n",
       "      <th>Ttrain</th>\n",
       "      <th>Ytrain</th>\n",
       "    </tr>\n",
       "  </thead>\n",
       "  <tbody>\n",
       "    <tr>\n",
       "      <th>0</th>\n",
       "      <td>0</td>\n",
       "      <td>[[0.0], [0.6896551724137931], [1.3793103448275...</td>\n",
       "      <td>[[0.17517352222366808], [0.5177646893436416], ...</td>\n",
       "      <td>[[[0.1315194069504299, -0.933312670556079, 0.9...</td>\n",
       "    </tr>\n",
       "    <tr>\n",
       "      <th>1</th>\n",
       "      <td>1</td>\n",
       "      <td>[[0.0], [0.6896551724137931], [1.3793103448275...</td>\n",
       "      <td>[[0.17517352222366808], [0.5177646893436416], ...</td>\n",
       "      <td>[[[0.9966655423043042, 0.999747230511451, 0.98...</td>\n",
       "    </tr>\n",
       "    <tr>\n",
       "      <th>2</th>\n",
       "      <td>2</td>\n",
       "      <td>[[0.0], [0.6896551724137931], [1.3793103448275...</td>\n",
       "      <td>[[0.17517352222366808], [0.5177646893436416], ...</td>\n",
       "      <td>[[[0.977657195348771, -0.8733450607913118, -0....</td>\n",
       "    </tr>\n",
       "    <tr>\n",
       "      <th>3</th>\n",
       "      <td>3</td>\n",
       "      <td>[[0.0], [0.6896551724137931], [1.3793103448275...</td>\n",
       "      <td>[[0.17517352222366808], [0.5177646893436416], ...</td>\n",
       "      <td>[[[-0.9811914480402186, -0.9885444683649226, 0...</td>\n",
       "    </tr>\n",
       "  </tbody>\n",
       "</table>\n",
       "</div>"
      ],
      "text/plain": [
       "   Layers                                             XTrain  \\\n",
       "0       0  [[0.0], [0.6896551724137931], [1.3793103448275...   \n",
       "1       1  [[0.0], [0.6896551724137931], [1.3793103448275...   \n",
       "2       2  [[0.0], [0.6896551724137931], [1.3793103448275...   \n",
       "3       3  [[0.0], [0.6896551724137931], [1.3793103448275...   \n",
       "\n",
       "                                              Ttrain  \\\n",
       "0  [[0.17517352222366808], [0.5177646893436416], ...   \n",
       "1  [[0.17517352222366808], [0.5177646893436416], ...   \n",
       "2  [[0.17517352222366808], [0.5177646893436416], ...   \n",
       "3  [[0.17517352222366808], [0.5177646893436416], ...   \n",
       "\n",
       "                                              Ytrain  \n",
       "0  [[[0.1315194069504299, -0.933312670556079, 0.9...  \n",
       "1  [[[0.9966655423043042, 0.999747230511451, 0.98...  \n",
       "2  [[[0.977657195348771, -0.8733450607913118, -0....  \n",
       "3  [[[-0.9811914480402186, -0.9885444683649226, 0...  "
      ]
     },
     "execution_count": 93,
     "metadata": {},
     "output_type": "execute_result"
    }
   ],
   "source": [
    "df = pandas.DataFrame(train_results, columns=('Layers', 'XTrain', 'Ttrain','Ytrain'))\n",
    "df"
   ]
  },
  {
   "cell_type": "code",
   "execution_count": null,
   "metadata": {},
   "outputs": [],
   "source": []
  },
  {
   "cell_type": "code",
   "execution_count": 99,
   "metadata": {},
   "outputs": [
    {
     "name": "stdout",
     "output_type": "stream",
     "text": [
      "RMSE: Train 0.18 Test 0.29\n"
     ]
    }
   ],
   "source": [
    "n_inputs = Xtrain.shape[1]\n",
    "n_hiddens_list = [3]\n",
    "n_outputs = Ttrain.shape[1]\n",
    "\n",
    "n_epochs = 2000\n",
    "learning_rate = 0.1\n",
    "\n",
    "Ws = make_weights(n_inputs, n_hiddens_list, n_outputs)\n",
    "Ws, stand_parms, error_trace = train_sgd(Xtrain, Ttrain,Ws,learning_rate, n_epochs)\n",
    "\n",
    "Ytrain = use(Xtrain, Ws,stand_parms)  # \n",
    "rmse_train = rmse(Ytrain[-1], Ttrain)\n",
    "Ytest = use(Xtest, Ws,stand_parms)\n",
    "rmse_test = rmse(Ytest[-1], Ttest)\n",
    "\n",
    "print(f'RMSE: Train {rmse_train:.2f} Test {rmse_test:.2f}')"
   ]
  },
  {
   "cell_type": "markdown",
   "metadata": {},
   "source": [
    "## Required Part Two\n",
    "\n",
    "Copy and paste here the following functions and rename them as shown.  These new versions will use the asymmetric sigmoid activation function instead of the symmetric one that used `tanh`.  Repeat the above experiments with the one-dimensional data.\n",
    "\n",
    "* `forward` becomes `forward_asig`\n",
    "* `backward` becomes `backward_asig`\n",
    "* `train_sgd` becomes `train_sgd_asig`\n",
    "* `use` becomes `use_asig`"
   ]
  },
  {
   "cell_type": "code",
   "execution_count": 101,
   "metadata": {},
   "outputs": [],
   "source": [
    "def forward_asig(Xst, Ws):\n",
    "    # Calculate the outputs, Z, of all hidden units, given all input samples in X.\n",
    "    temp = 0\n",
    "    temp_list = []\n",
    "    sigmoid_v = np.vectorize(sigmoid)\n",
    "    temp = sigmoid_v(add_ones(Xst) @ Ws[0])\n",
    "    temp_list += [temp]\n",
    "    for i in Ws[1:-1]:\n",
    "        temp = sigmoid_v(add_ones(temp) @ i)\n",
    "        temp_list += [temp]\n",
    "    # Calculate the outputs, Y, of all output units, given all outputs of the hidden units.\n",
    "    temp_list += [add_ones(temp) @ Ws[-1]]\n",
    "    return temp_list\n",
    "\n",
    "def backward_asig(Xst, Tst, Ws):\n",
    "    n_samples = Xst.shape[0]\n",
    "    n_outputs = Tst.shape[1]\n",
    "    \n",
    "    temp_list = forward_asig(Xst,Ws)\n",
    "#     print(len(temp_list))\n",
    "    delta = 0 \n",
    "    backwardlist = []\n",
    "    gradient_V = []\n",
    "    delta = -(Tst - temp_list[-1]) /  (n_samples * n_outputs)\n",
    "    sigmoid_v = np.vectorize(sigmoid)\n",
    "    temp = sigmoid_v(add_ones(Xst) @ Ws[0])\n",
    "    gradient_W = add_ones(temp_list[1]).T @ delta # output layer\n",
    "#   |  print(gradient_W)\n",
    "    for i in range( len(temp_list)-1,1,-1):\n",
    "        \n",
    "        delta = (delta @ Ws[i][1:,:].T) * ( temp_list[i-1] - temp_list[i-1]** 2)\n",
    "        gradient_V +=[add_ones(temp_list[i-2]).T@ delta]\n",
    "        \n",
    "        \n",
    "    \n",
    "    delta=(delta @ Ws[1][1:,:].T) * ( temp_list[0] - temp_list[0]** 2) # top hidden layer\n",
    "    gradient_V.append(add_ones(Xst).T @ delta)\n",
    "#     print(add_ones(Xst).T @ delta)\n",
    "    gradient_V =gradient_V[::-1]\n",
    "    gradient_V.append(gradient_W)\n",
    "    return gradient_V\n",
    "\n",
    "def train_sgd_asig(X, T,Ws, learning_rate, n_epochs):\n",
    "   \n",
    "    \n",
    "    # Store standardization parameters in dictionary stand_parms.\n",
    "    stand_parms = calc_standardize_parameters(X, T)\n",
    "    # Standardize X and T.\n",
    "    Xst = standardize_X(X, stand_parms)\n",
    "    Tst = standardize_T(T, stand_parms)\n",
    "\n",
    "    error_trace = []\n",
    "    \n",
    "    # Update weights for n_epochs passes through the training data\n",
    "    for epoch in range(n_epochs):\n",
    "        gradient_Ws = backward_asig(Xst, Tst, Ws)\n",
    "       \n",
    "       \n",
    "        Ws = [a - (b*learning_rate) for a, b in zip(Ws, gradient_Ws)]\n",
    "  \n",
    "        \n",
    "        Yst = forward_asig(Xst,Ws)\n",
    "        Y = unstandardize_T(Yst[-1], stand_parms)\n",
    "        error_trace.append(rmse(Y, T))\n",
    " \n",
    "    return Ws, stand_parms, error_trace\n",
    "\n",
    "\n",
    "def use_asig(X, Ws, stand_parms):\n",
    "    # Standardize inputs X\n",
    "    Xst = standardize_X(X, stand_parms)\n",
    "    # Calculate outputs of each layer.\n",
    "    temp_list = forward_asig(Xst, Ws)\n",
    "    # Unstandardize output of output layer\n",
    "    z = temp_list[:-1]\n",
    "    z += [unstandardize_T(temp_list[-1], stand_parms)]\n",
    "    return z"
   ]
  },
  {
   "cell_type": "code",
   "execution_count": 102,
   "metadata": {},
   "outputs": [],
   "source": [
    "import math\n",
    "def sigmoid(x):\n",
    "    return 1 / (1 + np.exp(-x))\n",
    "\n",
    "def dsigmoid(s_x):\n",
    "    val = sigmoid(s_x)\n",
    "    return val * (1-val)"
   ]
  },
  {
   "cell_type": "code",
   "execution_count": 103,
   "metadata": {},
   "outputs": [
    {
     "name": "stdout",
     "output_type": "stream",
     "text": [
      "RMSE: Train 1.22 Test 1.21\n"
     ]
    }
   ],
   "source": [
    "n_inputs = Xtrain.shape[1]\n",
    "n_hiddens_list = [2, 3]\n",
    "n_outputs = Ttrain.shape[1]\n",
    "\n",
    "n_epochs = 2000\n",
    "learning_rate = 0.1\n",
    "\n",
    "Ws = make_weights(n_inputs, n_hiddens_list, n_outputs)\n",
    "Ws, stand_parms, error_trace = train_sgd_asig(Xtrain, Ttrain,Ws,learning_rate, n_epochs)\n",
    "\n",
    "Ytrain = use(Xtrain, Ws,stand_parms)  # \n",
    "rmse_train = rmse(Ytrain[-1], Ttrain)\n",
    "Ytest = use(Xtest, Ws,stand_parms)\n",
    "rmse_test = rmse(Ytest[-1], Ttest)\n",
    "\n",
    "print(f'RMSE: Train {rmse_train:.2f} Test {rmse_test:.2f}')\n",
    "\n"
   ]
  },
  {
   "cell_type": "markdown",
   "metadata": {},
   "source": [
    "\n",
    "## OBSERVATION\n",
    "\n",
    "the sigmoid and Tanh function whjen trained using the following parameters :\n",
    "\n",
    "n_inputs = Xtrain.shape[1]\n",
    "n_hiddens_list = [2, 3]\n",
    "n_outputs = Ttrain.shape[1]\n",
    "\n",
    "n_epochs = 2000\n",
    "learning_rate = 0.1\n",
    "\n",
    "gave the rsme as follows:\n",
    "\n",
    "Tanh: RMSE: Train 0.18 Test 0.30\n",
    "Sigmoid: RMSE: Train 1.22 Test 1.21\n",
    "\n",
    "As u can see sigmoids performance is poor when compared to Tanh. \n"
   ]
  },
  {
   "cell_type": "markdown",
   "metadata": {},
   "source": [
    "# Grading\n",
    "\n",
    "Your notebook will be run and graded automatically. Test this grading process by first downloading [A2grader.tar](http://www.cs.colostate.edu/~anderson/cs545/notebooks/A2grader.tar) and extract `A2grader.py` from it. Run the code in the following cell to demonstrate an example grading session.  The remaining 40 points will be based on other testing and the results you obtain and your discussions. \n",
    "\n",
    "\n",
    "A different, but similar, grading script will be used to grade your checked-in notebook. It will include additional tests. You should design and perform additional tests on all of your functions to be sure they run correctly before checking in your notebook.  \n",
    "\n",
    "For the grading script to run correctly, you must first name this notebook as 'Lastname-A2.ipynb' with 'Lastname' being your last name, and then save this notebook."
   ]
  },
  {
   "cell_type": "code",
   "execution_count": 105,
   "metadata": {},
   "outputs": [
    {
     "name": "stdout",
     "output_type": "stream",
     "text": [
      "\n",
      "======================= Code Execution =======================\n",
      "\n",
      "Extracting python code from notebook named 'Balasubramaniam-A2.ipynb' and storing in notebookcode.py\n",
      "Removing all statements that are not function or class defs or import statements.\n",
      "\n",
      "## Testing ####################################################################\n",
      "\n",
      "    X = np.arange(4).reshape(-1, 1) + 5\n",
      "    T = np.array([1, 2, -3, -4]).reshape((-1, 1))\n",
      "    Ws = make_weights(1, [3, 4], 1)\n",
      "    for W in Ws:\n",
      "        W[:] = np.linspace(-1, 1, W.size).reshape(W.shape)\n",
      "\n",
      "    stand_parms = {'Xmeans': np.array([[0]]), 'Xstds': np.array([[1]]),\n",
      "                   'Tmeans': np.array([[0]]), 'Tstds': np.array([[1]])}\n",
      "\n",
      "    def print_layers(what, lst):\n",
      "        print(f'{what}:')\n",
      "        for (i, element) in enumerate(lst):\n",
      "            print(f' Layer {i}:')\n",
      "            print(f' {element}')\n",
      "\n",
      "    print('X is')\n",
      "    print(X)\n",
      "    print_layers('Ws', Ws)\n",
      "    print('stand_parms is')\n",
      "    print(stand_parms)\n",
      "    Ys = use(X, Ws, stand_parms)\n",
      "\n",
      "X is\n",
      " [[5]\n",
      " [6]\n",
      " [7]\n",
      " [8]]\n",
      "Ws:\n",
      " Layer 0:\n",
      " [[-1.  -0.6 -0.2]\n",
      " [ 0.2  0.6  1. ]]\n",
      " Layer 1:\n",
      " [[-1.         -0.86666667 -0.73333333 -0.6       ]\n",
      " [-0.46666667 -0.33333333 -0.2        -0.06666667]\n",
      " [ 0.06666667  0.2         0.33333333  0.46666667]\n",
      " [ 0.6         0.73333333  0.86666667  1.        ]]\n",
      " Layer 2:\n",
      " [[-1. ]\n",
      " [-0.5]\n",
      " [ 0. ]\n",
      " [ 0.5]\n",
      " [ 1. ]]\n",
      "stand_parms is\n",
      " {'Xmeans': array([[0]]), 'Xstds': array([[1]]), 'Tmeans': array([[0]]), 'Tstds': array([[1]])}\n",
      "\n",
      "--- 10/10 points. Returned correct values in Ys.\n",
      "\n",
      "## Testing ####################################################################\n",
      "\n",
      "    X = np.arange(4).reshape(-1, 1) + 5\n",
      "    T = np.array([1, 2, -3, -4]).reshape((-1, 1))\n",
      "    Ws = make_weights(1, [3, 4], 1)\n",
      "    for W in Ws:\n",
      "        W[:] = np.linspace(-1, 1, W.size).reshape(W.shape)\n",
      "\n",
      "    stand_parms = {'Xmeans': np.array([[0]]), 'Xstds': np.array([[1]]),\n",
      "                   'Tmeans': np.array([[0]]), 'Tstds': np.array([[1]])}\n",
      "    print('X is')\n",
      "    print(X)\n",
      "    print('T is')\n",
      "    print(T)\n",
      "    print_layers('Ws', Ws)\n",
      "    print('stand_parms is')\n",
      "    print(stand_parms)\n",
      "    gradients = backward(X, T, Ws)\n",
      "\n",
      "X is\n",
      " [[5]\n",
      " [6]\n",
      " [7]\n",
      " [8]]\n",
      "T is\n",
      " [[ 1]\n",
      " [ 2]\n",
      " [-3]\n",
      " [-4]]\n",
      "Ws:\n",
      " Layer 0:\n",
      " [[-1.  -0.6 -0.2]\n",
      " [ 0.2  0.6  1. ]]\n",
      " Layer 1:\n",
      " [[-1.         -0.86666667 -0.73333333 -0.6       ]\n",
      " [-0.46666667 -0.33333333 -0.2        -0.06666667]\n",
      " [ 0.06666667  0.2         0.33333333  0.46666667]\n",
      " [ 0.6         0.73333333  0.86666667  1.        ]]\n",
      " Layer 2:\n",
      " [[-1. ]\n",
      " [-0.5]\n",
      " [ 0. ]\n",
      " [ 0.5]\n",
      " [ 1. ]]\n",
      "stand_parms is\n",
      " {'Xmeans': array([[0]]), 'Xstds': array([[1]]), 'Tmeans': array([[0]]), 'Tstds': array([[1]])}\n",
      "\n",
      "--- 10/10 points. Returned correct values in gradients.\n",
      "\n",
      "## Testing ####################################################################\n",
      "\n",
      "    X = np.arange(4).reshape(-1, 1) + 5\n",
      "    T = np.array([1, 2, -3, -4]).reshape((-1, 1))\n",
      "    Ws = make_weights(1, [3, 4], 1)\n",
      "    for W in Ws:\n",
      "        W[:] = np.linspace(-1, 1, W.size).reshape(W.shape)\n",
      "\n",
      "    stand_parms = {'Xmeans': np.array([[0]]), 'Xstds': np.array([[1]]),\n",
      "                   'Tmeans': np.array([[0]]), 'Tstds': np.array([[1]])}\n",
      "\n",
      "    print('X is')\n",
      "    print(X)\n",
      "    print_layers('Ws', Ws)\n",
      "    print('stand_parms is')\n",
      "    print(stand_parms)\n",
      "    Ys = use_asig(X, Ws, stand_parms)\n",
      "\n",
      "X is\n",
      " [[5]\n",
      " [6]\n",
      " [7]\n",
      " [8]]\n",
      "Ws:\n",
      " Layer 0:\n",
      " [[-1.  -0.6 -0.2]\n",
      " [ 0.2  0.6  1. ]]\n",
      " Layer 1:\n",
      " [[-1.         -0.86666667 -0.73333333 -0.6       ]\n",
      " [-0.46666667 -0.33333333 -0.2        -0.06666667]\n",
      " [ 0.06666667  0.2         0.33333333  0.46666667]\n",
      " [ 0.6         0.73333333  0.86666667  1.        ]]\n",
      " Layer 2:\n",
      " [[-1. ]\n",
      " [-0.5]\n",
      " [ 0. ]\n",
      " [ 0.5]\n",
      " [ 1. ]]\n",
      "stand_parms is\n",
      " {'Xmeans': array([[0]]), 'Xstds': array([[1]]), 'Tmeans': array([[0]]), 'Tstds': array([[1]])}\n",
      "\n",
      "--- 10/10 points. Returned correct values in Ys.\n",
      "\n",
      "## Testing ####################################################################\n",
      "\n",
      "    X = np.arange(4).reshape(-1, 1) + 5\n",
      "    T = np.array([1, 2, -3, -4]).reshape((-1, 1))\n",
      "    Ws = make_weights(1, [3, 4], 1)\n",
      "    for W in Ws:\n",
      "        W[:] = np.linspace(-1, 1, W.size).reshape(W.shape)\n",
      "\n",
      "    stand_parms = {'Xmeans': np.array([[0]]), 'Xstds': np.array([[1]]),\n",
      "                   'Tmeans': np.array([[0]]), 'Tstds': np.array([[1]])}\n",
      "    print('X is')\n",
      "    print(X)\n",
      "    print('T is')\n",
      "    print(T)\n",
      "    print_layers('Ws', Ws)\n",
      "    print('stand_parms is')\n",
      "    print(stand_parms)\n",
      "\n",
      "    gradients = backward_asig(X, T, Ws)\n",
      "\n",
      "X is\n",
      " [[5]\n",
      " [6]\n",
      " [7]\n",
      " [8]]\n",
      "T is\n",
      " [[ 1]\n",
      " [ 2]\n",
      " [-3]\n",
      " [-4]]\n",
      "Ws:\n",
      " Layer 0:\n",
      " [[-1.  -0.6 -0.2]\n",
      " [ 0.2  0.6  1. ]]\n",
      " Layer 1:\n",
      " [[-1.         -0.86666667 -0.73333333 -0.6       ]\n",
      " [-0.46666667 -0.33333333 -0.2        -0.06666667]\n",
      " [ 0.06666667  0.2         0.33333333  0.46666667]\n",
      " [ 0.6         0.73333333  0.86666667  1.        ]]\n",
      " Layer 2:\n",
      " [[-1. ]\n",
      " [-0.5]\n",
      " [ 0. ]\n",
      " [ 0.5]\n",
      " [ 1. ]]\n",
      "stand_parms is\n",
      " {'Xmeans': array([[0]]), 'Xstds': array([[1]]), 'Tmeans': array([[0]]), 'Tstds': array([[1]])}\n",
      "\n",
      "--- 10/10 points. Returned correct values in gradients.\n",
      "\n",
      "## Testing ####################################################################\n",
      "\n",
      "    X = np.arange(4).reshape(-1, 1) + 5\n",
      "    T = np.array([1, 2, -3, -4]).reshape((-1, 1))\n",
      "    Ws = make_weights(1, [3, 4], 1)\n",
      "    for W in Ws:\n",
      "        W[:] = np.linspace(-1, 1, W.size).reshape(W.shape)\n",
      "    print('X is')\n",
      "    print(X)\n",
      "    print('T is')\n",
      "    print(T)\n",
      "    print_layers('Ws is', Ws)\n",
      "\n",
      "    Ws, stand_parms, error_trace = train_sgd_asig(X, T, Ws, 0.1, 100)\n",
      "\n",
      "X is\n",
      " [[5]\n",
      " [6]\n",
      " [7]\n",
      " [8]]\n",
      "T is\n",
      " [[ 1]\n",
      " [ 2]\n",
      " [-3]\n",
      " [-4]]\n",
      "Ws is:\n",
      " Layer 0:\n",
      " [[-1.  -0.6 -0.2]\n",
      " [ 0.2  0.6  1. ]]\n",
      " Layer 1:\n",
      " [[-1.         -0.86666667 -0.73333333 -0.6       ]\n",
      " [-0.46666667 -0.33333333 -0.2        -0.06666667]\n",
      " [ 0.06666667  0.2         0.33333333  0.46666667]\n",
      " [ 0.6         0.73333333  0.86666667  1.        ]]\n",
      " Layer 2:\n",
      " [[-1. ]\n",
      " [-0.5]\n",
      " [ 0. ]\n",
      " [ 0.5]\n",
      " [ 1. ]]\n",
      "\n",
      "--- 10/10 points. Returned correct values in Ws.\n",
      "\n",
      "--- 10/10 points. Returned correct final error in error_trace.\n",
      "\n",
      "======================================================================\n",
      "a2 backup Execution Grade is 60 / 60\n",
      "======================================================================\n",
      "\n",
      "__ / 10 points. Correct implementation of for loop to train neural nets with one, two, three\n",
      "                and four hidden layers each with 4 hidden units. Train each for 10,000 epochs\n",
      "                and a learning rate of 0.1.\n",
      "\n",
      "__ / 10 points. Construction of pandas Dataframe to display results of above four loop.\n",
      "\n",
      "__ / 10 points. Good discussion of the results from the four loop.  Use at least four sentences.\n",
      "\n",
      "__ / 10 points. Good discussion of results you get with the above loop using the asymmetric sigmoid\n",
      "                activation function.  Use at least six sentences.  In your discussion, compare differences\n",
      "                and similarities between the results for tanh and asymmetric sigmoid.\n",
      "\n",
      "======================================================================\n",
      "a2 backup Results and Discussion Grade is ___ / 40\n",
      "======================================================================\n",
      "\n",
      "======================================================================\n",
      "a2 backup FINAL GRADE is  _  / 100\n",
      "======================================================================\n"
     ]
    }
   ],
   "source": [
    "%run -i A2grader.py\n",
    "\n"
   ]
  },
  {
   "cell_type": "markdown",
   "metadata": {},
   "source": [
    "# Check-In\n",
    "\n",
    "Do not include this section in your notebook.\n",
    "\n",
    "Name your notebook ```Lastname-A2.ipynb```.  So, for me it would be ```Anderson-A2.ipynb```.  Submit the file using the ```Assignment 2``` link on [Canvas](https://colostate.instructure.com/courses/109894)."
   ]
  },
  {
   "cell_type": "markdown",
   "metadata": {},
   "source": [
    "# Extra Credit\n",
    "\n",
    "Apply your multilayer neural network code to a regression problem using data that you choose \n",
    "from the [UCI Machine Learning Repository](http://archive.ics.uci.edu/ml/datasets.php). Pick a dataset that\n",
    "is listed as being appropriate for regression."
   ]
  }
 ],
 "metadata": {
  "kernelspec": {
   "display_name": "Python 3",
   "language": "python",
   "name": "python3"
  },
  "language_info": {
   "codemirror_mode": {
    "name": "ipython",
    "version": 3
   },
   "file_extension": ".py",
   "mimetype": "text/x-python",
   "name": "python",
   "nbconvert_exporter": "python",
   "pygments_lexer": "ipython3",
   "version": "3.8.3"
  },
  "toc": {
   "base_numbering": 1,
   "nav_menu": {},
   "number_sections": true,
   "sideBar": true,
   "skip_h1_title": false,
   "title_cell": "Table of Contents",
   "title_sidebar": "Contents",
   "toc_cell": true,
   "toc_position": {},
   "toc_section_display": true,
   "toc_window_display": false
  }
 },
 "nbformat": 4,
 "nbformat_minor": 4
}
