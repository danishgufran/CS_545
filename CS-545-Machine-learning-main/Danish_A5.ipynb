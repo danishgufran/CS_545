{
 "cells": [
  {
   "cell_type": "markdown",
   "metadata": {
    "toc": true
   },
   "source": [
    "<h1>Table of Contents<span class=\"tocSkip\"></span></h1>\n",
    "<div class=\"toc\"><ul class=\"toc-item\"><li><span><a href=\"#Neural-Network-Classes\" data-toc-modified-id=\"Neural-Network-Classes-1\"><span class=\"toc-item-num\">1&nbsp;&nbsp;</span>Neural Network Classes</a></span></li><li><span><a href=\"#Additional-Required-Functions\" data-toc-modified-id=\"Additional-Required-Functions-2\"><span class=\"toc-item-num\">2&nbsp;&nbsp;</span>Additional Required Functions</a></span></li><li><span><a href=\"#Application-to-Three-Data-Sets\" data-toc-modified-id=\"Application-to-Three-Data-Sets-3\"><span class=\"toc-item-num\">3&nbsp;&nbsp;</span>Application to Three Data Sets</a></span></li><li><span><a href=\"#Grading\" data-toc-modified-id=\"Grading-4\"><span class=\"toc-item-num\">4&nbsp;&nbsp;</span>Grading</a></span></li><li><span><a href=\"#Extra-Credit\" data-toc-modified-id=\"Extra-Credit-5\"><span class=\"toc-item-num\">5&nbsp;&nbsp;</span>Extra Credit</a></span></li></ul></div>"
   ]
  },
  {
   "cell_type": "markdown",
   "metadata": {},
   "source": [
    "<font size=10>Neural Networks in Pytorch</font>"
   ]
  },
  {
   "cell_type": "markdown",
   "metadata": {},
   "source": [
    "In this assignment, you will\n",
    "1. complete the implementations of neural network classes,\n",
    "2. define the new function `multiple_runs_classification`,\n",
    "3. define the new function `multiple_runs_convolutional`,\n",
    "4. copy and paste `percent_correct` and `confusion_matrx` from previous notes,\n",
    "4. present and discuss regression results on automobile MPG data,\n",
    "5. present and discuss classification results on diabetes data,\n",
    "6. present and discuss classification results on small version of MNIST data."
   ]
  },
  {
   "cell_type": "markdown",
   "metadata": {},
   "source": [
    "# Neural Network Classes"
   ]
  },
  {
   "cell_type": "code",
   "execution_count": 1,
   "metadata": {
    "ExecuteTime": {
     "end_time": "2020-11-06T23:15:15.882432Z",
     "start_time": "2020-11-06T23:15:15.516428Z"
    },
    "execution": {
     "iopub.execute_input": "2020-11-19T04:53:30.307437Z",
     "iopub.status.busy": "2020-11-19T04:53:30.306959Z",
     "iopub.status.idle": "2020-11-19T04:53:30.933579Z",
     "shell.execute_reply": "2020-11-19T04:53:30.933102Z",
     "shell.execute_reply.started": "2020-11-19T04:53:30.307318Z"
    }
   },
   "outputs": [],
   "source": [
    "import numpy as np\n",
    "import matplotlib.pyplot as plt\n",
    "import torch\n",
    "from math import floor\n",
    "import pandas as pd\n",
    "import os\n"
   ]
  },
  {
   "cell_type": "markdown",
   "metadata": {},
   "source": [
    "For this assignment, start with implementations of the following classes:\n",
    "* `NeuralNetworkTorch`: copied and pasted from Lecture Notes 16.1\n",
    "* `NeuralNetworkClassifierTorch`: copied and pasted from Lecture Notes 16.1\n",
    "* `NeuralNetworkClassifierConvolutionalTorch`: copied and pasted from Lecture Notes 16.1 and completed.\n",
    "\n",
    "The `train` functions in this classes have two additional arguments, `Xval`nad `Tval`:\n",
    "\n",
    "```python\n",
    "   def train(self, Xtrain, Ttrain, n_epochs, learning_rate=0.01, method='adam', verbose=True, \n",
    "             Xval=None, Tval=None):\n",
    "```\n",
    "\n",
    "where `Xtrain` and `Ttrain` are the usual two arguments used to train the network, and `Xval` and `Tval` are the validation data matrices.  `Xval` and `Tval` are only used to calculate the performance (MSE or NLL) once per epoch.  If the performance is better than the best so far, update an array that is storing the best weight values so far, and also update the best performance so far.  When training is complete, copy the stored best-so-far weights back into the network.  If `Xval` is `None`, then this step is ignored and the weights in the neural network at the end of training are not modified."
   ]
  },
  {
   "cell_type": "code",
   "execution_count": 2,
   "metadata": {
    "ExecuteTime": {
     "end_time": "2020-11-02T13:41:00.656043Z",
     "start_time": "2020-11-02T13:41:00.553833Z"
    },
    "execution": {
     "iopub.execute_input": "2020-11-19T04:53:31.111588Z",
     "iopub.status.busy": "2020-11-19T04:53:31.111311Z",
     "iopub.status.idle": "2020-11-19T04:53:31.160514Z",
     "shell.execute_reply": "2020-11-19T04:53:31.160060Z",
     "shell.execute_reply.started": "2020-11-19T04:53:31.111556Z"
    }
   },
   "outputs": [],
   "source": [
    "######################################################################\n",
    "## NeuralNetwork  for regression\n",
    "######################################################################\n",
    "\n",
    "class NeuralNetworkTorch(torch.nn.Module):\n",
    "\n",
    "    def __init__(self, n_inputs, n_hiddens_list, n_outputs, device='cpu'):\n",
    "\n",
    "        super().__init__()\n",
    "\n",
    "        self.n_inputs = n_inputs\n",
    "        self.n_hiddens_list = n_hiddens_list\n",
    "        self.n_outputs = n_outputs\n",
    "        self.device = device\n",
    "\n",
    "        self.n_layers = len(n_hiddens_list) + 1\n",
    "        \n",
    "        self.layers = torch.nn.ModuleList()\n",
    "        for n_units in n_hiddens_list:\n",
    "            self.layers.append(self._make_tanh_layer(n_inputs, n_units))\n",
    "            n_inputs = n_units\n",
    "        self.layers.append(torch.nn.Linear(n_inputs, n_outputs))\n",
    "\n",
    "        self.stand_params = None\n",
    "        self.error_trace = []\n",
    "        self.error_trace_val = []\n",
    "\n",
    "    def _make_tanh_layer(self, n_inputs, n_units):\n",
    "        return torch.nn.Sequential(torch.nn.Linear(n_inputs, n_units),\n",
    "                                   torch.nn.Tanh())\n",
    "\n",
    "    def __repr__(self):\n",
    "        return f'NeuralNetworkTorch({self.n_inputs}, {self.n_hiddens_list}, {self.n_outputs}, device={self.device})'\n",
    "\n",
    "    def forward(self, Xst):\n",
    "        Ys = [Xst]\n",
    "        for layer in self.layers:\n",
    "            Ys.append(layer(Ys[-1]))\n",
    "        return Ys[1:]  # remove X from Ys\n",
    "\n",
    "    def train(self, Xtrain, Ttrain, n_epochs=10, learning_rate=0.01, method='adam', verbose=True, Xval=None, Tval=None):\n",
    "\n",
    "        if isinstance(Xtrain, np.ndarray):\n",
    "            Xtrain = torch.from_numpy(Xtrain.astype(np.float32))\n",
    "        if isinstance(Ttrain, np.ndarray):\n",
    "            Ttrain = torch.from_numpy(Ttrain.astype(np.float32))\n",
    "\n",
    "        if Xval is not None:\n",
    "            if isinstance(Xval, np.ndarray):\n",
    "                Xval = torch.from_numpy(Xval.astype(np.float32))\n",
    "            if isinstance(Tval, np.ndarray):\n",
    "                Tval = torch.from_numpy(Tval.astype(np.float32))\n",
    "\n",
    "        self.stand_params = self.calc_standardize_parameters(Xtrain, Ttrain)\n",
    "        Xtrain = self.standardize_X(Xtrain)\n",
    "        Ttrain = self.standardize_T(Ttrain)\n",
    "        if Xval is not None:\n",
    "            Xval = self.standardize_X(Xval)\n",
    "            Tval = self.standardize_T(Tval)\n",
    "\n",
    "        if method == 'sgd':\n",
    "            optimizer = torch.optim.SGD(self.parameters(), lr=learning_rate)\n",
    "        elif method == 'adam':\n",
    "            optimizer = torch.optim.Adam(self.parameters(), lr=learning_rate)\n",
    "        else:\n",
    "            print('train: method must be \\'sgd\\', or \\'adam\\'.')\n",
    "\n",
    "        error_f = torch.nn.MSELoss()\n",
    "\n",
    "        self.best_epoch = None\n",
    "        best_mse = None\n",
    "        best_weights = self.get_all_weights()\n",
    "        \n",
    "        for epoch in range(n_epochs):\n",
    "\n",
    "            Ytrain = self.forward(Xtrain)[-1]  # to get last layer output\n",
    "            mse = error_f(Ytrain, Ttrain)\n",
    "\n",
    "            optimizer.zero_grad()\n",
    "            mse.backward()\n",
    "            optimizer.step()\n",
    "\n",
    "            self.error_trace.append(mse.sqrt())\n",
    "            \n",
    "            if Xval is not None:\n",
    "                Yval = self.forward(Xval)[-1]\n",
    "                mse_val = error_f(Yval, Tval)\n",
    "                self.error_trace_val.append(mse_val.sqrt())\n",
    "                \n",
    "                if best_mse is None or mse_val < best_mse:\n",
    "                    best_mse = mse_val\n",
    "                    best_weights = self.get_all_weights()\n",
    "                    self.best_epoch = epoch\n",
    "\n",
    "            if verbose and ((epoch+1) % (n_epochs // 10) == 0 or epoch == n_epochs - 1):\n",
    "                if Xval is not None:\n",
    "                    print(f'Epoch {epoch+1} RMSE train {self.error_trace[-1]:.4f} val {self.error_trace_val[-1]:.4f}')\n",
    "                else:\n",
    "                    print(f'Epoch {epoch+1} RMSE {self.error_trace[-1]:.4f}')\n",
    "                \n",
    "        if Xval is not None:\n",
    "            self.set_all_weights(best_weights)\n",
    "\n",
    "        return self\n",
    "\n",
    "    def use(self, X, return_hidden_layer_outputs=False):\n",
    "        if isinstance(X, np.ndarray):\n",
    "            X = torch.from_numpy(X.astype(np.float32))\n",
    "\n",
    "        Xst = self.standardize_X(X)\n",
    "        Ys = self.forward(Xst)\n",
    "        Y = Ys[-1]\n",
    "        Y = self.unstandardize_T(Y)\n",
    "        Zs = Ys[:-1]\n",
    "        Y = Y.detach().cpu().numpy()\n",
    "        Zs = [Z.detach().cpu().numpy() for Z in Zs]\n",
    "        return (Y, Zs) if return_hidden_layer_outputs else Y\n",
    "\n",
    "    def get_error_trace(self):\n",
    "        return self.error_trace\n",
    "\n",
    "    def get_error_traces(self):\n",
    "        return self.error_trace, self.error_trace_val, self.best_epoch\n",
    "\n",
    "    def calc_standardize_parameters(self, X, T):\n",
    "        Xmeans = X.mean(axis=0)\n",
    "        Xstds = X.std(axis=0)\n",
    "        Xstds[Xstds == 0] = Xstds[Xstds > 0].mean(axis=0)\n",
    "        if T is None:\n",
    "            return {'Xmeans': Xmeans, 'Xstds': Xstds}\n",
    "        else:\n",
    "            Tmeans = T.mean(axis=0)\n",
    "            Tstds = T.std(axis=0)\n",
    "            return {'Xmeans': Xmeans, 'Xstds': Xstds, 'Tmeans': Tmeans, 'Tstds': Tstds}\n",
    "\n",
    "    def standardize_X(self, X):\n",
    "        return (X - self.stand_params['Xmeans']) / self.stand_params['Xstds']\n",
    "\n",
    "    def unstandardize_X(self, Xst):\n",
    "        return Xst * self.stand_params['Xstds'] + self.stand_params['Xmeans']\n",
    "\n",
    "    def standardize_T(self, T):\n",
    "        return (T - self.stand_params['Tmeans']) / self.stand_params['Tstds']\n",
    "\n",
    "    def unstandardize_T(self, Tst):\n",
    "        return Tst * self.stand_params['Tstds'] + self.stand_params['Tmeans']\n",
    "\n",
    "    def get_Ws(self):\n",
    "        Ws = []\n",
    "        for layer in self.layers:\n",
    "            W_and_bias = list(layer.parameters())\n",
    "            W = W_and_bias[0].detach().numpy()\n",
    "            Wbias = W_and_bias[1].detach().numpy().T.reshape(1, -1)\n",
    "            if W.ndim == 4:\n",
    "                W = np.moveaxis(W, 0, 3)  # first dim is units. Move it to last, fourth, dim\n",
    "                n_units = Wbias.shape[-1]\n",
    "                W = W.reshape(-1, n_units)\n",
    "            else:\n",
    "                W = W.T\n",
    "            Ws.append(np.vstack((Wbias, W)))\n",
    "        return Ws\n",
    "        \n",
    "    def get_all_weights(self):\n",
    "        return torch.nn.utils.parameters_to_vector(self.parameters())\n",
    "\n",
    "    def set_all_weights(self, all_weights):\n",
    "        torch.nn.utils.vector_to_parameters(all_weights, self.parameters())"
   ]
  },
  {
   "cell_type": "code",
   "execution_count": 43,
   "metadata": {
    "ExecuteTime": {
     "end_time": "2020-11-02T13:42:40.522616Z",
     "start_time": "2020-11-02T13:42:40.432837Z"
    },
    "execution": {
     "iopub.execute_input": "2020-11-19T05:17:11.302462Z",
     "iopub.status.busy": "2020-11-19T05:17:11.302301Z",
     "iopub.status.idle": "2020-11-19T05:17:11.314559Z",
     "shell.execute_reply": "2020-11-19T05:17:11.314114Z",
     "shell.execute_reply.started": "2020-11-19T05:17:11.302444Z"
    }
   },
   "outputs": [],
   "source": [
    "######################################################################\n",
    "## NeuralNetworkClassifierTorch\n",
    "######################################################################\n",
    "\n",
    "class NeuralNetworkClassifierTorch(NeuralNetworkTorch):\n",
    "\n",
    "    def __init__(self, n_inputs, n_hiddens_list, n_outputs, device=\"cpu\"):\n",
    "        \n",
    "        if isinstance(n_inputs, list) or isinstance(n_inputs, tuple):\n",
    "            super().__init__(np.prod(n_inputs), n_hiddens_list, n_outputs, device)\n",
    "        \n",
    "        else:\n",
    "            super().__init__(n_inputs, n_hiddens_list, n_outputs, device)\n",
    "              \n",
    "\n",
    "        last_layer = self.layers[-1]\n",
    "        new_last_layer = torch.nn.Sequential(last_layer,\n",
    "                                             torch.nn.LogSoftmax(dim=1))  # across columns\n",
    "        self.layers = self.layers[:-1]\n",
    "        self.layers.append(new_last_layer)\n",
    "        # self.layers = self.layers[:-1] + new_last_layer\n",
    "\n",
    "    def __repr__(self):\n",
    "        return f'NeuralNetworkClassifierTorch({self.n_inputs}, {self.n_hiddens_list}, {self.n_outputs}, device={self.device})'\n",
    "\n",
    "    def train(self, Xtrain, Ttrain, n_epochs=10, learning_rate=0.01, method='adam', verbose=True, Xval=None, Tval=None):\n",
    "        \n",
    "        if isinstance(Xtrain, np.ndarray):\n",
    "#             print(\"ur here\")\n",
    "            Xtrain = torch.from_numpy(Xtrain.astype(np.float32)).to(self.device)\n",
    "            \n",
    "        if isinstance(Ttrain, np.ndarray):\n",
    "            Ttrain = torch.from_numpy(Ttrain.astype(np.float32)).to(self.device)\n",
    "\n",
    "        if Xval is not None:\n",
    "            if isinstance(Xval, np.ndarray):\n",
    "                Xval = torch.from_numpy(Xval.astype(np.float32)).to(self.device)\n",
    "            if isinstance(Tval, np.ndarray):\n",
    "                Tval = torch.from_numpy(Tval.astype(np.float32)).to(self.device)\n",
    "    \n",
    "        Ttrain = Ttrain.long().reshape(-1)  # pytorch expects 1D tensor as labels\n",
    "        if Xval is not None:\n",
    "            Tval = Tval.long().reshape(-1)\n",
    "        \n",
    "        self.stand_params = self.calc_standardize_parameters(Xtrain, None)\n",
    "        Xtrain = self.standardize_X(Xtrain)\n",
    "        if Xval is not None:\n",
    "            Xval = self.standardize_X(Xval)\n",
    "\n",
    "        self.classes, counts = Ttrain.unique(return_counts=True)\n",
    "        self.classes = self.classes.cpu().numpy()\n",
    "        # self.most_common_class = self.classes[np.argmax(counts)]  # not used\n",
    "\n",
    "        if method == 'sgd':\n",
    "            optimizer = torch.optim.SGD(self.parameters(), lr=learning_rate)\n",
    "        elif method == 'adam':\n",
    "            optimizer = torch.optim.Adam(self.parameters(), lr=learning_rate)\n",
    "        else:\n",
    "            print('train: method must be \\'sgd\\', or \\'adam\\'.')\n",
    "\n",
    "        neg_log_likelihood = torch.nn.NLLLoss()\n",
    "\n",
    "        self.best_epoch = None\n",
    "        best_nll = None\n",
    "        best_weights = self.get_all_weights()\n",
    "        \n",
    "        for epoch in range(n_epochs):\n",
    "\n",
    "            Ytrain = self.forward(Xtrain)[-1]  # to get last layer output as log(softmax(Y))\n",
    "            nll = neg_log_likelihood(Ytrain, Ttrain)\n",
    "\n",
    "            optimizer.zero_grad()\n",
    "            nll.backward()\n",
    "            optimizer.step()\n",
    "\n",
    "            self.error_trace.append((-nll).exp())\n",
    "            \n",
    "            if Xval is not None:\n",
    "                Yval = self.forward(Xval)[-1]\n",
    "                nll_val = neg_log_likelihood(Yval, Tval)\n",
    "                self.error_trace_val.append((-nll_val).exp())\n",
    "                \n",
    "                if best_nll is None or nll_val < best_nll:\n",
    "                    best_nll = nll_val\n",
    "                    best_weights = self.get_all_weights()\n",
    "                    # print(f'epoch {epoch} first w {best_weights[0]}, nll train {self.error_trace[-1]} val {self.error_trace_val[-1]}')\n",
    "                    self.best_epoch = epoch\n",
    "\n",
    "            if verbose and ((epoch+1) % (n_epochs // 10) == 0 or epoch == n_epochs - 1):\n",
    "                if Xval is not None:\n",
    "                    print(f'Epoch {epoch+1} LL train {self.error_trace[-1]:.4f} val {self.error_trace_val[-1]:.4f}')\n",
    "                else:\n",
    "                    print(f'Epoch {epoch+1} NLL {self.error_trace[-1]:.4f}')\n",
    "\n",
    "        if Xval is not None:\n",
    "            # print(f'done epoch {epoch} first w {self.get_all_weights()[0]}')\n",
    "            self.set_all_weights(best_weights)\n",
    "            # print(f'after done epoch {epoch} first w {self.get_all_weights()[0]}')\n",
    "\n",
    "        return self\n",
    "\n",
    "    def use(self, X, return_hidden_layer_outputs=False):\n",
    "        if isinstance(X, np.ndarray):\n",
    "            X = torch.from_numpy(X.astype(np.float32))\n",
    "  \n",
    "        Xst = self.standardize_X(X)\n",
    "        Ys = self.forward(Xst)\n",
    "        Y = Ys[-1]\n",
    "        Zs = Ys[:-1]\n",
    "        probs = Y.detach().exp().cpu().numpy()  # ex() because net output is log(softmax())\n",
    "        Zs = [Z.detach().cpu().numpy() for Z in Zs]\n",
    "        classes = self.classes[np.argmax(probs, axis=1)].reshape(-1, 1)\n",
    "        return (classes, probs, Zs) if return_hidden_layer_outputs else (classes, probs)"
   ]
  },
  {
   "cell_type": "code",
   "execution_count": 25,
   "metadata": {
    "ExecuteTime": {
     "end_time": "2020-11-02T13:45:03.416190Z",
     "start_time": "2020-11-02T13:45:03.373702Z"
    },
    "execution": {
     "iopub.execute_input": "2020-11-19T04:57:15.047436Z",
     "iopub.status.busy": "2020-11-19T04:57:15.046825Z",
     "iopub.status.idle": "2020-11-19T04:57:15.073948Z",
     "shell.execute_reply": "2020-11-19T04:57:15.073140Z",
     "shell.execute_reply.started": "2020-11-19T04:57:15.047363Z"
    }
   },
   "outputs": [],
   "source": [
    "######################################################################\n",
    "## NeuralNetworkClassifierConvolutionalTorch\n",
    "######################################################################\n",
    "\n",
    "class NeuralNetworkClassifierConvolutionalTorch(NeuralNetworkClassifierTorch):\n",
    "    \n",
    "\n",
    "\n",
    "    def __init__(self, n_inputs, n_conv_list, n_fc_list, n_outputs, device=\"cpu\"):\n",
    "        '''n_inputs: n_channels X n_rows X n_cols\n",
    "n_conv_list: list of tuples of (n_units, kernel_size, stride)'''\n",
    "\n",
    "        # Call constructor, but will discard the layers made and make new ones\n",
    "        super().__init__(n_inputs, n_fc_list, n_outputs, device)\n",
    "        \n",
    "\n",
    "        self.n_channels, self.n_input_rows, self.n_input_cols = n_inputs\n",
    "        self.n_conv_list = n_conv_list\n",
    "        self.n_fc_list = n_fc_list\n",
    "        self.n_outputs = n_outputs\n",
    "        self.device = device\n",
    "\n",
    "        self.layers = torch.nn.ModuleList()\n",
    "        n_in_channels = self.n_channels\n",
    "        \n",
    "        output_rows, output_cols, output_channels = (self.n_input_rows,self.n_input_cols ,self.n_channels)# COMPLETE THIS\n",
    "        rows = 0 \n",
    "        columns =0\n",
    "        for conv in n_conv_list:\n",
    "            n_units, kernel_size, stride = conv\n",
    "            (kernel_rows, kernel_cols) = (kernel_size, kernel_size) if np.isscalar(kernel_size) else kernel_size\n",
    "            (stride_rows, stride_cols) = (stride, stride) if np.isscalar(stride) else stride\n",
    "\n",
    "            self.layers.append(self._make_conv_layer(n_in_channels, n_units, kernel_size, stride))\n",
    "            n_in_channels = n_units\n",
    "            pad =0\n",
    "            rows = floor((output_rows+(2*pad) - (kernel_rows))/stride_rows)+1\n",
    "            columns = floor((output_cols+(2*pad) - (kernel_cols))/stride_cols)+1\n",
    "            output_rows, output_cols, output_channels =(rows,columns,n_in_channels) # COMPLETE THIS\n",
    "\n",
    "#         print(output_rows, output_cols, output_channels)\n",
    "        # Add Flatten to output of last convolutional layer\n",
    "        self.layers[-1].add_module('flatten', torch.nn.Flatten())\n",
    "        \n",
    "        # Calculate the total number of inputs entering each unit in the first fully-connected layer\n",
    "        n_inputs = output_rows*output_cols*output_channels  # COMPLETE THIS\n",
    "\n",
    "        for n_units in n_fc_list:\n",
    "            self.layers.append(self._make_tanh_layer(n_inputs, n_units))\n",
    "            n_inputs = n_units\n",
    "            \n",
    "        self.layers.append(torch.nn.Sequential(torch.nn.Linear(n_inputs, n_outputs),\n",
    "                                               torch.nn.LogSoftmax(dim=1)))  # across columns\n",
    "\n",
    "    def _make_conv_layer(self, n_in_channels, n_units, kernel_size, stride):\n",
    "        return torch.nn.Sequential(torch.nn.Conv2d(n_in_channels, n_units, kernel_size, stride),\n",
    "                                   torch.nn.Tanh())\n",
    "\n",
    "    def __repr__(self):\n",
    "        return f'''NeuralNetworkClassifierConvolutionalTorch(n_inputs={self.n_inputs}, n_conv_list={self.n_conv_list}, n_fc_list={self.n_fc_list}, n_outputs={self.n_outputs}, device={self.device})'''"
   ]
  },
  {
   "cell_type": "markdown",
   "metadata": {},
   "source": [
    "# Additional Required Functions"
   ]
  },
  {
   "cell_type": "markdown",
   "metadata": {},
   "source": [
    "Include in this notebook the following functions we have defined before\n",
    "* `percent_correct`\n",
    "* `partition`\n",
    "* `multiple_runs_regression`\n",
    "\n",
    "and define two new functions\n",
    "* `multiple_runs_classification`\n",
    "* `multiple_runs_convolutional`\n",
    "\n",
    "based on `multiple_runs_regression`."
   ]
  },
  {
   "cell_type": "code",
   "execution_count": 5,
   "metadata": {
    "execution": {
     "iopub.execute_input": "2020-11-19T04:53:32.867277Z",
     "iopub.status.busy": "2020-11-19T04:53:32.867039Z",
     "iopub.status.idle": "2020-11-19T04:53:33.583864Z",
     "shell.execute_reply": "2020-11-19T04:53:33.583161Z",
     "shell.execute_reply.started": "2020-11-19T04:53:32.867249Z"
    }
   },
   "outputs": [],
   "source": [
    "def percent_correct(Y, T):\n",
    "    if isinstance(T, np.ndarray):\n",
    "        return np.mean(Y == T) * 100\n",
    "    else:\n",
    "        return np.mean(Y==T.cpu().numpy())*100\n",
    "   "
   ]
  },
  {
   "cell_type": "code",
   "execution_count": 6,
   "metadata": {
    "execution": {
     "iopub.execute_input": "2020-11-19T04:53:33.585106Z",
     "iopub.status.busy": "2020-11-19T04:53:33.584896Z",
     "iopub.status.idle": "2020-11-19T04:53:35.244187Z",
     "shell.execute_reply": "2020-11-19T04:53:35.243706Z",
     "shell.execute_reply.started": "2020-11-19T04:53:33.585081Z"
    }
   },
   "outputs": [],
   "source": [
    "def partition(X, T, fractions, shuffle=True, classification=False):\n",
    "    \"\"\"Usage: Xtrain,Train,Xvalidate,Tvalidate,Xtest,Ttest = partition(X,T,(0.6,0.2,0.2),classification=True)\n",
    "      X is nSamples x nFeatures.\n",
    "      fractions can have just two values, for partitioning into train and test only\n",
    "      If classification=True, T is target class as integer. Data partitioned\n",
    "        according to class proportions.\n",
    "        \"\"\"\n",
    "    train_fraction = fractions[0]\n",
    "    if len(fractions) == 2:\n",
    "        # Skip the validation step\n",
    "        validate_fraction = 0\n",
    "        test_fraction = fractions[1]\n",
    "    else:\n",
    "        validate_fraction = fractions[1]\n",
    "        test_fraction = fractions[2]\n",
    "        \n",
    "    row_indices = np.arange(X.shape[0])\n",
    "    if shuffle:\n",
    "        np.random.shuffle(row_indices)\n",
    "    \n",
    "    if not classification:\n",
    "        # regression, so do not partition according to targets.\n",
    "        n = X.shape[0]\n",
    "        n_train = round(train_fraction * n)\n",
    "        n_validate = round(validate_fraction * n)\n",
    "        n_test = round(test_fraction * n)\n",
    "        if n_train + n_validate + n_test > n:\n",
    "            n_test = n - n_train - n_validate\n",
    "        Xtrain = X[row_indices[:n_train], :]\n",
    "        Ttrain = T[row_indices[:n_train], :]\n",
    "        if n_validate > 0:\n",
    "            Xvalidate = X[row_indices[n_train:n_train + n_validate], :]\n",
    "            Tvalidate = T[row_indices[n_train:n_train + n_validate], :]\n",
    "        Xtest = X[row_indices[n_train + n_validate:n_train + n_validate + n_test], :]\n",
    "        Ttest = T[row_indices[n_train + n_validate:n_train + n_validate + n_test], :]\n",
    "        \n",
    "    else:\n",
    "        # classifying, so partition data according to target class\n",
    "        classes = np.unique(T)\n",
    "        train_indices = []\n",
    "        validate_indices = []\n",
    "        test_indices = []\n",
    "        for c in classes:\n",
    "            # row indices for class c\n",
    "            rows_this_class = np.where(T[row_indices,:] == c)[0]\n",
    "            # collect row indices for class c for each partition\n",
    "            n = len(rows_this_class)\n",
    "            n_train = round(train_fraction * n)\n",
    "            n_validate = round(validate_fraction * n)\n",
    "            n_test = round(test_fraction * n)\n",
    "            if n_train + n_validate + n_test > n:\n",
    "                n_test = n - n_train - n_validate\n",
    "            train_indices += row_indices[rows_this_class[:n_train]].tolist()\n",
    "            if n_validate > 0:\n",
    "                validate_indices += row_indices[rows_this_class[n_train:n_train + n_validate]].tolist()\n",
    "            test_indices += row_indices[rows_this_class[n_train + n_validate:n_train + n_validate + n_test]].tolist()\n",
    "        Xtrain = X[train_indices, :]\n",
    "        Ttrain = T[train_indices, :]\n",
    "        if n_validate > 0:\n",
    "            Xvalidate = X[validate_indices, :]\n",
    "            Tvalidate = T[validate_indices, :]\n",
    "        Xtest = X[test_indices, :]\n",
    "        Ttest = T[test_indices, :]\n",
    "    if n_validate > 0:\n",
    "        return Xtrain, Ttrain, Xvalidate, Tvalidate, Xtest, Ttest\n",
    "    else:\n",
    "        return Xtrain, Ttrain, Xtest, Ttest"
   ]
  },
  {
   "cell_type": "code",
   "execution_count": 7,
   "metadata": {
    "execution": {
     "iopub.execute_input": "2020-11-19T04:53:35.245197Z",
     "iopub.status.busy": "2020-11-19T04:53:35.245035Z",
     "iopub.status.idle": "2020-11-19T04:53:36.472077Z",
     "shell.execute_reply": "2020-11-19T04:53:36.470073Z",
     "shell.execute_reply.started": "2020-11-19T04:53:35.245183Z"
    }
   },
   "outputs": [],
   "source": [
    "def rmse(Y, T):\n",
    "    return np.sqrt(np.mean((T - Y) ** 2))"
   ]
  },
  {
   "cell_type": "code",
   "execution_count": 8,
   "metadata": {
    "execution": {
     "iopub.execute_input": "2020-11-19T04:53:36.475727Z",
     "iopub.status.busy": "2020-11-19T04:53:36.475076Z",
     "iopub.status.idle": "2020-11-19T04:53:37.629255Z",
     "shell.execute_reply": "2020-11-19T04:53:37.627315Z",
     "shell.execute_reply.started": "2020-11-19T04:53:36.475635Z"
    }
   },
   "outputs": [],
   "source": [
    "def multiple_runs_regression(n_partitions, X, T, fractions, n_hiddens_list, n_epochs, learning_rate):\n",
    "    \n",
    "    def rmse(Y, T):\n",
    "        return np.sqrt(np.mean((T - Y) ** 2))\n",
    "\n",
    "    print(f'Structure {n_hiddens_list}: Repetition', end=' ')\n",
    "    results = []\n",
    "    \n",
    "    for rep in range(n_partitions):\n",
    "        \n",
    "        print(f'{rep + 1}', end=' ')\n",
    "        \n",
    "        Xtrain, Ttrain, Xval, Tval, Xtest, Ttest = partition(X, T, fractions,\n",
    "                                                             shuffle=True, classification=False)\n",
    "        \n",
    "        nnet = NeuralNetworkTorch(X.shape[1], n_hiddens_list, T.shape[1])\n",
    "        nnet.train(Xtrain, Ttrain, n_epochs, learning_rate, method='adam', Xval=Xval, Tval=Tval, verbose=False)\n",
    "\n",
    "        \n",
    "        Ytrain = nnet.use(Xtrain)\n",
    "        Yval = nnet.use(Xval)\n",
    "        Ytest = nnet.use(Xtest)\n",
    "        \n",
    "   \n",
    "        \n",
    "        structure = str(n_hiddens_list)\n",
    "        results.extend([[structure, 'train', rmse(Ytrain, Ttrain)],\n",
    "                        [structure, 'validation', rmse(Yval, Tval)],\n",
    "                        [structure, 'test', rmse(Ytest, Ttest)]])\n",
    "        \n",
    "    print()\n",
    "    return results"
   ]
  },
  {
   "cell_type": "code",
   "execution_count": null,
   "metadata": {},
   "outputs": [],
   "source": []
  },
  {
   "cell_type": "code",
   "execution_count": 20,
   "metadata": {
    "execution": {
     "iopub.execute_input": "2020-11-19T04:56:14.106750Z",
     "iopub.status.busy": "2020-11-19T04:56:14.106562Z",
     "iopub.status.idle": "2020-11-19T04:56:14.111647Z",
     "shell.execute_reply": "2020-11-19T04:56:14.111063Z",
     "shell.execute_reply.started": "2020-11-19T04:56:14.106733Z"
    }
   },
   "outputs": [],
   "source": [
    "def multiple_runs_classification(n_partitions, X, T, fractions, n_hiddens_list, n_epochs, learning_rate):\n",
    " \n",
    "    print(f'Structure {n_hiddens_list}: Repetition', end=' ')\n",
    "    results = []\n",
    "    for rep in range(n_partitions):\n",
    "        \n",
    "        print(f'{rep + 1}', end=' ')\n",
    "        \n",
    "        Xtrain, Ttrain, Xval, Tval, Xtest, Ttest = partition(X, T, fractions,\n",
    "                                                             shuffle=True, classification=True)\n",
    "        n_outputs = len(np.unique(Ttrain).astype(int))\n",
    "        nnet = NeuralNetworkClassifierTorch(X.shape[1], n_hiddens_list, n_outputs)\n",
    "        nnet.train(Xtrain, Ttrain, n_epochs, learning_rate, method='adam', Xval=Xval, Tval=Tval, verbose=False)\n",
    "        train_percent=percent_correct(nnet.use(Xtrain)[0], Ttrain)\n",
    "        val_percent = percent_correct(nnet.use(Xval)[0], Tval)\n",
    "        test_percent = percent_correct(nnet.use(Xtest)[0], Ttest)\n",
    "\n",
    "        structure = str(n_hiddens_list)\n",
    "        results.extend([[structure, 'train', train_percent],\n",
    "                        [structure, 'validation', val_percent],\n",
    "                        [structure, 'test', test_percent]])\n",
    "#         print(results)\n",
    "    print()\n",
    "    return results"
   ]
  },
  {
   "cell_type": "code",
   "execution_count": null,
   "metadata": {},
   "outputs": [],
   "source": []
  },
  {
   "cell_type": "code",
   "execution_count": 10,
   "metadata": {
    "execution": {
     "iopub.execute_input": "2020-11-19T04:53:41.095260Z",
     "iopub.status.busy": "2020-11-19T04:53:41.095055Z",
     "iopub.status.idle": "2020-11-19T04:53:41.099881Z",
     "shell.execute_reply": "2020-11-19T04:53:41.099462Z",
     "shell.execute_reply.started": "2020-11-19T04:53:41.095245Z"
    }
   },
   "outputs": [],
   "source": [
    "def multiple_runs_convolutional(n_partitions, X, T, fractions, nconv, nfc, n_epochs, learning_rate):\n",
    " \n",
    "    print(f'Structure {str(nconv)+ \" \" + str(nfc)}: Repetition', end=' ')\n",
    "    results = []\n",
    "\n",
    "\n",
    "    for rep in range(n_partitions):\n",
    "\n",
    "        print(f'{rep + 1}', end=' ')\n",
    "\n",
    "        Xtrain, Ttrain, Xval, Tval, Xtest, Ttest = partition(X, T, fractions,\n",
    "                                                             shuffle=True, classification=True)\n",
    "\n",
    "                \n",
    "#         Xtest=torch.from_numpy(Xtest.astype(np.float32))\n",
    "#         Ttest=torch.from_numpy(Ttest.astype(np.float32))\n",
    "        n_outputs = len(np.unique(T).astype(int))\n",
    "\n",
    "        nnet = NeuralNetworkClassifierConvolutionalTorch(X.shape[1:], nconv, nfc, n_outputs)\n",
    "\n",
    "    \n",
    "\n",
    "        nnet.train(Xtrain, Ttrain, n_epochs, learning_rate, method='adam', Xval=Xval, Tval=Tval, verbose=False)\n",
    "        train_percent=percent_correct(nnet.use(Xtrain)[0], Ttrain)\n",
    "        val_percent = percent_correct(nnet.use(Xval)[0], Tval)\n",
    "        test_percent = percent_correct(nnet.use(Xtest)[0], Ttest)\n",
    "#         print(nnet.use(Xtrain), Ttrain)\n",
    "        structure = str(nconv)+ \" \" + str(nfc)\n",
    "        results.extend([[structure, 'train', train_percent],\n",
    "                        [structure, 'validation', val_percent],\n",
    "                        [structure, 'test', test_percent]])\n",
    "\n",
    "#         print(results)\n",
    "    print()\n",
    "    return results"
   ]
  },
  {
   "cell_type": "markdown",
   "metadata": {},
   "source": [
    "Here is another function that you must use to analyze the performance for your two classification problems."
   ]
  },
  {
   "cell_type": "code",
   "execution_count": 11,
   "metadata": {
    "ExecuteTime": {
     "end_time": "2020-11-06T23:15:15.993708Z",
     "start_time": "2020-11-06T23:15:15.991020Z"
    },
    "execution": {
     "iopub.execute_input": "2020-11-19T04:53:42.867286Z",
     "iopub.status.busy": "2020-11-19T04:53:42.867068Z",
     "iopub.status.idle": "2020-11-19T04:53:42.872279Z",
     "shell.execute_reply": "2020-11-19T04:53:42.871677Z",
     "shell.execute_reply.started": "2020-11-19T04:53:42.867264Z"
    }
   },
   "outputs": [],
   "source": [
    "def confusion_matrix(Y_classes, T):\n",
    "    class_names = np.unique(T)\n",
    "    table = []\n",
    "    for true_class in class_names:\n",
    "        row = []\n",
    "        for Y_class in class_names:\n",
    "            row.append(100 * np.mean(Y_classes[T == true_class] == Y_class))\n",
    "        table.append(row)\n",
    "    conf_matrix = pd.DataFrame(table, index=class_names, columns=class_names)\n",
    "    conf_matrix.style.background_gradient(cmap='Blues').format(\"{:.1f}\")\n",
    "    print(f'Percent Correct is {percent_correct(Y_classes, T)}')\n",
    "    return conf_matrix"
   ]
  },
  {
   "cell_type": "markdown",
   "metadata": {},
   "source": [
    "Here are examples of running `multiple_runs_classification` and `multiple_runs_convolutional`."
   ]
  },
  {
   "cell_type": "code",
   "execution_count": 12,
   "metadata": {
    "ExecuteTime": {
     "end_time": "2020-11-06T23:15:16.053723Z",
     "start_time": "2020-11-06T23:15:15.994661Z"
    },
    "execution": {
     "iopub.execute_input": "2020-11-19T04:48:34.939322Z",
     "iopub.status.busy": "2020-11-19T04:48:34.939176Z",
     "iopub.status.idle": "2020-11-19T04:48:34.993973Z",
     "shell.execute_reply": "2020-11-19T04:48:34.993471Z",
     "shell.execute_reply.started": "2020-11-19T04:48:34.939306Z"
    }
   },
   "outputs": [
    {
     "data": {
      "text/plain": [
       "((1000, 400), (1000, 1))"
      ]
     },
     "execution_count": 12,
     "metadata": {},
     "output_type": "execute_result"
    }
   ],
   "source": [
    "def makeImages(nEach):\n",
    "    images = np.zeros((nEach * 2, 1, 20, 20))  # nSamples, nChannels, rows, columns\n",
    "    radii = 3 + np.random.randint(10 - 5, size=(nEach * 2, 1))\n",
    "    centers = np.zeros((nEach * 2, 2))\n",
    "    for i in range(nEach * 2):\n",
    "        r = radii[i, 0]\n",
    "        centers[i, :] = r + 1 + np.random.randint(18 - 2 * r, size=(1, 2))\n",
    "        x = int(centers[i, 0])\n",
    "        y = int(centers[i, 1])\n",
    "        if i < nEach:\n",
    "            # squares\n",
    "            images[i, 0, x - r:x + r, y + r] = 1.0\n",
    "            images[i, 0, x - r:x + r, y - r] = 1.0\n",
    "            images[i, 0, x - r, y - r:y + r] = 1.0\n",
    "            images[i, 0, x + r, y - r:y + r + 1] = 1.0\n",
    "        else:\n",
    "            # diamonds\n",
    "            images[i, 0, range(x - r, x), range(y, y + r)] = 1.0\n",
    "            images[i, 0, range(x - r, x), range(y, y - r, -1)] = 1.0\n",
    "            images[i, 0, range(x, x + r + 1), range(y + r, y - 1, -1)] = 1.0\n",
    "            images[i, 0, range(x, x + r), range(y - r, y)] = 1.0\n",
    "            # images += np.random.randn(*images.shape) * 0.5\n",
    "        T = np.zeros((nEach * 2, 1))\n",
    "        T[nEach:] = 1\n",
    "    return images, T\n",
    "\n",
    "nEach = 500\n",
    "X, T = makeImages(nEach)\n",
    "Xflat = X.reshape(X.shape[0], -1)\n",
    "Xflat.shape, T.shape"
   ]
  },
  {
   "cell_type": "code",
   "execution_count": 13,
   "metadata": {
    "ExecuteTime": {
     "end_time": "2020-11-06T23:15:38.784561Z",
     "start_time": "2020-11-06T23:15:16.054596Z"
    },
    "execution": {
     "iopub.execute_input": "2020-11-19T04:48:37.363765Z",
     "iopub.status.busy": "2020-11-19T04:48:37.363592Z",
     "iopub.status.idle": "2020-11-19T04:49:01.747583Z",
     "shell.execute_reply": "2020-11-19T04:49:01.746774Z",
     "shell.execute_reply.started": "2020-11-19T04:48:37.363736Z"
    }
   },
   "outputs": [
    {
     "name": "stdout",
     "output_type": "stream",
     "text": [
      "Structure []: Repetition 1 2 3 4 5 6 7 8 9 10 \n",
      "Structure [2]: Repetition 1 2 3 4 5 6 7 8 9 10 \n",
      "Structure [5]: Repetition 1 2 3 4 5 6 7 8 9 10 \n",
      "Structure [10]: Repetition 1 2 3 4 5 6 7 8 9 10 \n",
      "Structure [20, 20]: Repetition 1 2 3 4 5 6 7 8 9 10 \n"
     ]
    }
   ],
   "source": [
    "fractions = (0.6, 0.2, 0.2)\n",
    "n_hiddens_list = [[], [2], [5], [10], [20, 20]]  # Notice the first one... []\n",
    "n_epochs = 500\n",
    "learning_rate = 0.01\n",
    "\n",
    "n_partitions = 10\n",
    "\n",
    "results = []\n",
    "for nh in n_hiddens_list:\n",
    "    results.extend(multiple_runs_classification(n_partitions, Xflat, T, fractions, nh, n_epochs, learning_rate))\n",
    "    \n",
    "resultsdf = pd.DataFrame(results, columns=('Structure', 'Partition', 'Percent_Correct'))"
   ]
  },
  {
   "cell_type": "code",
   "execution_count": 15,
   "metadata": {
    "execution": {
     "iopub.execute_input": "2020-11-19T00:04:14.755366Z",
     "iopub.status.busy": "2020-11-19T00:04:14.755180Z",
     "iopub.status.idle": "2020-11-19T00:04:14.767616Z",
     "shell.execute_reply": "2020-11-19T00:04:14.766975Z",
     "shell.execute_reply.started": "2020-11-19T00:04:14.755343Z"
    }
   },
   "outputs": [
    {
     "data": {
      "text/html": [
       "<div>\n",
       "<style scoped>\n",
       "    .dataframe tbody tr th:only-of-type {\n",
       "        vertical-align: middle;\n",
       "    }\n",
       "\n",
       "    .dataframe tbody tr th {\n",
       "        vertical-align: top;\n",
       "    }\n",
       "\n",
       "    .dataframe thead th {\n",
       "        text-align: right;\n",
       "    }\n",
       "</style>\n",
       "<table border=\"1\" class=\"dataframe\">\n",
       "  <thead>\n",
       "    <tr style=\"text-align: right;\">\n",
       "      <th></th>\n",
       "      <th>Structure</th>\n",
       "      <th>Partition</th>\n",
       "      <th>Percent_Correct</th>\n",
       "    </tr>\n",
       "  </thead>\n",
       "  <tbody>\n",
       "    <tr>\n",
       "      <th>0</th>\n",
       "      <td>[]</td>\n",
       "      <td>train</td>\n",
       "      <td>98.500000</td>\n",
       "    </tr>\n",
       "    <tr>\n",
       "      <th>1</th>\n",
       "      <td>[]</td>\n",
       "      <td>validation</td>\n",
       "      <td>94.500000</td>\n",
       "    </tr>\n",
       "    <tr>\n",
       "      <th>2</th>\n",
       "      <td>[]</td>\n",
       "      <td>test</td>\n",
       "      <td>93.000000</td>\n",
       "    </tr>\n",
       "    <tr>\n",
       "      <th>3</th>\n",
       "      <td>[]</td>\n",
       "      <td>train</td>\n",
       "      <td>94.833333</td>\n",
       "    </tr>\n",
       "    <tr>\n",
       "      <th>4</th>\n",
       "      <td>[]</td>\n",
       "      <td>validation</td>\n",
       "      <td>87.000000</td>\n",
       "    </tr>\n",
       "    <tr>\n",
       "      <th>...</th>\n",
       "      <td>...</td>\n",
       "      <td>...</td>\n",
       "      <td>...</td>\n",
       "    </tr>\n",
       "    <tr>\n",
       "      <th>145</th>\n",
       "      <td>[20, 20]</td>\n",
       "      <td>validation</td>\n",
       "      <td>94.000000</td>\n",
       "    </tr>\n",
       "    <tr>\n",
       "      <th>146</th>\n",
       "      <td>[20, 20]</td>\n",
       "      <td>test</td>\n",
       "      <td>96.000000</td>\n",
       "    </tr>\n",
       "    <tr>\n",
       "      <th>147</th>\n",
       "      <td>[20, 20]</td>\n",
       "      <td>train</td>\n",
       "      <td>99.666667</td>\n",
       "    </tr>\n",
       "    <tr>\n",
       "      <th>148</th>\n",
       "      <td>[20, 20]</td>\n",
       "      <td>validation</td>\n",
       "      <td>95.000000</td>\n",
       "    </tr>\n",
       "    <tr>\n",
       "      <th>149</th>\n",
       "      <td>[20, 20]</td>\n",
       "      <td>test</td>\n",
       "      <td>95.000000</td>\n",
       "    </tr>\n",
       "  </tbody>\n",
       "</table>\n",
       "<p>150 rows × 3 columns</p>\n",
       "</div>"
      ],
      "text/plain": [
       "    Structure   Partition  Percent_Correct\n",
       "0          []       train        98.500000\n",
       "1          []  validation        94.500000\n",
       "2          []        test        93.000000\n",
       "3          []       train        94.833333\n",
       "4          []  validation        87.000000\n",
       "..        ...         ...              ...\n",
       "145  [20, 20]  validation        94.000000\n",
       "146  [20, 20]        test        96.000000\n",
       "147  [20, 20]       train        99.666667\n",
       "148  [20, 20]  validation        95.000000\n",
       "149  [20, 20]        test        95.000000\n",
       "\n",
       "[150 rows x 3 columns]"
      ]
     },
     "execution_count": 15,
     "metadata": {},
     "output_type": "execute_result"
    }
   ],
   "source": [
    "resultsdf"
   ]
  },
  {
   "cell_type": "code",
   "execution_count": 16,
   "metadata": {
    "ExecuteTime": {
     "end_time": "2020-11-06T23:15:39.339147Z",
     "start_time": "2020-11-06T23:15:38.793690Z"
    },
    "execution": {
     "iopub.execute_input": "2020-11-19T00:04:14.769029Z",
     "iopub.status.busy": "2020-11-19T00:04:14.768846Z",
     "iopub.status.idle": "2020-11-19T00:04:15.678407Z",
     "shell.execute_reply": "2020-11-19T00:04:15.677894Z",
     "shell.execute_reply.started": "2020-11-19T00:04:14.769006Z"
    }
   },
   "outputs": [
    {
     "data": {
      "image/png": "[encoded data removed]",
      "text/plain": [
       "<Figure size 864x720 with 1 Axes>"
      ]
     },
     "metadata": {
      "needs_background": "light"
     },
     "output_type": "display_data"
    }
   ],
   "source": [
    "import seaborn as sns\n",
    "\n",
    "plt.figure(figsize=(12, 10))\n",
    "sns.violinplot(x='Structure', y='Percent_Correct', hue='Partition', data=resultsdf)\n",
    "for x in range(len(n_hiddens_list) - 1):\n",
    "    plt.axvline(x + 0.5, color='r', linestyle='--', alpha=0.5)"
   ]
  },
  {
   "cell_type": "markdown",
   "metadata": {},
   "source": [
    "RMSEBased on results in violin plots, pick best network structure (according to performance in validation data) and train a network using that structure.  Then apply the trained network using `nnet.use` on the training, validation and testing partitions.  Report the performance of each, and, for classification problems, show the confusion matrices.  See examples below."
   ]
  },
  {
   "cell_type": "code",
   "execution_count": 17,
   "metadata": {
    "ExecuteTime": {
     "end_time": "2020-11-06T23:15:40.081938Z",
     "start_time": "2020-11-06T23:15:39.340041Z"
    },
    "execution": {
     "iopub.execute_input": "2020-11-19T00:04:15.679292Z",
     "iopub.status.busy": "2020-11-19T00:04:15.679172Z",
     "iopub.status.idle": "2020-11-19T00:04:16.265000Z",
     "shell.execute_reply": "2020-11-19T00:04:16.264364Z",
     "shell.execute_reply.started": "2020-11-19T00:04:15.679276Z"
    }
   },
   "outputs": [
    {
     "name": "stdout",
     "output_type": "stream",
     "text": [
      "Epoch 50 LL train 0.9948 val 0.8635\n",
      "Epoch 100 LL train 0.9982 val 0.8544\n",
      "Epoch 150 LL train 0.9988 val 0.8468\n",
      "Epoch 200 LL train 0.9991 val 0.8402\n",
      "Epoch 250 LL train 0.9993 val 0.8350\n",
      "Epoch 300 LL train 0.9995 val 0.8308\n",
      "Epoch 350 LL train 0.9996 val 0.8272\n",
      "Epoch 400 LL train 0.9996 val 0.8238\n",
      "Epoch 450 LL train 0.9997 val 0.8208\n",
      "Epoch 500 LL train 0.9997 val 0.8180\n"
     ]
    },
    {
     "data": {
      "text/plain": [
       "NeuralNetworkClassifierTorch(400, [10], 2, device=cpu)"
      ]
     },
     "execution_count": 17,
     "metadata": {},
     "output_type": "execute_result"
    }
   ],
   "source": [
    "nnet = NeuralNetworkClassifierTorch(Xflat.shape[1], [10], len(np.unique(T)),\"cpu\")\n",
    "Xtrain, Ttrain, Xval, Tval, Xtest, Ttest = partition(Xflat, T, (0.6, 0.2, 0.2),\n",
    "                                         shuffle=True, classification=True)\n",
    "nnet.train(Xtrain, Ttrain, n_epochs, learning_rate, method='adam', Xval=Xval, Tval=Tval, verbose=True)"
   ]
  },
  {
   "cell_type": "code",
   "execution_count": 18,
   "metadata": {
    "ExecuteTime": {
     "end_time": "2020-11-06T23:15:40.224876Z",
     "start_time": "2020-11-06T23:15:40.086459Z"
    },
    "execution": {
     "iopub.execute_input": "2020-11-19T00:04:16.266319Z",
     "iopub.status.busy": "2020-11-19T00:04:16.266149Z",
     "iopub.status.idle": "2020-11-19T00:04:16.459353Z",
     "shell.execute_reply": "2020-11-19T00:04:16.458746Z",
     "shell.execute_reply.started": "2020-11-19T00:04:16.266297Z"
    }
   },
   "outputs": [
    {
     "name": "stdout",
     "output_type": "stream",
     "text": [
      "Percent Correct is 99.5\n"
     ]
    },
    {
     "data": {
      "text/html": [
       "<div>\n",
       "<style scoped>\n",
       "    .dataframe tbody tr th:only-of-type {\n",
       "        vertical-align: middle;\n",
       "    }\n",
       "\n",
       "    .dataframe tbody tr th {\n",
       "        vertical-align: top;\n",
       "    }\n",
       "\n",
       "    .dataframe thead th {\n",
       "        text-align: right;\n",
       "    }\n",
       "</style>\n",
       "<table border=\"1\" class=\"dataframe\">\n",
       "  <thead>\n",
       "    <tr style=\"text-align: right;\">\n",
       "      <th></th>\n",
       "      <th>0.0</th>\n",
       "      <th>1.0</th>\n",
       "    </tr>\n",
       "  </thead>\n",
       "  <tbody>\n",
       "    <tr>\n",
       "      <th>0.0</th>\n",
       "      <td>99.0</td>\n",
       "      <td>1.0</td>\n",
       "    </tr>\n",
       "    <tr>\n",
       "      <th>1.0</th>\n",
       "      <td>0.0</td>\n",
       "      <td>100.0</td>\n",
       "    </tr>\n",
       "  </tbody>\n",
       "</table>\n",
       "</div>"
      ],
      "text/plain": [
       "      0.0    1.0\n",
       "0.0  99.0    1.0\n",
       "1.0   0.0  100.0"
      ]
     },
     "execution_count": 18,
     "metadata": {},
     "output_type": "execute_result"
    }
   ],
   "source": [
    "C_train, P_train = nnet.use(Xtrain)\n",
    "confusion_matrix(C_train, Ttrain)"
   ]
  },
  {
   "cell_type": "code",
   "execution_count": 19,
   "metadata": {
    "ExecuteTime": {
     "end_time": "2020-11-06T23:15:40.240134Z",
     "start_time": "2020-11-06T23:15:40.228482Z"
    },
    "execution": {
     "iopub.execute_input": "2020-11-19T00:04:16.460176Z",
     "iopub.status.busy": "2020-11-19T00:04:16.460012Z",
     "iopub.status.idle": "2020-11-19T00:04:16.776175Z",
     "shell.execute_reply": "2020-11-19T00:04:16.774624Z",
     "shell.execute_reply.started": "2020-11-19T00:04:16.460159Z"
    }
   },
   "outputs": [
    {
     "name": "stdout",
     "output_type": "stream",
     "text": [
      "Percent Correct is 95.0\n"
     ]
    },
    {
     "data": {
      "text/html": [
       "<div>\n",
       "<style scoped>\n",
       "    .dataframe tbody tr th:only-of-type {\n",
       "        vertical-align: middle;\n",
       "    }\n",
       "\n",
       "    .dataframe tbody tr th {\n",
       "        vertical-align: top;\n",
       "    }\n",
       "\n",
       "    .dataframe thead th {\n",
       "        text-align: right;\n",
       "    }\n",
       "</style>\n",
       "<table border=\"1\" class=\"dataframe\">\n",
       "  <thead>\n",
       "    <tr style=\"text-align: right;\">\n",
       "      <th></th>\n",
       "      <th>0.0</th>\n",
       "      <th>1.0</th>\n",
       "    </tr>\n",
       "  </thead>\n",
       "  <tbody>\n",
       "    <tr>\n",
       "      <th>0.0</th>\n",
       "      <td>92.0</td>\n",
       "      <td>8.0</td>\n",
       "    </tr>\n",
       "    <tr>\n",
       "      <th>1.0</th>\n",
       "      <td>2.0</td>\n",
       "      <td>98.0</td>\n",
       "    </tr>\n",
       "  </tbody>\n",
       "</table>\n",
       "</div>"
      ],
      "text/plain": [
       "      0.0   1.0\n",
       "0.0  92.0   8.0\n",
       "1.0   2.0  98.0"
      ]
     },
     "execution_count": 19,
     "metadata": {},
     "output_type": "execute_result"
    }
   ],
   "source": [
    "C_val, P_val = nnet.use(Xval)\n",
    "confusion_matrix(C_val, Tval)"
   ]
  },
  {
   "cell_type": "code",
   "execution_count": 20,
   "metadata": {
    "ExecuteTime": {
     "end_time": "2020-11-06T23:15:40.256290Z",
     "start_time": "2020-11-06T23:15:40.243927Z"
    },
    "execution": {
     "iopub.execute_input": "2020-11-19T00:04:16.778859Z",
     "iopub.status.busy": "2020-11-19T00:04:16.778405Z",
     "iopub.status.idle": "2020-11-19T00:04:16.833097Z",
     "shell.execute_reply": "2020-11-19T00:04:16.832544Z",
     "shell.execute_reply.started": "2020-11-19T00:04:16.778806Z"
    }
   },
   "outputs": [
    {
     "name": "stdout",
     "output_type": "stream",
     "text": [
      "Percent Correct is 91.5\n"
     ]
    },
    {
     "data": {
      "text/html": [
       "<div>\n",
       "<style scoped>\n",
       "    .dataframe tbody tr th:only-of-type {\n",
       "        vertical-align: middle;\n",
       "    }\n",
       "\n",
       "    .dataframe tbody tr th {\n",
       "        vertical-align: top;\n",
       "    }\n",
       "\n",
       "    .dataframe thead th {\n",
       "        text-align: right;\n",
       "    }\n",
       "</style>\n",
       "<table border=\"1\" class=\"dataframe\">\n",
       "  <thead>\n",
       "    <tr style=\"text-align: right;\">\n",
       "      <th></th>\n",
       "      <th>0.0</th>\n",
       "      <th>1.0</th>\n",
       "    </tr>\n",
       "  </thead>\n",
       "  <tbody>\n",
       "    <tr>\n",
       "      <th>0.0</th>\n",
       "      <td>86.0</td>\n",
       "      <td>14.0</td>\n",
       "    </tr>\n",
       "    <tr>\n",
       "      <th>1.0</th>\n",
       "      <td>3.0</td>\n",
       "      <td>97.0</td>\n",
       "    </tr>\n",
       "  </tbody>\n",
       "</table>\n",
       "</div>"
      ],
      "text/plain": [
       "      0.0   1.0\n",
       "0.0  86.0  14.0\n",
       "1.0   3.0  97.0"
      ]
     },
     "execution_count": 20,
     "metadata": {},
     "output_type": "execute_result"
    }
   ],
   "source": [
    "C_test, P_test = nnet.use(Xtest)\n",
    "confusion_matrix(C_test, Ttest)"
   ]
  },
  {
   "cell_type": "code",
   "execution_count": 21,
   "metadata": {
    "ExecuteTime": {
     "end_time": "2020-11-06T23:17:57.684233Z",
     "start_time": "2020-11-06T23:15:40.260527Z"
    },
    "execution": {
     "iopub.execute_input": "2020-11-19T00:04:16.834647Z",
     "iopub.status.busy": "2020-11-19T00:04:16.834482Z",
     "iopub.status.idle": "2020-11-19T00:06:41.053244Z",
     "shell.execute_reply": "2020-11-19T00:06:41.052750Z",
     "shell.execute_reply.started": "2020-11-19T00:04:16.834628Z"
    }
   },
   "outputs": [
    {
     "name": "stdout",
     "output_type": "stream",
     "text": [
      "Structure [(5, (3, 3), (1, 1))] []: Repetition 1 2 3 4 5 6 7 8 9 10 \n",
      "Structure [(5, (3, 3), (1, 1))] [5]: Repetition 1 2 3 4 5 6 7 8 9 10 \n",
      "Structure [(5, (3, 3), (1, 1))] [10, 10]: Repetition 1 2 3 4 5 6 7 8 9 10 \n",
      "Structure [(5, (3, 3), (1, 1)), (4, (4, 4), (2, 2))] []: Repetition 1 2 3 4 5 6 7 8 9 10 \n",
      "Structure [(5, (3, 3), (1, 1)), (4, (4, 4), (2, 2))] [5]: Repetition 1 2 3 4 5 6 7 8 9 10 \n",
      "Structure [(5, (3, 3), (1, 1)), (4, (4, 4), (2, 2))] [10, 10]: Repetition 1 2 3 4 5 6 7 8 9 10 \n"
     ]
    }
   ],
   "source": [
    "fractions = (0.6, 0.2, 0.2)\n",
    "n_conv_list = [ [(5, (3, 3), (1, 1))],\n",
    "                [(5, (3, 3), (1, 1)), (4, (4, 4), (2, 2))]\n",
    "              ]\n",
    "n_fc_list = [[], [5], [10, 10]]  # Notice the first one... []\n",
    "n_epochs = 200\n",
    "learning_rate = 0.01\n",
    "\n",
    "n_partitions = 10\n",
    "# print(X.shape)\n",
    "results = []\n",
    "for nconv in n_conv_list:\n",
    "    for nfc in n_fc_list:\n",
    "        results.extend(multiple_runs_convolutional(n_partitions, X, T, fractions, nconv, nfc, n_epochs, learning_rate))\n",
    "    \n",
    "resultsdf1 = pd.DataFrame(results, columns=('Structure', 'Partition', 'Percent_Correct'))"
   ]
  },
  {
   "cell_type": "code",
   "execution_count": 22,
   "metadata": {
    "execution": {
     "iopub.execute_input": "2020-11-19T00:06:41.054334Z",
     "iopub.status.busy": "2020-11-19T00:06:41.054190Z",
     "iopub.status.idle": "2020-11-19T00:06:41.063515Z",
     "shell.execute_reply": "2020-11-19T00:06:41.063009Z",
     "shell.execute_reply.started": "2020-11-19T00:06:41.054315Z"
    }
   },
   "outputs": [
    {
     "data": {
      "text/html": [
       "<div>\n",
       "<style scoped>\n",
       "    .dataframe tbody tr th:only-of-type {\n",
       "        vertical-align: middle;\n",
       "    }\n",
       "\n",
       "    .dataframe tbody tr th {\n",
       "        vertical-align: top;\n",
       "    }\n",
       "\n",
       "    .dataframe thead th {\n",
       "        text-align: right;\n",
       "    }\n",
       "</style>\n",
       "<table border=\"1\" class=\"dataframe\">\n",
       "  <thead>\n",
       "    <tr style=\"text-align: right;\">\n",
       "      <th></th>\n",
       "      <th>Structure</th>\n",
       "      <th>Partition</th>\n",
       "      <th>Percent_Correct</th>\n",
       "    </tr>\n",
       "  </thead>\n",
       "  <tbody>\n",
       "    <tr>\n",
       "      <th>0</th>\n",
       "      <td>[(5, (3, 3), (1, 1))] []</td>\n",
       "      <td>train</td>\n",
       "      <td>100.0</td>\n",
       "    </tr>\n",
       "    <tr>\n",
       "      <th>1</th>\n",
       "      <td>[(5, (3, 3), (1, 1))] []</td>\n",
       "      <td>validation</td>\n",
       "      <td>99.5</td>\n",
       "    </tr>\n",
       "    <tr>\n",
       "      <th>2</th>\n",
       "      <td>[(5, (3, 3), (1, 1))] []</td>\n",
       "      <td>test</td>\n",
       "      <td>100.0</td>\n",
       "    </tr>\n",
       "    <tr>\n",
       "      <th>3</th>\n",
       "      <td>[(5, (3, 3), (1, 1))] []</td>\n",
       "      <td>train</td>\n",
       "      <td>100.0</td>\n",
       "    </tr>\n",
       "    <tr>\n",
       "      <th>4</th>\n",
       "      <td>[(5, (3, 3), (1, 1))] []</td>\n",
       "      <td>validation</td>\n",
       "      <td>100.0</td>\n",
       "    </tr>\n",
       "    <tr>\n",
       "      <th>...</th>\n",
       "      <td>...</td>\n",
       "      <td>...</td>\n",
       "      <td>...</td>\n",
       "    </tr>\n",
       "    <tr>\n",
       "      <th>175</th>\n",
       "      <td>[(5, (3, 3), (1, 1)), (4, (4, 4), (2, 2))] [10...</td>\n",
       "      <td>validation</td>\n",
       "      <td>100.0</td>\n",
       "    </tr>\n",
       "    <tr>\n",
       "      <th>176</th>\n",
       "      <td>[(5, (3, 3), (1, 1)), (4, (4, 4), (2, 2))] [10...</td>\n",
       "      <td>test</td>\n",
       "      <td>100.0</td>\n",
       "    </tr>\n",
       "    <tr>\n",
       "      <th>177</th>\n",
       "      <td>[(5, (3, 3), (1, 1)), (4, (4, 4), (2, 2))] [10...</td>\n",
       "      <td>train</td>\n",
       "      <td>100.0</td>\n",
       "    </tr>\n",
       "    <tr>\n",
       "      <th>178</th>\n",
       "      <td>[(5, (3, 3), (1, 1)), (4, (4, 4), (2, 2))] [10...</td>\n",
       "      <td>validation</td>\n",
       "      <td>99.5</td>\n",
       "    </tr>\n",
       "    <tr>\n",
       "      <th>179</th>\n",
       "      <td>[(5, (3, 3), (1, 1)), (4, (4, 4), (2, 2))] [10...</td>\n",
       "      <td>test</td>\n",
       "      <td>99.5</td>\n",
       "    </tr>\n",
       "  </tbody>\n",
       "</table>\n",
       "<p>180 rows × 3 columns</p>\n",
       "</div>"
      ],
      "text/plain": [
       "                                             Structure   Partition  \\\n",
       "0                             [(5, (3, 3), (1, 1))] []       train   \n",
       "1                             [(5, (3, 3), (1, 1))] []  validation   \n",
       "2                             [(5, (3, 3), (1, 1))] []        test   \n",
       "3                             [(5, (3, 3), (1, 1))] []       train   \n",
       "4                             [(5, (3, 3), (1, 1))] []  validation   \n",
       "..                                                 ...         ...   \n",
       "175  [(5, (3, 3), (1, 1)), (4, (4, 4), (2, 2))] [10...  validation   \n",
       "176  [(5, (3, 3), (1, 1)), (4, (4, 4), (2, 2))] [10...        test   \n",
       "177  [(5, (3, 3), (1, 1)), (4, (4, 4), (2, 2))] [10...       train   \n",
       "178  [(5, (3, 3), (1, 1)), (4, (4, 4), (2, 2))] [10...  validation   \n",
       "179  [(5, (3, 3), (1, 1)), (4, (4, 4), (2, 2))] [10...        test   \n",
       "\n",
       "     Percent_Correct  \n",
       "0              100.0  \n",
       "1               99.5  \n",
       "2              100.0  \n",
       "3              100.0  \n",
       "4              100.0  \n",
       "..               ...  \n",
       "175            100.0  \n",
       "176            100.0  \n",
       "177            100.0  \n",
       "178             99.5  \n",
       "179             99.5  \n",
       "\n",
       "[180 rows x 3 columns]"
      ]
     },
     "execution_count": 22,
     "metadata": {},
     "output_type": "execute_result"
    }
   ],
   "source": [
    "resultsdf1"
   ]
  },
  {
   "cell_type": "code",
   "execution_count": 23,
   "metadata": {
    "ExecuteTime": {
     "end_time": "2020-11-06T23:17:58.003471Z",
     "start_time": "2020-11-06T23:17:57.700351Z"
    },
    "execution": {
     "iopub.execute_input": "2020-11-19T00:06:41.064330Z",
     "iopub.status.busy": "2020-11-19T00:06:41.064185Z",
     "iopub.status.idle": "2020-11-19T00:06:42.244557Z",
     "shell.execute_reply": "2020-11-19T00:06:42.244121Z",
     "shell.execute_reply.started": "2020-11-19T00:06:41.064313Z"
    }
   },
   "outputs": [
    {
     "data": {
      "image/png": "[encoded data removed]",
      "text/plain": [
       "<Figure size 1080x720 with 1 Axes>"
      ]
     },
     "metadata": {
      "needs_background": "light"
     },
     "output_type": "display_data"
    }
   ],
   "source": [
    "import seaborn as sns\n",
    "\n",
    "plt.figure(figsize=(15, 10))\n",
    "sns.violinplot(x='Structure', y='Percent_Correct', hue='Partition', data=resultsdf1)\n",
    "plt.xticks(rotation=10)\n",
    "\n",
    "for x in range(len(n_conv_list) * len(n_fc_list) - 1):\n",
    "    plt.axvline(x + 0.5, color='r', linestyle='--', alpha=0.5)"
   ]
  },
  {
   "cell_type": "markdown",
   "metadata": {},
   "source": [
    "# Application to Three Data Sets"
   ]
  },
  {
   "cell_type": "markdown",
   "metadata": {},
   "source": [
    "In the following experiments, you may try a variety of learning_rates, numbers of epochs, and network structures, but in the violin plot use one value for learning_rate, one value for number of epochs, and six values of network structure.\n",
    "\n",
    "Apply `multiple_runs_regression` for various network structures to the automobile data introduced in Lecture Notes 17.  Load it as follows."
   ]
  },
  {
   "cell_type": "code",
   "execution_count": 26,
   "metadata": {
    "ExecuteTime": {
     "end_time": "2020-11-10T19:46:49.254285Z",
     "start_time": "2020-11-10T19:46:49.242978Z"
    },
    "execution": {
     "iopub.execute_input": "2020-11-19T04:57:27.672780Z",
     "iopub.status.busy": "2020-11-19T04:57:27.672621Z",
     "iopub.status.idle": "2020-11-19T04:57:27.680772Z",
     "shell.execute_reply": "2020-11-19T04:57:27.680378Z",
     "shell.execute_reply.started": "2020-11-19T04:57:27.672756Z"
    }
   },
   "outputs": [
    {
     "name": "stdout",
     "output_type": "stream",
     "text": [
      "Reading data from 'automobile.csv'.\n"
     ]
    },
    {
     "data": {
      "text/plain": [
       "((392, 7), (392, 1))"
      ]
     },
     "execution_count": 26,
     "metadata": {},
     "output_type": "execute_result"
    }
   ],
   "source": [
    "\n",
    "if os.path.isfile('automobile.csv'):\n",
    "    print('Reading data from \\'automobile.csv\\'.')\n",
    "    automobile = pd.read_csv('automobile.csv')\n",
    "else:\n",
    "    print('Downloading auto-mpg.data from UCI ML Repository.')\n",
    "    automobile = pd.read_csv('https://archive.ics.uci.edu/ml/machine-learning-databases/auto-mpg/auto-mpg.data',\n",
    "                             header=None, delimiter='\\s+', na_values='?', \n",
    "                             usecols=range(8))\n",
    "    automobile.columns = ('mpg', 'cylinders', 'displacement', 'horsepower', 'weight',\n",
    "                          'acceleration', 'year', 'origin')\n",
    "\n",
    "    print(f'Number rows in original data file {len(automobile)}.')\n",
    "    automobile = automobile.dropna(axis=0)\n",
    "    print(f'Number rows after dropping rows with missing values {len(automobile)}.')\n",
    "    automobile.to_csv('automobile.csv', index=False)  # so row numbers are not written to file\n",
    "    \n",
    "T = automobile['mpg'].values.reshape(-1, 1)\n",
    "X = automobile.iloc[:, 1:].values\n",
    "X.shape, T.shape"
   ]
  },
  {
   "cell_type": "code",
   "execution_count": 27,
   "metadata": {
    "execution": {
     "iopub.execute_input": "2020-11-19T04:57:28.469224Z",
     "iopub.status.busy": "2020-11-19T04:57:28.468963Z",
     "iopub.status.idle": "2020-11-19T04:58:40.034053Z",
     "shell.execute_reply": "2020-11-19T04:58:40.033463Z",
     "shell.execute_reply.started": "2020-11-19T04:57:28.469194Z"
    }
   },
   "outputs": [
    {
     "name": "stdout",
     "output_type": "stream",
     "text": [
      "Structure []: Repetition 1 2 3 4 5 6 7 8 9 10 \n",
      "Structure [100, 100]: Repetition 1 2 3 4 5 6 7 8 9 10 \n",
      "Structure [200, 200]: Repetition 1 2 3 4 5 6 7 8 9 10 \n",
      "Structure [500, 500]: Repetition 1 2 3 4 5 6 7 8 9 10 \n"
     ]
    }
   ],
   "source": [
    "fractions = (0.6, 0.2, 0.2)\n",
    "n_hiddens_list = [[],[100, 100],[200,200],[500,500]]\n",
    "n_epochs = 1000\n",
    "learning_rate = 0.01\n",
    "results =[]\n",
    "n_partitions = 10\n",
    "\n",
    "for nh in n_hiddens_list:\n",
    "    results.extend(multiple_runs_regression(n_partitions, X, T, fractions, nh, n_epochs, learning_rate))\n",
    "    \n",
    "resultsdf_reg = pd.DataFrame(results, columns=('Structure', 'Partition', 'RMSE'))"
   ]
  },
  {
   "cell_type": "code",
   "execution_count": 253,
   "metadata": {
    "execution": {
     "iopub.execute_input": "2020-11-19T03:27:01.873435Z",
     "iopub.status.busy": "2020-11-19T03:27:01.873261Z",
     "iopub.status.idle": "2020-11-19T03:27:01.882110Z",
     "shell.execute_reply": "2020-11-19T03:27:01.881620Z",
     "shell.execute_reply.started": "2020-11-19T03:27:01.873420Z"
    }
   },
   "outputs": [
    {
     "data": {
      "text/html": [
       "<div>\n",
       "<style scoped>\n",
       "    .dataframe tbody tr th:only-of-type {\n",
       "        vertical-align: middle;\n",
       "    }\n",
       "\n",
       "    .dataframe tbody tr th {\n",
       "        vertical-align: top;\n",
       "    }\n",
       "\n",
       "    .dataframe thead th {\n",
       "        text-align: right;\n",
       "    }\n",
       "</style>\n",
       "<table border=\"1\" class=\"dataframe\">\n",
       "  <thead>\n",
       "    <tr style=\"text-align: right;\">\n",
       "      <th></th>\n",
       "      <th>Structure</th>\n",
       "      <th>Partition</th>\n",
       "      <th>RMSE</th>\n",
       "    </tr>\n",
       "  </thead>\n",
       "  <tbody>\n",
       "    <tr>\n",
       "      <th>0</th>\n",
       "      <td>[]</td>\n",
       "      <td>train</td>\n",
       "      <td>3.308487</td>\n",
       "    </tr>\n",
       "    <tr>\n",
       "      <th>1</th>\n",
       "      <td>[]</td>\n",
       "      <td>validation</td>\n",
       "      <td>2.994811</td>\n",
       "    </tr>\n",
       "    <tr>\n",
       "      <th>2</th>\n",
       "      <td>[]</td>\n",
       "      <td>test</td>\n",
       "      <td>3.694467</td>\n",
       "    </tr>\n",
       "    <tr>\n",
       "      <th>3</th>\n",
       "      <td>[]</td>\n",
       "      <td>train</td>\n",
       "      <td>3.486619</td>\n",
       "    </tr>\n",
       "    <tr>\n",
       "      <th>4</th>\n",
       "      <td>[]</td>\n",
       "      <td>validation</td>\n",
       "      <td>2.860407</td>\n",
       "    </tr>\n",
       "    <tr>\n",
       "      <th>...</th>\n",
       "      <td>...</td>\n",
       "      <td>...</td>\n",
       "      <td>...</td>\n",
       "    </tr>\n",
       "    <tr>\n",
       "      <th>115</th>\n",
       "      <td>[500, 500]</td>\n",
       "      <td>validation</td>\n",
       "      <td>2.464493</td>\n",
       "    </tr>\n",
       "    <tr>\n",
       "      <th>116</th>\n",
       "      <td>[500, 500]</td>\n",
       "      <td>test</td>\n",
       "      <td>2.949528</td>\n",
       "    </tr>\n",
       "    <tr>\n",
       "      <th>117</th>\n",
       "      <td>[500, 500]</td>\n",
       "      <td>train</td>\n",
       "      <td>1.581401</td>\n",
       "    </tr>\n",
       "    <tr>\n",
       "      <th>118</th>\n",
       "      <td>[500, 500]</td>\n",
       "      <td>validation</td>\n",
       "      <td>3.323549</td>\n",
       "    </tr>\n",
       "    <tr>\n",
       "      <th>119</th>\n",
       "      <td>[500, 500]</td>\n",
       "      <td>test</td>\n",
       "      <td>3.052329</td>\n",
       "    </tr>\n",
       "  </tbody>\n",
       "</table>\n",
       "<p>120 rows × 3 columns</p>\n",
       "</div>"
      ],
      "text/plain": [
       "      Structure   Partition      RMSE\n",
       "0            []       train  3.308487\n",
       "1            []  validation  2.994811\n",
       "2            []        test  3.694467\n",
       "3            []       train  3.486619\n",
       "4            []  validation  2.860407\n",
       "..          ...         ...       ...\n",
       "115  [500, 500]  validation  2.464493\n",
       "116  [500, 500]        test  2.949528\n",
       "117  [500, 500]       train  1.581401\n",
       "118  [500, 500]  validation  3.323549\n",
       "119  [500, 500]        test  3.052329\n",
       "\n",
       "[120 rows x 3 columns]"
      ]
     },
     "execution_count": 253,
     "metadata": {},
     "output_type": "execute_result"
    }
   ],
   "source": [
    "resultsdf_reg"
   ]
  },
  {
   "cell_type": "code",
   "execution_count": 278,
   "metadata": {
    "execution": {
     "iopub.execute_input": "2020-11-19T04:12:55.465856Z",
     "iopub.status.busy": "2020-11-19T04:12:55.465680Z",
     "iopub.status.idle": "2020-11-19T04:12:55.474421Z",
     "shell.execute_reply": "2020-11-19T04:12:55.473924Z",
     "shell.execute_reply.started": "2020-11-19T04:12:55.465841Z"
    }
   },
   "outputs": [
    {
     "data": {
      "text/html": [
       "<div>\n",
       "<style scoped>\n",
       "    .dataframe tbody tr th:only-of-type {\n",
       "        vertical-align: middle;\n",
       "    }\n",
       "\n",
       "    .dataframe tbody tr th {\n",
       "        vertical-align: top;\n",
       "    }\n",
       "\n",
       "    .dataframe thead th {\n",
       "        text-align: right;\n",
       "    }\n",
       "</style>\n",
       "<table border=\"1\" class=\"dataframe\">\n",
       "  <thead>\n",
       "    <tr style=\"text-align: right;\">\n",
       "      <th></th>\n",
       "      <th>Structure</th>\n",
       "      <th>Partition</th>\n",
       "      <th>RMSE</th>\n",
       "    </tr>\n",
       "  </thead>\n",
       "  <tbody>\n",
       "    <tr>\n",
       "      <th>88</th>\n",
       "      <td>[200, 200]</td>\n",
       "      <td>validation</td>\n",
       "      <td>2.069168</td>\n",
       "    </tr>\n",
       "    <tr>\n",
       "      <th>37</th>\n",
       "      <td>[100, 100]</td>\n",
       "      <td>validation</td>\n",
       "      <td>2.198810</td>\n",
       "    </tr>\n",
       "    <tr>\n",
       "      <th>64</th>\n",
       "      <td>[200, 200]</td>\n",
       "      <td>validation</td>\n",
       "      <td>2.219026</td>\n",
       "    </tr>\n",
       "    <tr>\n",
       "      <th>70</th>\n",
       "      <td>[200, 200]</td>\n",
       "      <td>validation</td>\n",
       "      <td>2.226953</td>\n",
       "    </tr>\n",
       "    <tr>\n",
       "      <th>85</th>\n",
       "      <td>[200, 200]</td>\n",
       "      <td>validation</td>\n",
       "      <td>2.313113</td>\n",
       "    </tr>\n",
       "  </tbody>\n",
       "</table>\n",
       "</div>"
      ],
      "text/plain": [
       "     Structure   Partition      RMSE\n",
       "88  [200, 200]  validation  2.069168\n",
       "37  [100, 100]  validation  2.198810\n",
       "64  [200, 200]  validation  2.219026\n",
       "70  [200, 200]  validation  2.226953\n",
       "85  [200, 200]  validation  2.313113"
      ]
     },
     "execution_count": 278,
     "metadata": {},
     "output_type": "execute_result"
    }
   ],
   "source": [
    "Confusion_df = resultsdf_reg[resultsdf_reg[\"Partition\"].str.contains(\"validation\")]\n",
    "\n",
    "Confusion_df.sort_values(by=['RMSE'], ascending=True).head()"
   ]
  },
  {
   "cell_type": "code",
   "execution_count": 288,
   "metadata": {
    "execution": {
     "iopub.execute_input": "2020-11-19T04:14:44.780992Z",
     "iopub.status.busy": "2020-11-19T04:14:44.780746Z",
     "iopub.status.idle": "2020-11-19T04:14:44.789886Z",
     "shell.execute_reply": "2020-11-19T04:14:44.789455Z",
     "shell.execute_reply.started": "2020-11-19T04:14:44.780964Z"
    }
   },
   "outputs": [
    {
     "data": {
      "text/html": [
       "<div>\n",
       "<style scoped>\n",
       "    .dataframe tbody tr th:only-of-type {\n",
       "        vertical-align: middle;\n",
       "    }\n",
       "\n",
       "    .dataframe tbody tr th {\n",
       "        vertical-align: top;\n",
       "    }\n",
       "\n",
       "    .dataframe thead th {\n",
       "        text-align: right;\n",
       "    }\n",
       "</style>\n",
       "<table border=\"1\" class=\"dataframe\">\n",
       "  <thead>\n",
       "    <tr style=\"text-align: right;\">\n",
       "      <th></th>\n",
       "      <th>Structure</th>\n",
       "      <th>Partition</th>\n",
       "      <th>RMSE</th>\n",
       "    </tr>\n",
       "  </thead>\n",
       "  <tbody>\n",
       "    <tr>\n",
       "      <th>60</th>\n",
       "      <td>[200, 200]</td>\n",
       "      <td>train</td>\n",
       "      <td>2.278715</td>\n",
       "    </tr>\n",
       "    <tr>\n",
       "      <th>61</th>\n",
       "      <td>[200, 200]</td>\n",
       "      <td>validation</td>\n",
       "      <td>2.930150</td>\n",
       "    </tr>\n",
       "    <tr>\n",
       "      <th>62</th>\n",
       "      <td>[200, 200]</td>\n",
       "      <td>test</td>\n",
       "      <td>2.388302</td>\n",
       "    </tr>\n",
       "    <tr>\n",
       "      <th>63</th>\n",
       "      <td>[200, 200]</td>\n",
       "      <td>train</td>\n",
       "      <td>2.905783</td>\n",
       "    </tr>\n",
       "    <tr>\n",
       "      <th>64</th>\n",
       "      <td>[200, 200]</td>\n",
       "      <td>validation</td>\n",
       "      <td>2.219026</td>\n",
       "    </tr>\n",
       "    <tr>\n",
       "      <th>65</th>\n",
       "      <td>[200, 200]</td>\n",
       "      <td>test</td>\n",
       "      <td>2.453821</td>\n",
       "    </tr>\n",
       "    <tr>\n",
       "      <th>66</th>\n",
       "      <td>[200, 200]</td>\n",
       "      <td>train</td>\n",
       "      <td>1.412493</td>\n",
       "    </tr>\n",
       "    <tr>\n",
       "      <th>67</th>\n",
       "      <td>[200, 200]</td>\n",
       "      <td>validation</td>\n",
       "      <td>2.447460</td>\n",
       "    </tr>\n",
       "    <tr>\n",
       "      <th>68</th>\n",
       "      <td>[200, 200]</td>\n",
       "      <td>test</td>\n",
       "      <td>3.321704</td>\n",
       "    </tr>\n",
       "    <tr>\n",
       "      <th>69</th>\n",
       "      <td>[200, 200]</td>\n",
       "      <td>train</td>\n",
       "      <td>1.823506</td>\n",
       "    </tr>\n",
       "    <tr>\n",
       "      <th>70</th>\n",
       "      <td>[200, 200]</td>\n",
       "      <td>validation</td>\n",
       "      <td>2.226953</td>\n",
       "    </tr>\n",
       "    <tr>\n",
       "      <th>71</th>\n",
       "      <td>[200, 200]</td>\n",
       "      <td>test</td>\n",
       "      <td>2.799259</td>\n",
       "    </tr>\n",
       "    <tr>\n",
       "      <th>72</th>\n",
       "      <td>[200, 200]</td>\n",
       "      <td>train</td>\n",
       "      <td>1.902950</td>\n",
       "    </tr>\n",
       "    <tr>\n",
       "      <th>73</th>\n",
       "      <td>[200, 200]</td>\n",
       "      <td>validation</td>\n",
       "      <td>2.686073</td>\n",
       "    </tr>\n",
       "    <tr>\n",
       "      <th>74</th>\n",
       "      <td>[200, 200]</td>\n",
       "      <td>test</td>\n",
       "      <td>3.018672</td>\n",
       "    </tr>\n",
       "    <tr>\n",
       "      <th>75</th>\n",
       "      <td>[200, 200]</td>\n",
       "      <td>train</td>\n",
       "      <td>2.450239</td>\n",
       "    </tr>\n",
       "    <tr>\n",
       "      <th>76</th>\n",
       "      <td>[200, 200]</td>\n",
       "      <td>validation</td>\n",
       "      <td>2.418068</td>\n",
       "    </tr>\n",
       "    <tr>\n",
       "      <th>77</th>\n",
       "      <td>[200, 200]</td>\n",
       "      <td>test</td>\n",
       "      <td>2.506653</td>\n",
       "    </tr>\n",
       "    <tr>\n",
       "      <th>78</th>\n",
       "      <td>[200, 200]</td>\n",
       "      <td>train</td>\n",
       "      <td>2.984373</td>\n",
       "    </tr>\n",
       "    <tr>\n",
       "      <th>79</th>\n",
       "      <td>[200, 200]</td>\n",
       "      <td>validation</td>\n",
       "      <td>2.769106</td>\n",
       "    </tr>\n",
       "    <tr>\n",
       "      <th>80</th>\n",
       "      <td>[200, 200]</td>\n",
       "      <td>test</td>\n",
       "      <td>2.681644</td>\n",
       "    </tr>\n",
       "    <tr>\n",
       "      <th>81</th>\n",
       "      <td>[200, 200]</td>\n",
       "      <td>train</td>\n",
       "      <td>1.947698</td>\n",
       "    </tr>\n",
       "    <tr>\n",
       "      <th>82</th>\n",
       "      <td>[200, 200]</td>\n",
       "      <td>validation</td>\n",
       "      <td>2.560305</td>\n",
       "    </tr>\n",
       "    <tr>\n",
       "      <th>83</th>\n",
       "      <td>[200, 200]</td>\n",
       "      <td>test</td>\n",
       "      <td>2.677437</td>\n",
       "    </tr>\n",
       "    <tr>\n",
       "      <th>84</th>\n",
       "      <td>[200, 200]</td>\n",
       "      <td>train</td>\n",
       "      <td>2.416252</td>\n",
       "    </tr>\n",
       "    <tr>\n",
       "      <th>85</th>\n",
       "      <td>[200, 200]</td>\n",
       "      <td>validation</td>\n",
       "      <td>2.313113</td>\n",
       "    </tr>\n",
       "    <tr>\n",
       "      <th>86</th>\n",
       "      <td>[200, 200]</td>\n",
       "      <td>test</td>\n",
       "      <td>2.332340</td>\n",
       "    </tr>\n",
       "    <tr>\n",
       "      <th>87</th>\n",
       "      <td>[200, 200]</td>\n",
       "      <td>train</td>\n",
       "      <td>2.025244</td>\n",
       "    </tr>\n",
       "    <tr>\n",
       "      <th>88</th>\n",
       "      <td>[200, 200]</td>\n",
       "      <td>validation</td>\n",
       "      <td>2.069168</td>\n",
       "    </tr>\n",
       "    <tr>\n",
       "      <th>89</th>\n",
       "      <td>[200, 200]</td>\n",
       "      <td>test</td>\n",
       "      <td>2.413645</td>\n",
       "    </tr>\n",
       "  </tbody>\n",
       "</table>\n",
       "</div>"
      ],
      "text/plain": [
       "     Structure   Partition      RMSE\n",
       "60  [200, 200]       train  2.278715\n",
       "61  [200, 200]  validation  2.930150\n",
       "62  [200, 200]        test  2.388302\n",
       "63  [200, 200]       train  2.905783\n",
       "64  [200, 200]  validation  2.219026\n",
       "65  [200, 200]        test  2.453821\n",
       "66  [200, 200]       train  1.412493\n",
       "67  [200, 200]  validation  2.447460\n",
       "68  [200, 200]        test  3.321704\n",
       "69  [200, 200]       train  1.823506\n",
       "70  [200, 200]  validation  2.226953\n",
       "71  [200, 200]        test  2.799259\n",
       "72  [200, 200]       train  1.902950\n",
       "73  [200, 200]  validation  2.686073\n",
       "74  [200, 200]        test  3.018672\n",
       "75  [200, 200]       train  2.450239\n",
       "76  [200, 200]  validation  2.418068\n",
       "77  [200, 200]        test  2.506653\n",
       "78  [200, 200]       train  2.984373\n",
       "79  [200, 200]  validation  2.769106\n",
       "80  [200, 200]        test  2.681644\n",
       "81  [200, 200]       train  1.947698\n",
       "82  [200, 200]  validation  2.560305\n",
       "83  [200, 200]        test  2.677437\n",
       "84  [200, 200]       train  2.416252\n",
       "85  [200, 200]  validation  2.313113\n",
       "86  [200, 200]        test  2.332340\n",
       "87  [200, 200]       train  2.025244\n",
       "88  [200, 200]  validation  2.069168\n",
       "89  [200, 200]        test  2.413645"
      ]
     },
     "execution_count": 288,
     "metadata": {},
     "output_type": "execute_result"
    }
   ],
   "source": [
    "best = resultsdf_reg[resultsdf_reg[\"Structure\"].str.contains(\"200\")]\n",
    "best\n",
    "# best.sort_values(by=['RMSE'], ascending=True)"
   ]
  },
  {
   "cell_type": "code",
   "execution_count": 276,
   "metadata": {
    "execution": {
     "iopub.execute_input": "2020-11-19T04:10:35.996560Z",
     "iopub.status.busy": "2020-11-19T04:10:35.996388Z",
     "iopub.status.idle": "2020-11-19T04:10:36.331267Z",
     "shell.execute_reply": "2020-11-19T04:10:36.330789Z",
     "shell.execute_reply.started": "2020-11-19T04:10:35.996541Z"
    }
   },
   "outputs": [
    {
     "data": {
      "image/png": "[encoded data removed]",
      "text/plain": [
       "<Figure size 864x720 with 1 Axes>"
      ]
     },
     "metadata": {
      "needs_background": "light"
     },
     "output_type": "display_data"
    }
   ],
   "source": [
    "import seaborn as sns\n",
    "plt.figure(figsize=(12, 10))\n",
    "sns.violinplot(x='Structure', y='RMSE', hue='Partition', data=resultsdf_reg)\n",
    "for x in range(len(n_hiddens_list) - 1):\n",
    "    plt.axvline(x + 0.5, color='r', linestyle='--', alpha=0.5)"
   ]
  },
  {
   "cell_type": "markdown",
   "metadata": {},
   "source": [
    "\n",
    "Apply `multiple_runs_classification` for various network structures to the following data set from a study in diabetes diagnosis."
   ]
  },
  {
   "cell_type": "code",
   "execution_count": 36,
   "metadata": {
    "ExecuteTime": {
     "end_time": "2020-11-06T23:19:25.533173Z",
     "start_time": "2020-11-06T23:19:25.099961Z"
    },
    "execution": {
     "iopub.execute_input": "2020-11-19T05:15:22.010347Z",
     "iopub.status.busy": "2020-11-19T05:15:22.010109Z",
     "iopub.status.idle": "2020-11-19T05:15:22.020160Z",
     "shell.execute_reply": "2020-11-19T05:15:22.019730Z",
     "shell.execute_reply.started": "2020-11-19T05:15:22.010323Z"
    }
   },
   "outputs": [
    {
     "name": "stdout",
     "output_type": "stream",
     "text": [
      "Reading data from 'diabetes.csv'.\n"
     ]
    },
    {
     "data": {
      "text/plain": [
       "((520, 16), (520, 1))"
      ]
     },
     "execution_count": 36,
     "metadata": {},
     "output_type": "execute_result"
    }
   ],
   "source": [
    "if os.path.isfile('diabetes.csv'):\n",
    "    print('Reading data from \\'diabetes.csv\\'.')\n",
    "    diabetes = pd.read_csv('diabetes.csv')\n",
    "else:\n",
    "    print('Downloading diabetes_data_upload.csv from UCI ML Repository.')\n",
    "    diabetes = pd.read_csv('https://archive.ics.uci.edu/ml/machine-learning-databases/00529/diabetes_data_upload.csv')\n",
    "                        # usecols=range(1,14))\n",
    "    if False:\n",
    "        print(f'Number rows in original data file {len(diabetes)}.')\n",
    "        diabetes = diabetes.dropna(axis=0)\n",
    "        print(f'Number rows after dropping rows with missing values {len(diabetes)}.')\n",
    "    converter = dict(Yes=1, No=0, Female=1, Male=0, Positive=1, Negative=0)\n",
    "    diabetes = diabetes.applymap(lambda x: converter.get(x, x))\n",
    "    diabetes.to_csv('diabetes.csv', index=False)  # so row numbers are not written to file\n",
    "\n",
    "X = diabetes.iloc[:, :-1].values\n",
    "T = diabetes.iloc[:, -1:].values\n",
    "\n",
    "X.shape, T.shape"
   ]
  },
  {
   "cell_type": "code",
   "execution_count": 29,
   "metadata": {
    "execution": {
     "iopub.execute_input": "2020-11-19T04:58:40.048274Z",
     "iopub.status.busy": "2020-11-19T04:58:40.048042Z",
     "iopub.status.idle": "2020-11-19T04:58:41.675542Z",
     "shell.execute_reply": "2020-11-19T04:58:41.675077Z",
     "shell.execute_reply.started": "2020-11-19T04:58:40.048243Z"
    }
   },
   "outputs": [
    {
     "data": {
      "text/plain": [
       "2"
      ]
     },
     "execution_count": 29,
     "metadata": {},
     "output_type": "execute_result"
    }
   ],
   "source": [
    "len(np.unique(T))"
   ]
  },
  {
   "cell_type": "code",
   "execution_count": 39,
   "metadata": {
    "ExecuteTime": {
     "end_time": "2020-11-06T23:15:38.784561Z",
     "start_time": "2020-11-06T23:15:16.054596Z"
    },
    "execution": {
     "iopub.execute_input": "2020-11-16T11:20:32.428900Z",
     "iopub.status.busy": "2020-11-16T11:20:32.428780Z",
     "iopub.status.idle": "2020-11-16T11:20:58.741984Z",
     "shell.execute_reply": "2020-11-16T11:20:58.741463Z",
     "shell.execute_reply.started": "2020-11-16T11:20:32.428884Z"
    }
   },
   "outputs": [
    {
     "name": "stdout",
     "output_type": "stream",
     "text": [
      "Structure []: Repetition 1 2 3 4 5 6 7 8 9 10 \n",
      "Structure [2]: Repetition 1 2 3 4 5 6 7 8 9 10 \n",
      "Structure [5]: Repetition 1 2 3 4 5 6 7 8 9 10 \n",
      "Structure [10]: Repetition 1 2 3 4 5 6 7 8 9 10 \n",
      "Structure [20, 20]: Repetition 1 2 3 4 5 6 7 8 9 10 \n"
     ]
    }
   ],
   "source": [
    "fractions = (0.6, 0.2, 0.2)\n",
    "n_hiddens_list = [[], [2], [5], [10], [20, 20]]  # Notice the first one... []\n",
    "n_epochs = 500\n",
    "learning_rate = 0.01\n",
    "\n",
    "n_partitions = 10\n",
    "\n",
    "results = []\n",
    "for nh in n_hiddens_list:\n",
    "    results.extend(multiple_runs_classification(n_partitions, X, T, fractions, nh, n_epochs, learning_rate))\n",
    "    \n",
    "resultsdf = pd.DataFrame(results, columns=('Structure', 'Partition', 'RMSE'))"
   ]
  },
  {
   "cell_type": "code",
   "execution_count": 239,
   "metadata": {
    "ExecuteTime": {
     "end_time": "2020-11-06T23:15:39.339147Z",
     "start_time": "2020-11-06T23:15:38.793690Z"
    },
    "execution": {
     "iopub.execute_input": "2020-11-19T03:15:51.232331Z",
     "iopub.status.busy": "2020-11-19T03:15:51.232202Z",
     "iopub.status.idle": "2020-11-19T03:15:51.618790Z",
     "shell.execute_reply": "2020-11-19T03:15:51.618262Z",
     "shell.execute_reply.started": "2020-11-19T03:15:51.232314Z"
    }
   },
   "outputs": [
    {
     "data": {
      "image/png": "[encoded data removed]",
      "text/plain": [
       "<Figure size 864x720 with 1 Axes>"
      ]
     },
     "metadata": {
      "needs_background": "light"
     },
     "output_type": "display_data"
    }
   ],
   "source": [
    "import seaborn as sns\n",
    "\n",
    "plt.figure(figsize=(12, 10))\n",
    "sns.violinplot(x='Structure', y='RMSE', hue='Partition', data=resultsdf)\n",
    "for x in range(len(n_hiddens_list) - 1):\n",
    "    plt.axvline(x + 0.5, color='r', linestyle='--', alpha=0.5)"
   ]
  },
  {
   "cell_type": "code",
   "execution_count": 76,
   "metadata": {
    "execution": {
     "iopub.execute_input": "2020-11-19T00:58:27.065086Z",
     "iopub.status.busy": "2020-11-19T00:58:27.064744Z",
     "iopub.status.idle": "2020-11-19T00:58:27.074290Z",
     "shell.execute_reply": "2020-11-19T00:58:27.073851Z",
     "shell.execute_reply.started": "2020-11-19T00:58:27.065048Z"
    }
   },
   "outputs": [
    {
     "data": {
      "text/html": [
       "<div>\n",
       "<style scoped>\n",
       "    .dataframe tbody tr th:only-of-type {\n",
       "        vertical-align: middle;\n",
       "    }\n",
       "\n",
       "    .dataframe tbody tr th {\n",
       "        vertical-align: top;\n",
       "    }\n",
       "\n",
       "    .dataframe thead th {\n",
       "        text-align: right;\n",
       "    }\n",
       "</style>\n",
       "<table border=\"1\" class=\"dataframe\">\n",
       "  <thead>\n",
       "    <tr style=\"text-align: right;\">\n",
       "      <th></th>\n",
       "      <th>Structure</th>\n",
       "      <th>Partition</th>\n",
       "      <th>Accuracy</th>\n",
       "    </tr>\n",
       "  </thead>\n",
       "  <tbody>\n",
       "    <tr>\n",
       "      <th>148</th>\n",
       "      <td>[20, 20]</td>\n",
       "      <td>validation</td>\n",
       "      <td>99.038462</td>\n",
       "    </tr>\n",
       "    <tr>\n",
       "      <th>82</th>\n",
       "      <td>[5]</td>\n",
       "      <td>validation</td>\n",
       "      <td>99.038462</td>\n",
       "    </tr>\n",
       "    <tr>\n",
       "      <th>112</th>\n",
       "      <td>[10]</td>\n",
       "      <td>validation</td>\n",
       "      <td>98.076923</td>\n",
       "    </tr>\n",
       "    <tr>\n",
       "      <th>73</th>\n",
       "      <td>[5]</td>\n",
       "      <td>validation</td>\n",
       "      <td>98.076923</td>\n",
       "    </tr>\n",
       "    <tr>\n",
       "      <th>106</th>\n",
       "      <td>[10]</td>\n",
       "      <td>validation</td>\n",
       "      <td>98.076923</td>\n",
       "    </tr>\n",
       "  </tbody>\n",
       "</table>\n",
       "</div>"
      ],
      "text/plain": [
       "    Structure   Partition   Accuracy\n",
       "148  [20, 20]  validation  99.038462\n",
       "82        [5]  validation  99.038462\n",
       "112      [10]  validation  98.076923\n",
       "73        [5]  validation  98.076923\n",
       "106      [10]  validation  98.076923"
      ]
     },
     "execution_count": 76,
     "metadata": {},
     "output_type": "execute_result"
    }
   ],
   "source": [
    "Confusion_df_classification = resultsdf[resultsdf[\"Partition\"].str.contains(\"validation\")]\n",
    "\n",
    "Confusion_df_classification.sort_values(by=['Accuracy'], ascending=False).head()"
   ]
  },
  {
   "cell_type": "code",
   "execution_count": 39,
   "metadata": {
    "execution": {
     "iopub.execute_input": "2020-11-19T05:16:13.329764Z",
     "iopub.status.busy": "2020-11-19T05:16:13.329620Z",
     "iopub.status.idle": "2020-11-19T05:16:14.174535Z",
     "shell.execute_reply": "2020-11-19T05:16:14.174007Z",
     "shell.execute_reply.started": "2020-11-19T05:16:13.329749Z"
    }
   },
   "outputs": [
    {
     "name": "stdout",
     "output_type": "stream",
     "text": [
      "Epoch 100 LL train 0.9125 val 0.8509\n",
      "Epoch 200 LL train 0.9680 val 0.8349\n",
      "Epoch 300 LL train 0.9801 val 0.8273\n",
      "Epoch 400 LL train 0.9850 val 0.8382\n",
      "Epoch 500 LL train 0.9881 val 0.8466\n",
      "Epoch 600 LL train 0.9904 val 0.8424\n",
      "Epoch 700 LL train 0.9922 val 0.8345\n",
      "Epoch 800 LL train 0.9938 val 0.8271\n",
      "Epoch 900 LL train 0.9950 val 0.8213\n",
      "Epoch 1000 LL train 0.9959 val 0.8178\n"
     ]
    },
    {
     "data": {
      "text/plain": [
       "NeuralNetworkClassifierTorch(16, [10], 2, device=cpu)"
      ]
     },
     "execution_count": 39,
     "metadata": {},
     "output_type": "execute_result"
    }
   ],
   "source": [
    "nnet = NeuralNetworkClassifierTorch(X.shape[1], [10], len(np.unique(T)),\"cpu\")\n",
    "Xtrain, Ttrain, Xval, Tval, Xtest, Ttest = partition(X, T, (0.6, 0.2, 0.2),\n",
    "                                         shuffle=True, classification=True)\n",
    "nnet.train(Xtrain, Ttrain, n_epochs, learning_rate, method='adam', Xval=Xval, Tval=Tval, verbose=True)"
   ]
  },
  {
   "cell_type": "code",
   "execution_count": 40,
   "metadata": {
    "ExecuteTime": {
     "end_time": "2020-11-06T23:15:40.224876Z",
     "start_time": "2020-11-06T23:15:40.086459Z"
    },
    "execution": {
     "iopub.execute_input": "2020-11-19T05:16:16.034771Z",
     "iopub.status.busy": "2020-11-19T05:16:16.034593Z",
     "iopub.status.idle": "2020-11-19T05:16:16.201479Z",
     "shell.execute_reply": "2020-11-19T05:16:16.201047Z",
     "shell.execute_reply.started": "2020-11-19T05:16:16.034754Z"
    }
   },
   "outputs": [
    {
     "name": "stdout",
     "output_type": "stream",
     "text": [
      "Percent Correct is 96.7948717948718\n"
     ]
    },
    {
     "data": {
      "text/html": [
       "<div>\n",
       "<style scoped>\n",
       "    .dataframe tbody tr th:only-of-type {\n",
       "        vertical-align: middle;\n",
       "    }\n",
       "\n",
       "    .dataframe tbody tr th {\n",
       "        vertical-align: top;\n",
       "    }\n",
       "\n",
       "    .dataframe thead th {\n",
       "        text-align: right;\n",
       "    }\n",
       "</style>\n",
       "<table border=\"1\" class=\"dataframe\">\n",
       "  <thead>\n",
       "    <tr style=\"text-align: right;\">\n",
       "      <th></th>\n",
       "      <th>0</th>\n",
       "      <th>1</th>\n",
       "    </tr>\n",
       "  </thead>\n",
       "  <tbody>\n",
       "    <tr>\n",
       "      <th>0</th>\n",
       "      <td>95.833333</td>\n",
       "      <td>4.166667</td>\n",
       "    </tr>\n",
       "    <tr>\n",
       "      <th>1</th>\n",
       "      <td>2.604167</td>\n",
       "      <td>97.395833</td>\n",
       "    </tr>\n",
       "  </tbody>\n",
       "</table>\n",
       "</div>"
      ],
      "text/plain": [
       "           0          1\n",
       "0  95.833333   4.166667\n",
       "1   2.604167  97.395833"
      ]
     },
     "execution_count": 40,
     "metadata": {},
     "output_type": "execute_result"
    }
   ],
   "source": [
    "C_train, P_train = nnet.use(Xtrain)\n",
    "confusion_matrix(C_train, Ttrain)"
   ]
  },
  {
   "cell_type": "code",
   "execution_count": 41,
   "metadata": {
    "execution": {
     "iopub.execute_input": "2020-11-19T05:16:17.267458Z",
     "iopub.status.busy": "2020-11-19T05:16:17.267190Z",
     "iopub.status.idle": "2020-11-19T05:16:17.277689Z",
     "shell.execute_reply": "2020-11-19T05:16:17.277093Z",
     "shell.execute_reply.started": "2020-11-19T05:16:17.267425Z"
    }
   },
   "outputs": [
    {
     "name": "stdout",
     "output_type": "stream",
     "text": [
      "Percent Correct is 95.1923076923077\n"
     ]
    },
    {
     "data": {
      "text/html": [
       "<div>\n",
       "<style scoped>\n",
       "    .dataframe tbody tr th:only-of-type {\n",
       "        vertical-align: middle;\n",
       "    }\n",
       "\n",
       "    .dataframe tbody tr th {\n",
       "        vertical-align: top;\n",
       "    }\n",
       "\n",
       "    .dataframe thead th {\n",
       "        text-align: right;\n",
       "    }\n",
       "</style>\n",
       "<table border=\"1\" class=\"dataframe\">\n",
       "  <thead>\n",
       "    <tr style=\"text-align: right;\">\n",
       "      <th></th>\n",
       "      <th>0</th>\n",
       "      <th>1</th>\n",
       "    </tr>\n",
       "  </thead>\n",
       "  <tbody>\n",
       "    <tr>\n",
       "      <th>0</th>\n",
       "      <td>97.50</td>\n",
       "      <td>2.50</td>\n",
       "    </tr>\n",
       "    <tr>\n",
       "      <th>1</th>\n",
       "      <td>6.25</td>\n",
       "      <td>93.75</td>\n",
       "    </tr>\n",
       "  </tbody>\n",
       "</table>\n",
       "</div>"
      ],
      "text/plain": [
       "       0      1\n",
       "0  97.50   2.50\n",
       "1   6.25  93.75"
      ]
     },
     "execution_count": 41,
     "metadata": {},
     "output_type": "execute_result"
    }
   ],
   "source": [
    "C_train, P_train = nnet.use(Xval)\n",
    "confusion_matrix(C_train, Tval)"
   ]
  },
  {
   "cell_type": "code",
   "execution_count": 42,
   "metadata": {
    "execution": {
     "iopub.execute_input": "2020-11-19T05:16:19.875924Z",
     "iopub.status.busy": "2020-11-19T05:16:19.875779Z",
     "iopub.status.idle": "2020-11-19T05:16:19.883431Z",
     "shell.execute_reply": "2020-11-19T05:16:19.883024Z",
     "shell.execute_reply.started": "2020-11-19T05:16:19.875908Z"
    }
   },
   "outputs": [
    {
     "name": "stdout",
     "output_type": "stream",
     "text": [
      "Percent Correct is 96.15384615384616\n"
     ]
    },
    {
     "data": {
      "text/html": [
       "<div>\n",
       "<style scoped>\n",
       "    .dataframe tbody tr th:only-of-type {\n",
       "        vertical-align: middle;\n",
       "    }\n",
       "\n",
       "    .dataframe tbody tr th {\n",
       "        vertical-align: top;\n",
       "    }\n",
       "\n",
       "    .dataframe thead th {\n",
       "        text-align: right;\n",
       "    }\n",
       "</style>\n",
       "<table border=\"1\" class=\"dataframe\">\n",
       "  <thead>\n",
       "    <tr style=\"text-align: right;\">\n",
       "      <th></th>\n",
       "      <th>0</th>\n",
       "      <th>1</th>\n",
       "    </tr>\n",
       "  </thead>\n",
       "  <tbody>\n",
       "    <tr>\n",
       "      <th>0</th>\n",
       "      <td>100.00</td>\n",
       "      <td>0.00</td>\n",
       "    </tr>\n",
       "    <tr>\n",
       "      <th>1</th>\n",
       "      <td>6.25</td>\n",
       "      <td>93.75</td>\n",
       "    </tr>\n",
       "  </tbody>\n",
       "</table>\n",
       "</div>"
      ],
      "text/plain": [
       "        0      1\n",
       "0  100.00   0.00\n",
       "1    6.25  93.75"
      ]
     },
     "execution_count": 42,
     "metadata": {},
     "output_type": "execute_result"
    }
   ],
   "source": [
    "C_train, P_train = nnet.use(Xtest)\n",
    "confusion_matrix(C_train, Ttest)"
   ]
  },
  {
   "cell_type": "markdown",
   "metadata": {},
   "source": [
    "Apply `multiple_runs_convolutional` for various network structures to the following small subset of the MNIST data that contains 500 samples of each digit."
   ]
  },
  {
   "cell_type": "code",
   "execution_count": 258,
   "metadata": {
    "ExecuteTime": {
     "end_time": "2020-11-06T23:18:58.347060Z",
     "start_time": "2020-11-06T23:18:58.060886Z"
    },
    "execution": {
     "iopub.execute_input": "2020-11-19T03:27:56.878740Z",
     "iopub.status.busy": "2020-11-19T03:27:56.878357Z",
     "iopub.status.idle": "2020-11-19T03:27:56.894003Z",
     "shell.execute_reply": "2020-11-19T03:27:56.893358Z",
     "shell.execute_reply.started": "2020-11-19T03:27:56.878693Z"
    }
   },
   "outputs": [
    {
     "name": "stdout",
     "output_type": "stream",
     "text": [
      "Reading data from 'small_mnist.npz'.\n"
     ]
    },
    {
     "data": {
      "text/plain": [
       "((1000, 1, 28, 28), (1000, 1))"
      ]
     },
     "execution_count": 258,
     "metadata": {},
     "output_type": "execute_result"
    }
   ],
   "source": [
    "if os.path.isfile('small_mnist.npz'):\n",
    "    print('Reading data from \\'small_mnist.npz\\'.')\n",
    "    small_mnist = np.load('small_mnist.npz')\n",
    "else:\n",
    "    import shlex\n",
    "    import subprocess\n",
    "    print('Downloading small_mnist.npz from CS545 site.')\n",
    "    cmd = 'curl \"https://www.cs.colostate.edu/~anderson/cs545/notebooks/small_mnist.npz\" -o \"small_mnist.npz\"'\n",
    "    subprocess.call(shlex.split(cmd))\n",
    "    small_mnist = np.load('small_mnist.npz')\n",
    "\n",
    "\n",
    "X = small_mnist['X']\n",
    "X = X.reshape(-1, 1, 28, 28)\n",
    "T = small_mnist['T']\n",
    "\n",
    "X.shape, T.shape"
   ]
  },
  {
   "cell_type": "code",
   "execution_count": 95,
   "metadata": {
    "execution": {
     "iopub.execute_input": "2020-11-19T02:22:45.535450Z",
     "iopub.status.busy": "2020-11-19T02:22:45.535277Z",
     "iopub.status.idle": "2020-11-19T02:22:45.539003Z",
     "shell.execute_reply": "2020-11-19T02:22:45.538509Z",
     "shell.execute_reply.started": "2020-11-19T02:22:45.535421Z"
    }
   },
   "outputs": [
    {
     "data": {
      "text/plain": [
       "10"
      ]
     },
     "execution_count": 95,
     "metadata": {},
     "output_type": "execute_result"
    }
   ],
   "source": [
    "len(np.unique(T))"
   ]
  },
  {
   "cell_type": "code",
   "execution_count": 67,
   "metadata": {
    "ExecuteTime": {
     "end_time": "2020-11-06T23:17:57.684233Z",
     "start_time": "2020-11-06T23:15:40.260527Z"
    },
    "execution": {
     "iopub.execute_input": "2020-11-19T00:45:39.006000Z",
     "iopub.status.busy": "2020-11-19T00:45:39.005793Z",
     "iopub.status.idle": "2020-11-19T00:50:34.314439Z",
     "shell.execute_reply": "2020-11-19T00:50:34.313926Z",
     "shell.execute_reply.started": "2020-11-19T00:45:39.005976Z"
    }
   },
   "outputs": [
    {
     "name": "stdout",
     "output_type": "stream",
     "text": [
      "Structure [(5, (3, 3), (1, 1))] []: Repetition 1 2 3 4 5 6 7 8 9 10 \n",
      "Structure [(5, (3, 3), (1, 1))] [5]: Repetition 1 2 3 4 5 6 7 8 9 10 \n",
      "Structure [(5, (3, 3), (1, 1))] [10, 10]: Repetition 1 2 3 4 5 6 7 8 9 10 \n",
      "Structure [(5, (3, 3), (1, 1)), (4, (4, 4), (2, 2))] []: Repetition 1 2 3 4 5 6 7 8 9 10 \n",
      "Structure [(5, (3, 3), (1, 1)), (4, (4, 4), (2, 2))] [5]: Repetition 1 2 3 4 5 6 7 8 9 10 \n",
      "Structure [(5, (3, 3), (1, 1)), (4, (4, 4), (2, 2))] [10, 10]: Repetition 1 2 3 4 5 6 7 8 9 10 \n"
     ]
    }
   ],
   "source": [
    "fractions = (0.6, 0.2, 0.2)\n",
    "n_conv_list = [ [(5, (3, 3), (1, 1))],\n",
    "                [(5, (3, 3), (1, 1)), (4, (4, 4), (2, 2))]\n",
    "              ]\n",
    "n_fc_list = [[], [5], [10, 10]]  # Notice the first one... []\n",
    "n_epochs = 200\n",
    "learning_rate = 0.01\n",
    "\n",
    "n_partitions = 10\n",
    "# print(X.shape)\n",
    "results = []\n",
    "for nconv in n_conv_list:\n",
    "    for nfc in n_fc_list:\n",
    "        results.extend(multiple_runs_convolutional(n_partitions, X, T, fractions, nconv, nfc, n_epochs, learning_rate))\n",
    "    \n",
    "resultsdf_conv= pd.DataFrame(results, columns=('Structure', 'Partition', 'Accuracy'))"
   ]
  },
  {
   "cell_type": "code",
   "execution_count": 75,
   "metadata": {
    "execution": {
     "iopub.execute_input": "2020-11-19T00:57:35.152854Z",
     "iopub.status.busy": "2020-11-19T00:57:35.152236Z",
     "iopub.status.idle": "2020-11-19T00:57:35.163263Z",
     "shell.execute_reply": "2020-11-19T00:57:35.162652Z",
     "shell.execute_reply.started": "2020-11-19T00:57:35.152763Z"
    }
   },
   "outputs": [
    {
     "data": {
      "text/html": [
       "<div>\n",
       "<style scoped>\n",
       "    .dataframe tbody tr th:only-of-type {\n",
       "        vertical-align: middle;\n",
       "    }\n",
       "\n",
       "    .dataframe tbody tr th {\n",
       "        vertical-align: top;\n",
       "    }\n",
       "\n",
       "    .dataframe thead th {\n",
       "        text-align: right;\n",
       "    }\n",
       "</style>\n",
       "<table border=\"1\" class=\"dataframe\">\n",
       "  <thead>\n",
       "    <tr style=\"text-align: right;\">\n",
       "      <th></th>\n",
       "      <th>Structure</th>\n",
       "      <th>Partition</th>\n",
       "      <th>Accuracy</th>\n",
       "    </tr>\n",
       "  </thead>\n",
       "  <tbody>\n",
       "    <tr>\n",
       "      <th>0</th>\n",
       "      <td>[(5, (3, 3), (1, 1))] []</td>\n",
       "      <td>train</td>\n",
       "      <td>94.333333</td>\n",
       "    </tr>\n",
       "    <tr>\n",
       "      <th>1</th>\n",
       "      <td>[(5, (3, 3), (1, 1))] []</td>\n",
       "      <td>validation</td>\n",
       "      <td>87.000000</td>\n",
       "    </tr>\n",
       "    <tr>\n",
       "      <th>2</th>\n",
       "      <td>[(5, (3, 3), (1, 1))] []</td>\n",
       "      <td>test</td>\n",
       "      <td>85.000000</td>\n",
       "    </tr>\n",
       "    <tr>\n",
       "      <th>3</th>\n",
       "      <td>[(5, (3, 3), (1, 1))] []</td>\n",
       "      <td>train</td>\n",
       "      <td>96.500000</td>\n",
       "    </tr>\n",
       "    <tr>\n",
       "      <th>4</th>\n",
       "      <td>[(5, (3, 3), (1, 1))] []</td>\n",
       "      <td>validation</td>\n",
       "      <td>86.000000</td>\n",
       "    </tr>\n",
       "    <tr>\n",
       "      <th>...</th>\n",
       "      <td>...</td>\n",
       "      <td>...</td>\n",
       "      <td>...</td>\n",
       "    </tr>\n",
       "    <tr>\n",
       "      <th>175</th>\n",
       "      <td>[(5, (3, 3), (1, 1)), (4, (4, 4), (2, 2))] [10...</td>\n",
       "      <td>validation</td>\n",
       "      <td>84.000000</td>\n",
       "    </tr>\n",
       "    <tr>\n",
       "      <th>176</th>\n",
       "      <td>[(5, (3, 3), (1, 1)), (4, (4, 4), (2, 2))] [10...</td>\n",
       "      <td>test</td>\n",
       "      <td>78.500000</td>\n",
       "    </tr>\n",
       "    <tr>\n",
       "      <th>177</th>\n",
       "      <td>[(5, (3, 3), (1, 1)), (4, (4, 4), (2, 2))] [10...</td>\n",
       "      <td>train</td>\n",
       "      <td>97.666667</td>\n",
       "    </tr>\n",
       "    <tr>\n",
       "      <th>178</th>\n",
       "      <td>[(5, (3, 3), (1, 1)), (4, (4, 4), (2, 2))] [10...</td>\n",
       "      <td>validation</td>\n",
       "      <td>84.500000</td>\n",
       "    </tr>\n",
       "    <tr>\n",
       "      <th>179</th>\n",
       "      <td>[(5, (3, 3), (1, 1)), (4, (4, 4), (2, 2))] [10...</td>\n",
       "      <td>test</td>\n",
       "      <td>81.000000</td>\n",
       "    </tr>\n",
       "  </tbody>\n",
       "</table>\n",
       "<p>180 rows × 3 columns</p>\n",
       "</div>"
      ],
      "text/plain": [
       "                                             Structure   Partition   Accuracy\n",
       "0                             [(5, (3, 3), (1, 1))] []       train  94.333333\n",
       "1                             [(5, (3, 3), (1, 1))] []  validation  87.000000\n",
       "2                             [(5, (3, 3), (1, 1))] []        test  85.000000\n",
       "3                             [(5, (3, 3), (1, 1))] []       train  96.500000\n",
       "4                             [(5, (3, 3), (1, 1))] []  validation  86.000000\n",
       "..                                                 ...         ...        ...\n",
       "175  [(5, (3, 3), (1, 1)), (4, (4, 4), (2, 2))] [10...  validation  84.000000\n",
       "176  [(5, (3, 3), (1, 1)), (4, (4, 4), (2, 2))] [10...        test  78.500000\n",
       "177  [(5, (3, 3), (1, 1)), (4, (4, 4), (2, 2))] [10...       train  97.666667\n",
       "178  [(5, (3, 3), (1, 1)), (4, (4, 4), (2, 2))] [10...  validation  84.500000\n",
       "179  [(5, (3, 3), (1, 1)), (4, (4, 4), (2, 2))] [10...        test  81.000000\n",
       "\n",
       "[180 rows x 3 columns]"
      ]
     },
     "execution_count": 75,
     "metadata": {},
     "output_type": "execute_result"
    }
   ],
   "source": [
    "resultsdf_conv"
   ]
  },
  {
   "cell_type": "code",
   "execution_count": 68,
   "metadata": {
    "ExecuteTime": {
     "end_time": "2020-11-06T23:17:58.003471Z",
     "start_time": "2020-11-06T23:17:57.700351Z"
    },
    "execution": {
     "iopub.execute_input": "2020-11-19T00:50:34.315384Z",
     "iopub.status.busy": "2020-11-19T00:50:34.315233Z",
     "iopub.status.idle": "2020-11-19T00:50:34.829964Z",
     "shell.execute_reply": "2020-11-19T00:50:34.829022Z",
     "shell.execute_reply.started": "2020-11-19T00:50:34.315365Z"
    }
   },
   "outputs": [
    {
     "data": {
      "image/png": "[encoded data removed]",
      "text/plain": [
       "<Figure size 1080x720 with 1 Axes>"
      ]
     },
     "metadata": {
      "needs_background": "light"
     },
     "output_type": "display_data"
    }
   ],
   "source": [
    "import seaborn as sns\n",
    "\n",
    "plt.figure(figsize=(15, 10))\n",
    "sns.violinplot(x='Structure', y='Accuracy', hue='Partition', data=resultsdf_conv)\n",
    "plt.xticks(rotation=10)\n",
    "\n",
    "for x in range(len(n_conv_list) * len(n_fc_list) - 1):\n",
    "    plt.axvline(x + 0.5, color='r', linestyle='--', alpha=0.5)"
   ]
  },
  {
   "cell_type": "code",
   "execution_count": 72,
   "metadata": {
    "execution": {
     "iopub.execute_input": "2020-11-19T00:57:00.026072Z",
     "iopub.status.busy": "2020-11-19T00:57:00.025900Z",
     "iopub.status.idle": "2020-11-19T00:57:00.034208Z",
     "shell.execute_reply": "2020-11-19T00:57:00.033770Z",
     "shell.execute_reply.started": "2020-11-19T00:57:00.026057Z"
    }
   },
   "outputs": [
    {
     "data": {
      "text/html": [
       "<div>\n",
       "<style scoped>\n",
       "    .dataframe tbody tr th:only-of-type {\n",
       "        vertical-align: middle;\n",
       "    }\n",
       "\n",
       "    .dataframe tbody tr th {\n",
       "        vertical-align: top;\n",
       "    }\n",
       "\n",
       "    .dataframe thead th {\n",
       "        text-align: right;\n",
       "    }\n",
       "</style>\n",
       "<table border=\"1\" class=\"dataframe\">\n",
       "  <thead>\n",
       "    <tr style=\"text-align: right;\">\n",
       "      <th></th>\n",
       "      <th>Structure</th>\n",
       "      <th>Partition</th>\n",
       "      <th>Accuracy</th>\n",
       "    </tr>\n",
       "  </thead>\n",
       "  <tbody>\n",
       "    <tr>\n",
       "      <th>22</th>\n",
       "      <td>[(5, (3, 3), (1, 1))] []</td>\n",
       "      <td>validation</td>\n",
       "      <td>90.0</td>\n",
       "    </tr>\n",
       "    <tr>\n",
       "      <th>1</th>\n",
       "      <td>[(5, (3, 3), (1, 1))] []</td>\n",
       "      <td>validation</td>\n",
       "      <td>87.0</td>\n",
       "    </tr>\n",
       "    <tr>\n",
       "      <th>172</th>\n",
       "      <td>[(5, (3, 3), (1, 1)), (4, (4, 4), (2, 2))] [10...</td>\n",
       "      <td>validation</td>\n",
       "      <td>86.5</td>\n",
       "    </tr>\n",
       "    <tr>\n",
       "      <th>163</th>\n",
       "      <td>[(5, (3, 3), (1, 1)), (4, (4, 4), (2, 2))] [10...</td>\n",
       "      <td>validation</td>\n",
       "      <td>86.0</td>\n",
       "    </tr>\n",
       "    <tr>\n",
       "      <th>115</th>\n",
       "      <td>[(5, (3, 3), (1, 1)), (4, (4, 4), (2, 2))] []</td>\n",
       "      <td>validation</td>\n",
       "      <td>86.0</td>\n",
       "    </tr>\n",
       "  </tbody>\n",
       "</table>\n",
       "</div>"
      ],
      "text/plain": [
       "                                             Structure   Partition  Accuracy\n",
       "22                            [(5, (3, 3), (1, 1))] []  validation      90.0\n",
       "1                             [(5, (3, 3), (1, 1))] []  validation      87.0\n",
       "172  [(5, (3, 3), (1, 1)), (4, (4, 4), (2, 2))] [10...  validation      86.5\n",
       "163  [(5, (3, 3), (1, 1)), (4, (4, 4), (2, 2))] [10...  validation      86.0\n",
       "115      [(5, (3, 3), (1, 1)), (4, (4, 4), (2, 2))] []  validation      86.0"
      ]
     },
     "execution_count": 72,
     "metadata": {},
     "output_type": "execute_result"
    }
   ],
   "source": [
    "Confusion_df_conv = resultsdf_conv[resultsdf_conv[\"Partition\"].str.contains(\"validation\")]\n",
    "\n",
    "Confusion_df_conv.sort_values(by=['Accuracy'], ascending=False).head()"
   ]
  },
  {
   "cell_type": "code",
   "execution_count": 96,
   "metadata": {
    "execution": {
     "iopub.execute_input": "2020-11-19T02:22:51.939446Z",
     "iopub.status.busy": "2020-11-19T02:22:51.939242Z",
     "iopub.status.idle": "2020-11-19T02:22:55.586667Z",
     "shell.execute_reply": "2020-11-19T02:22:55.586143Z",
     "shell.execute_reply.started": "2020-11-19T02:22:51.939425Z"
    }
   },
   "outputs": [
    {
     "name": "stdout",
     "output_type": "stream",
     "text": [
      "Epoch 20 LL train 0.9579 val 0.5680\n",
      "Epoch 40 LL train 0.9971 val 0.5313\n",
      "Epoch 60 LL train 0.9990 val 0.5191\n",
      "Epoch 80 LL train 0.9993 val 0.5137\n",
      "Epoch 100 LL train 0.9994 val 0.5129\n",
      "Epoch 120 LL train 0.9995 val 0.5122\n",
      "Epoch 140 LL train 0.9996 val 0.5105\n",
      "Epoch 160 LL train 0.9996 val 0.5088\n",
      "Epoch 180 LL train 0.9997 val 0.5071\n",
      "Epoch 200 LL train 0.9997 val 0.5055\n"
     ]
    },
    {
     "data": {
      "text/plain": [
       "NeuralNetworkClassifierConvolutionalTorch(n_inputs=784, n_conv_list=[(5, (3, 3), (1, 1))], n_fc_list=[], n_outputs=10, device=cpu)"
      ]
     },
     "execution_count": 96,
     "metadata": {},
     "output_type": "execute_result"
    }
   ],
   "source": [
    "nnet = NeuralNetworkClassifierConvolutionalTorch(X.shape[1:], ([(5, (3, 3), (1, 1))]), ([]), len(np.unique(T)))\n",
    "Xtrain, Ttrain, Xval, Tval, Xtest, Ttest = partition(X, T, (0.6, 0.2, 0.2),\n",
    "                                         shuffle=True, classification=True)\n",
    "nnet.train(Xtrain, Ttrain, 200, learning_rate, method='adam', Xval=Xval, Tval=Tval, verbose=True)"
   ]
  },
  {
   "cell_type": "code",
   "execution_count": 97,
   "metadata": {
    "ExecuteTime": {
     "end_time": "2020-11-06T23:15:40.224876Z",
     "start_time": "2020-11-06T23:15:40.086459Z"
    },
    "execution": {
     "iopub.execute_input": "2020-11-19T02:22:55.644154Z",
     "iopub.status.busy": "2020-11-19T02:22:55.643995Z",
     "iopub.status.idle": "2020-11-19T02:22:55.669962Z",
     "shell.execute_reply": "2020-11-19T02:22:55.669521Z",
     "shell.execute_reply.started": "2020-11-19T02:22:55.644137Z"
    }
   },
   "outputs": [
    {
     "name": "stdout",
     "output_type": "stream",
     "text": [
      "Percent Correct is 98.5\n"
     ]
    },
    {
     "data": {
      "text/html": [
       "<div>\n",
       "<style scoped>\n",
       "    .dataframe tbody tr th:only-of-type {\n",
       "        vertical-align: middle;\n",
       "    }\n",
       "\n",
       "    .dataframe tbody tr th {\n",
       "        vertical-align: top;\n",
       "    }\n",
       "\n",
       "    .dataframe thead th {\n",
       "        text-align: right;\n",
       "    }\n",
       "</style>\n",
       "<table border=\"1\" class=\"dataframe\">\n",
       "  <thead>\n",
       "    <tr style=\"text-align: right;\">\n",
       "      <th></th>\n",
       "      <th>0</th>\n",
       "      <th>1</th>\n",
       "      <th>2</th>\n",
       "      <th>3</th>\n",
       "      <th>4</th>\n",
       "      <th>5</th>\n",
       "      <th>6</th>\n",
       "      <th>7</th>\n",
       "      <th>8</th>\n",
       "      <th>9</th>\n",
       "    </tr>\n",
       "  </thead>\n",
       "  <tbody>\n",
       "    <tr>\n",
       "      <th>0</th>\n",
       "      <td>98.333333</td>\n",
       "      <td>0.000000</td>\n",
       "      <td>0.000000</td>\n",
       "      <td>0.000000</td>\n",
       "      <td>0.000000</td>\n",
       "      <td>1.666667</td>\n",
       "      <td>0.000000</td>\n",
       "      <td>0.0</td>\n",
       "      <td>0.000000</td>\n",
       "      <td>0.000000</td>\n",
       "    </tr>\n",
       "    <tr>\n",
       "      <th>1</th>\n",
       "      <td>0.000000</td>\n",
       "      <td>100.000000</td>\n",
       "      <td>0.000000</td>\n",
       "      <td>0.000000</td>\n",
       "      <td>0.000000</td>\n",
       "      <td>0.000000</td>\n",
       "      <td>0.000000</td>\n",
       "      <td>0.0</td>\n",
       "      <td>0.000000</td>\n",
       "      <td>0.000000</td>\n",
       "    </tr>\n",
       "    <tr>\n",
       "      <th>2</th>\n",
       "      <td>0.000000</td>\n",
       "      <td>0.000000</td>\n",
       "      <td>98.333333</td>\n",
       "      <td>1.666667</td>\n",
       "      <td>0.000000</td>\n",
       "      <td>0.000000</td>\n",
       "      <td>0.000000</td>\n",
       "      <td>0.0</td>\n",
       "      <td>0.000000</td>\n",
       "      <td>0.000000</td>\n",
       "    </tr>\n",
       "    <tr>\n",
       "      <th>3</th>\n",
       "      <td>0.000000</td>\n",
       "      <td>0.000000</td>\n",
       "      <td>0.000000</td>\n",
       "      <td>100.000000</td>\n",
       "      <td>0.000000</td>\n",
       "      <td>0.000000</td>\n",
       "      <td>0.000000</td>\n",
       "      <td>0.0</td>\n",
       "      <td>0.000000</td>\n",
       "      <td>0.000000</td>\n",
       "    </tr>\n",
       "    <tr>\n",
       "      <th>4</th>\n",
       "      <td>0.000000</td>\n",
       "      <td>0.000000</td>\n",
       "      <td>0.000000</td>\n",
       "      <td>0.000000</td>\n",
       "      <td>100.000000</td>\n",
       "      <td>0.000000</td>\n",
       "      <td>0.000000</td>\n",
       "      <td>0.0</td>\n",
       "      <td>0.000000</td>\n",
       "      <td>0.000000</td>\n",
       "    </tr>\n",
       "    <tr>\n",
       "      <th>5</th>\n",
       "      <td>0.000000</td>\n",
       "      <td>0.000000</td>\n",
       "      <td>0.000000</td>\n",
       "      <td>0.000000</td>\n",
       "      <td>1.666667</td>\n",
       "      <td>96.666667</td>\n",
       "      <td>0.000000</td>\n",
       "      <td>0.0</td>\n",
       "      <td>1.666667</td>\n",
       "      <td>0.000000</td>\n",
       "    </tr>\n",
       "    <tr>\n",
       "      <th>6</th>\n",
       "      <td>0.000000</td>\n",
       "      <td>1.666667</td>\n",
       "      <td>0.000000</td>\n",
       "      <td>0.000000</td>\n",
       "      <td>0.000000</td>\n",
       "      <td>0.000000</td>\n",
       "      <td>98.333333</td>\n",
       "      <td>0.0</td>\n",
       "      <td>0.000000</td>\n",
       "      <td>0.000000</td>\n",
       "    </tr>\n",
       "    <tr>\n",
       "      <th>7</th>\n",
       "      <td>0.000000</td>\n",
       "      <td>0.000000</td>\n",
       "      <td>0.000000</td>\n",
       "      <td>0.000000</td>\n",
       "      <td>0.000000</td>\n",
       "      <td>0.000000</td>\n",
       "      <td>0.000000</td>\n",
       "      <td>100.0</td>\n",
       "      <td>0.000000</td>\n",
       "      <td>0.000000</td>\n",
       "    </tr>\n",
       "    <tr>\n",
       "      <th>8</th>\n",
       "      <td>0.000000</td>\n",
       "      <td>0.000000</td>\n",
       "      <td>0.000000</td>\n",
       "      <td>0.000000</td>\n",
       "      <td>0.000000</td>\n",
       "      <td>0.000000</td>\n",
       "      <td>0.000000</td>\n",
       "      <td>0.0</td>\n",
       "      <td>100.000000</td>\n",
       "      <td>0.000000</td>\n",
       "    </tr>\n",
       "    <tr>\n",
       "      <th>9</th>\n",
       "      <td>1.666667</td>\n",
       "      <td>0.000000</td>\n",
       "      <td>0.000000</td>\n",
       "      <td>0.000000</td>\n",
       "      <td>1.666667</td>\n",
       "      <td>0.000000</td>\n",
       "      <td>0.000000</td>\n",
       "      <td>0.0</td>\n",
       "      <td>3.333333</td>\n",
       "      <td>93.333333</td>\n",
       "    </tr>\n",
       "  </tbody>\n",
       "</table>\n",
       "</div>"
      ],
      "text/plain": [
       "           0           1          2           3           4          5  \\\n",
       "0  98.333333    0.000000   0.000000    0.000000    0.000000   1.666667   \n",
       "1   0.000000  100.000000   0.000000    0.000000    0.000000   0.000000   \n",
       "2   0.000000    0.000000  98.333333    1.666667    0.000000   0.000000   \n",
       "3   0.000000    0.000000   0.000000  100.000000    0.000000   0.000000   \n",
       "4   0.000000    0.000000   0.000000    0.000000  100.000000   0.000000   \n",
       "5   0.000000    0.000000   0.000000    0.000000    1.666667  96.666667   \n",
       "6   0.000000    1.666667   0.000000    0.000000    0.000000   0.000000   \n",
       "7   0.000000    0.000000   0.000000    0.000000    0.000000   0.000000   \n",
       "8   0.000000    0.000000   0.000000    0.000000    0.000000   0.000000   \n",
       "9   1.666667    0.000000   0.000000    0.000000    1.666667   0.000000   \n",
       "\n",
       "           6      7           8          9  \n",
       "0   0.000000    0.0    0.000000   0.000000  \n",
       "1   0.000000    0.0    0.000000   0.000000  \n",
       "2   0.000000    0.0    0.000000   0.000000  \n",
       "3   0.000000    0.0    0.000000   0.000000  \n",
       "4   0.000000    0.0    0.000000   0.000000  \n",
       "5   0.000000    0.0    1.666667   0.000000  \n",
       "6  98.333333    0.0    0.000000   0.000000  \n",
       "7   0.000000  100.0    0.000000   0.000000  \n",
       "8   0.000000    0.0  100.000000   0.000000  \n",
       "9   0.000000    0.0    3.333333  93.333333  "
      ]
     },
     "execution_count": 97,
     "metadata": {},
     "output_type": "execute_result"
    }
   ],
   "source": [
    "C_train, P_train = nnet.use(Xtrain)\n",
    "confusion_matrix(C_train, Ttrain)"
   ]
  },
  {
   "cell_type": "code",
   "execution_count": 98,
   "metadata": {
    "ExecuteTime": {
     "end_time": "2020-11-06T23:15:40.224876Z",
     "start_time": "2020-11-06T23:15:40.086459Z"
    },
    "execution": {
     "iopub.execute_input": "2020-11-19T02:22:56.949753Z",
     "iopub.status.busy": "2020-11-19T02:22:56.949449Z",
     "iopub.status.idle": "2020-11-19T02:22:56.971337Z",
     "shell.execute_reply": "2020-11-19T02:22:56.970990Z",
     "shell.execute_reply.started": "2020-11-19T02:22:56.949717Z"
    }
   },
   "outputs": [
    {
     "name": "stdout",
     "output_type": "stream",
     "text": [
      "Percent Correct is 87.5\n"
     ]
    },
    {
     "data": {
      "text/html": [
       "<div>\n",
       "<style scoped>\n",
       "    .dataframe tbody tr th:only-of-type {\n",
       "        vertical-align: middle;\n",
       "    }\n",
       "\n",
       "    .dataframe tbody tr th {\n",
       "        vertical-align: top;\n",
       "    }\n",
       "\n",
       "    .dataframe thead th {\n",
       "        text-align: right;\n",
       "    }\n",
       "</style>\n",
       "<table border=\"1\" class=\"dataframe\">\n",
       "  <thead>\n",
       "    <tr style=\"text-align: right;\">\n",
       "      <th></th>\n",
       "      <th>0</th>\n",
       "      <th>1</th>\n",
       "      <th>2</th>\n",
       "      <th>3</th>\n",
       "      <th>4</th>\n",
       "      <th>5</th>\n",
       "      <th>6</th>\n",
       "      <th>7</th>\n",
       "      <th>8</th>\n",
       "      <th>9</th>\n",
       "    </tr>\n",
       "  </thead>\n",
       "  <tbody>\n",
       "    <tr>\n",
       "      <th>0</th>\n",
       "      <td>95.0</td>\n",
       "      <td>0.0</td>\n",
       "      <td>0.0</td>\n",
       "      <td>0.0</td>\n",
       "      <td>0.0</td>\n",
       "      <td>0.0</td>\n",
       "      <td>0.0</td>\n",
       "      <td>0.0</td>\n",
       "      <td>5.0</td>\n",
       "      <td>0.0</td>\n",
       "    </tr>\n",
       "    <tr>\n",
       "      <th>1</th>\n",
       "      <td>0.0</td>\n",
       "      <td>95.0</td>\n",
       "      <td>5.0</td>\n",
       "      <td>0.0</td>\n",
       "      <td>0.0</td>\n",
       "      <td>0.0</td>\n",
       "      <td>0.0</td>\n",
       "      <td>0.0</td>\n",
       "      <td>0.0</td>\n",
       "      <td>0.0</td>\n",
       "    </tr>\n",
       "    <tr>\n",
       "      <th>2</th>\n",
       "      <td>5.0</td>\n",
       "      <td>5.0</td>\n",
       "      <td>75.0</td>\n",
       "      <td>5.0</td>\n",
       "      <td>5.0</td>\n",
       "      <td>0.0</td>\n",
       "      <td>0.0</td>\n",
       "      <td>0.0</td>\n",
       "      <td>5.0</td>\n",
       "      <td>0.0</td>\n",
       "    </tr>\n",
       "    <tr>\n",
       "      <th>3</th>\n",
       "      <td>0.0</td>\n",
       "      <td>0.0</td>\n",
       "      <td>0.0</td>\n",
       "      <td>95.0</td>\n",
       "      <td>0.0</td>\n",
       "      <td>0.0</td>\n",
       "      <td>0.0</td>\n",
       "      <td>0.0</td>\n",
       "      <td>0.0</td>\n",
       "      <td>5.0</td>\n",
       "    </tr>\n",
       "    <tr>\n",
       "      <th>4</th>\n",
       "      <td>0.0</td>\n",
       "      <td>0.0</td>\n",
       "      <td>5.0</td>\n",
       "      <td>0.0</td>\n",
       "      <td>90.0</td>\n",
       "      <td>0.0</td>\n",
       "      <td>0.0</td>\n",
       "      <td>0.0</td>\n",
       "      <td>0.0</td>\n",
       "      <td>5.0</td>\n",
       "    </tr>\n",
       "    <tr>\n",
       "      <th>5</th>\n",
       "      <td>0.0</td>\n",
       "      <td>0.0</td>\n",
       "      <td>0.0</td>\n",
       "      <td>0.0</td>\n",
       "      <td>0.0</td>\n",
       "      <td>55.0</td>\n",
       "      <td>10.0</td>\n",
       "      <td>5.0</td>\n",
       "      <td>15.0</td>\n",
       "      <td>15.0</td>\n",
       "    </tr>\n",
       "    <tr>\n",
       "      <th>6</th>\n",
       "      <td>0.0</td>\n",
       "      <td>0.0</td>\n",
       "      <td>0.0</td>\n",
       "      <td>0.0</td>\n",
       "      <td>0.0</td>\n",
       "      <td>0.0</td>\n",
       "      <td>100.0</td>\n",
       "      <td>0.0</td>\n",
       "      <td>0.0</td>\n",
       "      <td>0.0</td>\n",
       "    </tr>\n",
       "    <tr>\n",
       "      <th>7</th>\n",
       "      <td>0.0</td>\n",
       "      <td>5.0</td>\n",
       "      <td>0.0</td>\n",
       "      <td>0.0</td>\n",
       "      <td>0.0</td>\n",
       "      <td>0.0</td>\n",
       "      <td>0.0</td>\n",
       "      <td>95.0</td>\n",
       "      <td>0.0</td>\n",
       "      <td>0.0</td>\n",
       "    </tr>\n",
       "    <tr>\n",
       "      <th>8</th>\n",
       "      <td>0.0</td>\n",
       "      <td>0.0</td>\n",
       "      <td>0.0</td>\n",
       "      <td>0.0</td>\n",
       "      <td>0.0</td>\n",
       "      <td>5.0</td>\n",
       "      <td>5.0</td>\n",
       "      <td>0.0</td>\n",
       "      <td>90.0</td>\n",
       "      <td>0.0</td>\n",
       "    </tr>\n",
       "    <tr>\n",
       "      <th>9</th>\n",
       "      <td>0.0</td>\n",
       "      <td>0.0</td>\n",
       "      <td>0.0</td>\n",
       "      <td>5.0</td>\n",
       "      <td>0.0</td>\n",
       "      <td>0.0</td>\n",
       "      <td>0.0</td>\n",
       "      <td>10.0</td>\n",
       "      <td>0.0</td>\n",
       "      <td>85.0</td>\n",
       "    </tr>\n",
       "  </tbody>\n",
       "</table>\n",
       "</div>"
      ],
      "text/plain": [
       "      0     1     2     3     4     5      6     7     8     9\n",
       "0  95.0   0.0   0.0   0.0   0.0   0.0    0.0   0.0   5.0   0.0\n",
       "1   0.0  95.0   5.0   0.0   0.0   0.0    0.0   0.0   0.0   0.0\n",
       "2   5.0   5.0  75.0   5.0   5.0   0.0    0.0   0.0   5.0   0.0\n",
       "3   0.0   0.0   0.0  95.0   0.0   0.0    0.0   0.0   0.0   5.0\n",
       "4   0.0   0.0   5.0   0.0  90.0   0.0    0.0   0.0   0.0   5.0\n",
       "5   0.0   0.0   0.0   0.0   0.0  55.0   10.0   5.0  15.0  15.0\n",
       "6   0.0   0.0   0.0   0.0   0.0   0.0  100.0   0.0   0.0   0.0\n",
       "7   0.0   5.0   0.0   0.0   0.0   0.0    0.0  95.0   0.0   0.0\n",
       "8   0.0   0.0   0.0   0.0   0.0   5.0    5.0   0.0  90.0   0.0\n",
       "9   0.0   0.0   0.0   5.0   0.0   0.0    0.0  10.0   0.0  85.0"
      ]
     },
     "execution_count": 98,
     "metadata": {},
     "output_type": "execute_result"
    }
   ],
   "source": [
    "C_val, P_val = nnet.use(Xval)\n",
    "confusion_matrix(C_val, Tval)"
   ]
  },
  {
   "cell_type": "code",
   "execution_count": 99,
   "metadata": {
    "ExecuteTime": {
     "end_time": "2020-11-06T23:15:40.224876Z",
     "start_time": "2020-11-06T23:15:40.086459Z"
    },
    "execution": {
     "iopub.execute_input": "2020-11-19T02:22:58.502879Z",
     "iopub.status.busy": "2020-11-19T02:22:58.502705Z",
     "iopub.status.idle": "2020-11-19T02:22:58.521507Z",
     "shell.execute_reply": "2020-11-19T02:22:58.521080Z",
     "shell.execute_reply.started": "2020-11-19T02:22:58.502863Z"
    }
   },
   "outputs": [
    {
     "name": "stdout",
     "output_type": "stream",
     "text": [
      "Percent Correct is 86.0\n"
     ]
    },
    {
     "data": {
      "text/html": [
       "<div>\n",
       "<style scoped>\n",
       "    .dataframe tbody tr th:only-of-type {\n",
       "        vertical-align: middle;\n",
       "    }\n",
       "\n",
       "    .dataframe tbody tr th {\n",
       "        vertical-align: top;\n",
       "    }\n",
       "\n",
       "    .dataframe thead th {\n",
       "        text-align: right;\n",
       "    }\n",
       "</style>\n",
       "<table border=\"1\" class=\"dataframe\">\n",
       "  <thead>\n",
       "    <tr style=\"text-align: right;\">\n",
       "      <th></th>\n",
       "      <th>0</th>\n",
       "      <th>1</th>\n",
       "      <th>2</th>\n",
       "      <th>3</th>\n",
       "      <th>4</th>\n",
       "      <th>5</th>\n",
       "      <th>6</th>\n",
       "      <th>7</th>\n",
       "      <th>8</th>\n",
       "      <th>9</th>\n",
       "    </tr>\n",
       "  </thead>\n",
       "  <tbody>\n",
       "    <tr>\n",
       "      <th>0</th>\n",
       "      <td>95.0</td>\n",
       "      <td>0.0</td>\n",
       "      <td>0.0</td>\n",
       "      <td>0.0</td>\n",
       "      <td>0.0</td>\n",
       "      <td>0.0</td>\n",
       "      <td>5.0</td>\n",
       "      <td>0.0</td>\n",
       "      <td>0.0</td>\n",
       "      <td>0.0</td>\n",
       "    </tr>\n",
       "    <tr>\n",
       "      <th>1</th>\n",
       "      <td>0.0</td>\n",
       "      <td>95.0</td>\n",
       "      <td>0.0</td>\n",
       "      <td>0.0</td>\n",
       "      <td>0.0</td>\n",
       "      <td>0.0</td>\n",
       "      <td>0.0</td>\n",
       "      <td>0.0</td>\n",
       "      <td>0.0</td>\n",
       "      <td>5.0</td>\n",
       "    </tr>\n",
       "    <tr>\n",
       "      <th>2</th>\n",
       "      <td>0.0</td>\n",
       "      <td>5.0</td>\n",
       "      <td>70.0</td>\n",
       "      <td>10.0</td>\n",
       "      <td>5.0</td>\n",
       "      <td>0.0</td>\n",
       "      <td>0.0</td>\n",
       "      <td>0.0</td>\n",
       "      <td>5.0</td>\n",
       "      <td>5.0</td>\n",
       "    </tr>\n",
       "    <tr>\n",
       "      <th>3</th>\n",
       "      <td>0.0</td>\n",
       "      <td>0.0</td>\n",
       "      <td>0.0</td>\n",
       "      <td>85.0</td>\n",
       "      <td>0.0</td>\n",
       "      <td>5.0</td>\n",
       "      <td>0.0</td>\n",
       "      <td>5.0</td>\n",
       "      <td>0.0</td>\n",
       "      <td>5.0</td>\n",
       "    </tr>\n",
       "    <tr>\n",
       "      <th>4</th>\n",
       "      <td>0.0</td>\n",
       "      <td>0.0</td>\n",
       "      <td>0.0</td>\n",
       "      <td>0.0</td>\n",
       "      <td>95.0</td>\n",
       "      <td>0.0</td>\n",
       "      <td>0.0</td>\n",
       "      <td>0.0</td>\n",
       "      <td>0.0</td>\n",
       "      <td>5.0</td>\n",
       "    </tr>\n",
       "    <tr>\n",
       "      <th>5</th>\n",
       "      <td>0.0</td>\n",
       "      <td>0.0</td>\n",
       "      <td>0.0</td>\n",
       "      <td>10.0</td>\n",
       "      <td>5.0</td>\n",
       "      <td>80.0</td>\n",
       "      <td>0.0</td>\n",
       "      <td>0.0</td>\n",
       "      <td>5.0</td>\n",
       "      <td>0.0</td>\n",
       "    </tr>\n",
       "    <tr>\n",
       "      <th>6</th>\n",
       "      <td>0.0</td>\n",
       "      <td>0.0</td>\n",
       "      <td>5.0</td>\n",
       "      <td>0.0</td>\n",
       "      <td>5.0</td>\n",
       "      <td>0.0</td>\n",
       "      <td>90.0</td>\n",
       "      <td>0.0</td>\n",
       "      <td>0.0</td>\n",
       "      <td>0.0</td>\n",
       "    </tr>\n",
       "    <tr>\n",
       "      <th>7</th>\n",
       "      <td>0.0</td>\n",
       "      <td>5.0</td>\n",
       "      <td>0.0</td>\n",
       "      <td>0.0</td>\n",
       "      <td>5.0</td>\n",
       "      <td>5.0</td>\n",
       "      <td>0.0</td>\n",
       "      <td>80.0</td>\n",
       "      <td>0.0</td>\n",
       "      <td>5.0</td>\n",
       "    </tr>\n",
       "    <tr>\n",
       "      <th>8</th>\n",
       "      <td>0.0</td>\n",
       "      <td>0.0</td>\n",
       "      <td>0.0</td>\n",
       "      <td>0.0</td>\n",
       "      <td>0.0</td>\n",
       "      <td>0.0</td>\n",
       "      <td>0.0</td>\n",
       "      <td>5.0</td>\n",
       "      <td>95.0</td>\n",
       "      <td>0.0</td>\n",
       "    </tr>\n",
       "    <tr>\n",
       "      <th>9</th>\n",
       "      <td>0.0</td>\n",
       "      <td>0.0</td>\n",
       "      <td>0.0</td>\n",
       "      <td>5.0</td>\n",
       "      <td>0.0</td>\n",
       "      <td>0.0</td>\n",
       "      <td>0.0</td>\n",
       "      <td>20.0</td>\n",
       "      <td>0.0</td>\n",
       "      <td>75.0</td>\n",
       "    </tr>\n",
       "  </tbody>\n",
       "</table>\n",
       "</div>"
      ],
      "text/plain": [
       "      0     1     2     3     4     5     6     7     8     9\n",
       "0  95.0   0.0   0.0   0.0   0.0   0.0   5.0   0.0   0.0   0.0\n",
       "1   0.0  95.0   0.0   0.0   0.0   0.0   0.0   0.0   0.0   5.0\n",
       "2   0.0   5.0  70.0  10.0   5.0   0.0   0.0   0.0   5.0   5.0\n",
       "3   0.0   0.0   0.0  85.0   0.0   5.0   0.0   5.0   0.0   5.0\n",
       "4   0.0   0.0   0.0   0.0  95.0   0.0   0.0   0.0   0.0   5.0\n",
       "5   0.0   0.0   0.0  10.0   5.0  80.0   0.0   0.0   5.0   0.0\n",
       "6   0.0   0.0   5.0   0.0   5.0   0.0  90.0   0.0   0.0   0.0\n",
       "7   0.0   5.0   0.0   0.0   5.0   5.0   0.0  80.0   0.0   5.0\n",
       "8   0.0   0.0   0.0   0.0   0.0   0.0   0.0   5.0  95.0   0.0\n",
       "9   0.0   0.0   0.0   5.0   0.0   0.0   0.0  20.0   0.0  75.0"
      ]
     },
     "execution_count": 99,
     "metadata": {},
     "output_type": "execute_result"
    }
   ],
   "source": [
    "C_test, P_test = nnet.use(Xtest)\n",
    "confusion_matrix(C_test, Ttest)"
   ]
  },
  {
   "cell_type": "markdown",
   "metadata": {},
   "source": [
    "For each of the three applications, make violin plots.  For classification problems, also show the confusion matrices.  Describe the results you see with at least 10 sentences for each application, for a total of at least 30 sentences."
   ]
  },
  {
   "cell_type": "markdown",
   "metadata": {},
   "source": [
    "# Discussion\n",
    "\n",
    "## Regression:\n",
    "1. The validation RMSE of [200,200] configuration had the least value the correponding Test RSME was also low in this case.\n",
    "2. While training the RMSE value of test data for the corresponding hidden_list was also lower than the others.\n",
    "3. This behaviour of the neural network shows that the network is trained properly and generalies well. \n",
    "4. Even though the train RMSE of the configuration [500,500] is way too low compared to that of any other nnet when can see that the Validation and test RMSE is very high. \n",
    "5. This proves that the Configuration([500,500]) does not converge well and can be adjusted to perform even better. \n",
    "6. The linear configuration does not behave well and also converges in a very short span the over all range is between 2.5 and 3.5.\n",
    "7. When you compare this to the best configuration we can see that the range is between 0.5 and 3.5 during training which shows that the neural network ran was performing very well.\n",
    "8. During validation [200,200] configuration had a range between 1.9 and 3.5 which means the neural net has generalised really good. \n",
    "9. the [100,100] configuration shows close resembeles to the best configuration which is [200,200] which may give better results with higher learning rate and epochs. \n",
    "10. I think over from the above graph we can see a new view in which the training happens where each partition contributs and also gives us a more indepth analysis  of the training, validation and testing. \n",
    "\n",
    "## Classification: \n",
    "1. The neural net was trained for various hiddenlist configuration with same epochs and learning rate. \n",
    "2. We can observe that the best validation accuracy is for the configuration[10,10] with the highest validation accuracy of 99 percent. \n",
    "3. the volin plot shows that the mean of the configuration is at 95 % and the least is at 90 % accuracy fo validation.\n",
    "4. The test accuracy is very close to the validation accuracy for the configuration which shows it has a good generalisation. \n",
    "5. Even thou the test start with 80 % accuracy th mean mean of the test accuracy is close to the validation accuracy of the neural net configuration. \n",
    "6. We can also see that the mean accuracy of the linear model is very low compared to the other configurations.\n",
    "7. this shows that the linear configuration does not work well with this problem. \n",
    "8. Even thou the [20,20] configuration has higher accuracy rate for validation we can see that the [10] configuration has higher mean compared to the [20,20] configuration.\n",
    "9. In this cause i went with the [10] conguration has the best configuration since it has higher mean compared to the [20,20]. \n",
    "\n",
    "## Convolution:\n",
    "1. The training accuracy are way  higher than the validation accuracy in case of convolution neural net which proves the classic overfitting in the netwoek./ \n",
    "2. The highest accuracy was for the configuration with convolution configuration [(5, (3, 3), (1, 1))] and fc of []. \n",
    "3. The kernel size of 3 and stride of 1 along with 5 filters made the network work better. \n",
    "4. COnverting the inputs with torch tensor is an addition and very important part of this convolution neural network. \n",
    "5. the weights and the layers are also converted to torch tensors. \n",
    "6. The accuracy of these networks are lesser compared to the once we saw in the last Assignment where we used the same MNist dataset. This can be overcome by better filters and kernel size. \n",
    "7. the highest validation accuracy for th e best configuration was 90% and it hasd a mean closer to 85% which means the generalization is good. \n",
    "8. The Test accuracy was same as validation accuracy which can be concluded that model has been trained and generalized properly. \n",
    "9. The same convolution configuration when used with fc of [5] the behaviour is very bad it overfits very badly. \n",
    "10. With these observation we can see that both the convolution and fc layers are very important for the nnet to generalise. \n",
    "\n",
    "\n",
    "The key takeaway is that we have learnt a lot of the mathematics behind a convolution layer. I used to work with keras a lot but working with torch gave me indepth knowledge of now the output of each layer is defined and so. The Assignment was very helpful to understand some key concepts. "
   ]
  },
  {
   "cell_type": "markdown",
   "metadata": {
    "ExecuteTime": {
     "end_time": "2020-10-16T20:44:33.927450Z",
     "start_time": "2020-10-16T20:44:33.925092Z"
    }
   },
   "source": [
    "# Grading\n",
    "\n",
    "Download [A5grader.tar](https://www.cs.colostate.edu/~anderson/cs545/notebooks/A5grader.tar), extract `A5grader.py` before running the following cell."
   ]
  },
  {
   "cell_type": "code",
   "execution_count": 32,
   "metadata": {
    "ExecuteTime": {
     "end_time": "2020-11-06T23:19:54.846041Z",
     "start_time": "2020-11-06T23:19:36.898950Z"
    },
    "execution": {
     "iopub.execute_input": "2020-11-19T04:59:34.824216Z",
     "iopub.status.busy": "2020-11-19T04:59:34.823626Z",
     "iopub.status.idle": "2020-11-19T04:59:56.135191Z",
     "shell.execute_reply": "2020-11-19T04:59:56.134622Z",
     "shell.execute_reply.started": "2020-11-19T04:59:34.824147Z"
    }
   },
   "outputs": [
    {
     "name": "stdout",
     "output_type": "stream",
     "text": [
      "\n",
      "======================= Code Execution =======================\n",
      "\n",
      "Extracting python code from notebook named 'Balasubramaniam-A5.ipynb' and storing in notebookcode.py\n",
      "Removing all statements that are not function or class defs or import statements.\n",
      "\n",
      "## Testing constructor ####################################################################\n",
      "\n",
      "    nnet = NeuralNetworkClassifierConvolutionalTorch([1, 10, 10], \n",
      "                                                     [(2, (3, 3), (1, 1)), (3, (5, 5), (2, 2))],\n",
      "                                                     [30, 20], 2)\n",
      "\n",
      "    # Is isinstance(nnet, NeuralNetworkClassifierTorch)   True?\n",
      "\n",
      "\n",
      "--- 10/10 points. NeuralNetworkClassifierConvolutionalTorch is correctly of type NeuralNetworkClassifierTorch\n",
      "\n",
      "--- 10/10 points. nnet correctly has 5 pytorch layers.\n",
      "\n",
      "## Testing train ####################################################################\n",
      "\n",
      "    np.random.seed(42)\n",
      "    X = np.random.uniform(0, 1, size=(100, 2))\n",
      "    T = (np.abs(X[:, 0:1] - X[:, 1:2]) < 0.5).astype(int)\n",
      "    results = multiple_runs_classification(5, X, T, (0.4, 0.3, 0.3), [10], 100, 0.01)\n",
      "\n",
      "Structure [10]: Repetition 1 2 3 4 5 \n",
      "\n",
      "--- 10/10 points. results correctly has 15 elements\n",
      "\n",
      "--- 10/10 points. results[0] correctly has 3 elements\n",
      "\n",
      "--- 10/10 points. max of results accuracy is correctly 100%.\n",
      "\n",
      "## Testing train ####################################################################\n",
      "\n",
      "    np.random.seed(42)\n",
      "    X = np.random.uniform(0, 1, size=(100, 1, 10, 10))\n",
      "    T = (X[:, 0, :, 0].mean(-1) < X[:, 0, :, -1].mean(-1)).astype(int).reshape(-1, 1)\n",
      "    results = multiple_runs_convolutional(10, X, T, (0.4, 0.3, 0.3), [[10, (4, 4), (1, 1)]], [10], 1000, 0.01)\n",
      "    mean_train = np.mean([r[2] for r in results if r[1] == 'train'])\n",
      "\n",
      "Structure [[10, (4, 4), (1, 1)]] [10]: Repetition 1 2 3 4 5 6 7 8 9 10 \n",
      "\n",
      "--- 20/20 points. Mean of train accuracy is correct greater than 80%.\n",
      "\n",
      "======================================================================\n",
      "Downloads Execution Grade is 70 / 70\n",
      "======================================================================\n",
      "\n",
      "__ / 5 points. Violin plots for each of the three datasets.\n",
      "\n",
      "__ / 10 points. Confusion matrices for the two classification problems.\n",
      "                to MNIST data.\n",
      "\n",
      "__ / 15 points. Total of at least 30 sentences discussion results of all three datasets.\n",
      "\n",
      "\n",
      "======================================================================\n",
      "Downloads Results and Discussion Grade is ___ / 30\n",
      "======================================================================\n",
      "\n",
      "======================================================================\n",
      "Downloads FINAL GRADE is  _  / 100\n",
      "======================================================================\n",
      "Extra Credit: Earn one point of extra credit for adding code to one of your NeuralNetwork...Torch classes and training and using it on a GPU for one data set.      \n",
      "\n",
      "Downloads EXTRA CREDIT is 0 / 1\n"
     ]
    }
   ],
   "source": [
    "%run -i A5grader.py"
   ]
  },
  {
   "cell_type": "markdown",
   "metadata": {},
   "source": [
    "# Extra Credit\n",
    "\n",
    "Try to train on a GPU for at least one of the datasets by calling one of the `multiple_runs_...` functions.  A simple guide to changes you will need in your code is available at [this site](https://towardsdatascience.com/pytorch-switching-to-the-gpu-a7c0b21e8a99).  You may run on one of the CS department's workstations that have GPUs.\n",
    "\n",
    "Discuss the execution time on just the CPU and on a GPU.  "
   ]
  },
  {
   "cell_type": "code",
   "execution_count": 150,
   "metadata": {
    "execution": {
     "iopub.execute_input": "2020-11-19T02:50:23.693851Z",
     "iopub.status.busy": "2020-11-19T02:50:23.693703Z",
     "iopub.status.idle": "2020-11-19T02:50:23.697275Z",
     "shell.execute_reply": "2020-11-19T02:50:23.696739Z",
     "shell.execute_reply.started": "2020-11-19T02:50:23.693835Z"
    }
   },
   "outputs": [
    {
     "data": {
      "text/plain": [
       "True"
      ]
     },
     "execution_count": 150,
     "metadata": {},
     "output_type": "execute_result"
    }
   ],
   "source": [
    "torch.cuda.is_available()"
   ]
  },
  {
   "cell_type": "code",
   "execution_count": 243,
   "metadata": {
    "execution": {
     "iopub.execute_input": "2020-11-19T03:21:38.163318Z",
     "iopub.status.busy": "2020-11-19T03:21:38.163145Z",
     "iopub.status.idle": "2020-11-19T03:21:38.166784Z",
     "shell.execute_reply": "2020-11-19T03:21:38.166286Z",
     "shell.execute_reply.started": "2020-11-19T03:21:38.163302Z"
    }
   },
   "outputs": [
    {
     "data": {
      "text/plain": [
       "device(type='cuda')"
      ]
     },
     "execution_count": 243,
     "metadata": {},
     "output_type": "execute_result"
    }
   ],
   "source": [
    "device = torch.device(\"cuda\" if torch.cuda.is_available() else \"cpu\")\n",
    "\n",
    "# Assuming that we are on a CUDA machine, this should print a CUDA device:\n",
    "\n",
    "device"
   ]
  },
  {
   "cell_type": "code",
   "execution_count": 259,
   "metadata": {
    "execution": {
     "iopub.execute_input": "2020-11-19T03:28:00.532252Z",
     "iopub.status.busy": "2020-11-19T03:28:00.532017Z",
     "iopub.status.idle": "2020-11-19T03:28:00.540137Z",
     "shell.execute_reply": "2020-11-19T03:28:00.539575Z",
     "shell.execute_reply.started": "2020-11-19T03:28:00.532225Z"
    }
   },
   "outputs": [],
   "source": [
    "def multiple_runs_convolutional_gpu(n_partitions, X, T, fractions, nconv, nfc, n_epochs, learning_rate,device):\n",
    " \n",
    "    print(f'Structure {str(nconv)+ \" \" + str(nfc)}: Repetition', end=' ')\n",
    "    results = []\n",
    "\n",
    "\n",
    "    for rep in range(n_partitions):\n",
    "\n",
    "        print(f'{rep + 1}', end=' ')\n",
    "\n",
    "        Xtrain, Ttrain, Xval, Tval, Xtest, Ttest = partition(X, T, fractions,\n",
    "                                                             shuffle=True, classification=True)\n",
    "\n",
    "        Xtrain=torch.from_numpy(Xtrain.astype(np.float32)).to(device)\n",
    "        Ttrain=torch.from_numpy(Ttrain.astype(np.float32)).to(device)\n",
    "        Xval=torch.from_numpy(Xval.astype(np.float32)).to(device)\n",
    "        Tval=torch.from_numpy(Tval.astype(np.float32)).to(device)\n",
    "        Xtest=torch.from_numpy(Xtest.astype(np.float32)).to(device)\n",
    "        Ttest=torch.from_numpy(Ttest.astype(np.float32)).to(device)\n",
    "        \n",
    "       \n",
    "        n_outputs = len(np.unique(T).astype(int))\n",
    "#         print(n_outputs)\n",
    "        nnet = NeuralNetworkClassifierConvolutionalTorch(X.shape[1:], nconv, nfc, n_outputs).to(device)\n",
    "        nnet.device = device\n",
    "    \n",
    "\n",
    "        nnet.train(Xtrain, Ttrain, n_epochs, learning_rate, method='adam', Xval=Xval, Tval=Tval, verbose=False)\n",
    "        \n",
    "        train_percent=percent_correct(nnet.use(Xtrain)[0], Ttrain)\n",
    "        val_percent = percent_correct(nnet.use(Xval)[0], Tval)\n",
    "        test_percent = percent_correct(nnet.use(Xtest)[0], Ttest)\n",
    "#         print(nnet.use(Xtrain), Ttrain)\n",
    "        structure = str(nconv)+ \" \" + str(nfc)\n",
    "        results.extend([[structure, 'train', train_percent],\n",
    "                        [structure, 'validation', val_percent],\n",
    "                        [structure, 'test', test_percent]])\n",
    "\n",
    "#         print(results)\n",
    "    print()\n",
    "    return results"
   ]
  },
  {
   "cell_type": "code",
   "execution_count": 261,
   "metadata": {
    "ExecuteTime": {
     "end_time": "2020-11-06T23:17:57.684233Z",
     "start_time": "2020-11-06T23:15:40.260527Z"
    },
    "execution": {
     "iopub.execute_input": "2020-11-19T03:28:09.367518Z",
     "iopub.status.busy": "2020-11-19T03:28:09.367344Z",
     "iopub.status.idle": "2020-11-19T03:28:38.850402Z",
     "shell.execute_reply": "2020-11-19T03:28:38.849888Z",
     "shell.execute_reply.started": "2020-11-19T03:28:09.367489Z"
    }
   },
   "outputs": [
    {
     "name": "stdout",
     "output_type": "stream",
     "text": [
      "Structure [(5, (3, 3), (1, 1))] []: Repetition 1 2 3 4 5 6 7 8 9 10 \n",
      "Structure [(5, (3, 3), (1, 1))] [5]: Repetition 1 2 3 4 5 6 7 8 9 10 \n",
      "Structure [(5, (3, 3), (1, 1))] [10, 10]: Repetition 1 2 3 4 5 6 7 8 9 10 \n",
      "Structure [(5, (3, 3), (1, 1)), (4, (4, 4), (2, 2))] []: Repetition 1 2 3 4 5 6 7 8 9 10 \n",
      "Structure [(5, (3, 3), (1, 1)), (4, (4, 4), (2, 2))] [5]: Repetition 1 2 3 4 5 6 7 8 9 10 \n",
      "Structure [(5, (3, 3), (1, 1)), (4, (4, 4), (2, 2))] [10, 10]: Repetition 1 2 3 4 5 6 7 8 9 10 \n"
     ]
    }
   ],
   "source": [
    "fractions = (0.6, 0.2, 0.2)\n",
    "n_conv_list = [ [(5, (3, 3), (1, 1))],\n",
    "                [(5, (3, 3), (1, 1)), (4, (4, 4), (2, 2))]\n",
    "              ]\n",
    "n_fc_list = [[], [5], [10, 10]]  # Notice the first one... []\n",
    "n_epochs = 200\n",
    "learning_rate = 0.01\n",
    "\n",
    "\n",
    "n_partitions = 10\n",
    "# print(X.shape)\n",
    "results = []\n",
    "for nconv in n_conv_list:\n",
    "    for nfc in n_fc_list:\n",
    "        results.extend(multiple_runs_convolutional_gpu(n_partitions, X, T, fractions, nconv, nfc, n_epochs, learning_rate,device=device))\n",
    "    \n",
    "resultsdf1 = pd.DataFrame(results, columns=('Structure', 'Partition', 'Accuracy'))"
   ]
  },
  {
   "cell_type": "code",
   "execution_count": 264,
   "metadata": {
    "execution": {
     "iopub.execute_input": "2020-11-19T03:29:14.056682Z",
     "iopub.status.busy": "2020-11-19T03:29:14.056417Z",
     "iopub.status.idle": "2020-11-19T03:29:14.066788Z",
     "shell.execute_reply": "2020-11-19T03:29:14.066357Z",
     "shell.execute_reply.started": "2020-11-19T03:29:14.056651Z"
    }
   },
   "outputs": [
    {
     "data": {
      "text/html": [
       "<div>\n",
       "<style scoped>\n",
       "    .dataframe tbody tr th:only-of-type {\n",
       "        vertical-align: middle;\n",
       "    }\n",
       "\n",
       "    .dataframe tbody tr th {\n",
       "        vertical-align: top;\n",
       "    }\n",
       "\n",
       "    .dataframe thead th {\n",
       "        text-align: right;\n",
       "    }\n",
       "</style>\n",
       "<table border=\"1\" class=\"dataframe\">\n",
       "  <thead>\n",
       "    <tr style=\"text-align: right;\">\n",
       "      <th></th>\n",
       "      <th>Structure</th>\n",
       "      <th>Partition</th>\n",
       "      <th>Accuracy</th>\n",
       "    </tr>\n",
       "  </thead>\n",
       "  <tbody>\n",
       "    <tr>\n",
       "      <th>0</th>\n",
       "      <td>[(5, (3, 3), (1, 1))] []</td>\n",
       "      <td>train</td>\n",
       "      <td>83.833333</td>\n",
       "    </tr>\n",
       "    <tr>\n",
       "      <th>1</th>\n",
       "      <td>[(5, (3, 3), (1, 1))] []</td>\n",
       "      <td>validation</td>\n",
       "      <td>72.000000</td>\n",
       "    </tr>\n",
       "    <tr>\n",
       "      <th>2</th>\n",
       "      <td>[(5, (3, 3), (1, 1))] []</td>\n",
       "      <td>test</td>\n",
       "      <td>73.500000</td>\n",
       "    </tr>\n",
       "    <tr>\n",
       "      <th>3</th>\n",
       "      <td>[(5, (3, 3), (1, 1))] []</td>\n",
       "      <td>train</td>\n",
       "      <td>92.333333</td>\n",
       "    </tr>\n",
       "    <tr>\n",
       "      <th>4</th>\n",
       "      <td>[(5, (3, 3), (1, 1))] []</td>\n",
       "      <td>validation</td>\n",
       "      <td>77.500000</td>\n",
       "    </tr>\n",
       "    <tr>\n",
       "      <th>...</th>\n",
       "      <td>...</td>\n",
       "      <td>...</td>\n",
       "      <td>...</td>\n",
       "    </tr>\n",
       "    <tr>\n",
       "      <th>175</th>\n",
       "      <td>[(5, (3, 3), (1, 1)), (4, (4, 4), (2, 2))] [10...</td>\n",
       "      <td>validation</td>\n",
       "      <td>85.000000</td>\n",
       "    </tr>\n",
       "    <tr>\n",
       "      <th>176</th>\n",
       "      <td>[(5, (3, 3), (1, 1)), (4, (4, 4), (2, 2))] [10...</td>\n",
       "      <td>test</td>\n",
       "      <td>78.500000</td>\n",
       "    </tr>\n",
       "    <tr>\n",
       "      <th>177</th>\n",
       "      <td>[(5, (3, 3), (1, 1)), (4, (4, 4), (2, 2))] [10...</td>\n",
       "      <td>train</td>\n",
       "      <td>99.833333</td>\n",
       "    </tr>\n",
       "    <tr>\n",
       "      <th>178</th>\n",
       "      <td>[(5, (3, 3), (1, 1)), (4, (4, 4), (2, 2))] [10...</td>\n",
       "      <td>validation</td>\n",
       "      <td>83.500000</td>\n",
       "    </tr>\n",
       "    <tr>\n",
       "      <th>179</th>\n",
       "      <td>[(5, (3, 3), (1, 1)), (4, (4, 4), (2, 2))] [10...</td>\n",
       "      <td>test</td>\n",
       "      <td>80.000000</td>\n",
       "    </tr>\n",
       "  </tbody>\n",
       "</table>\n",
       "<p>180 rows × 3 columns</p>\n",
       "</div>"
      ],
      "text/plain": [
       "                                             Structure   Partition   Accuracy\n",
       "0                             [(5, (3, 3), (1, 1))] []       train  83.833333\n",
       "1                             [(5, (3, 3), (1, 1))] []  validation  72.000000\n",
       "2                             [(5, (3, 3), (1, 1))] []        test  73.500000\n",
       "3                             [(5, (3, 3), (1, 1))] []       train  92.333333\n",
       "4                             [(5, (3, 3), (1, 1))] []  validation  77.500000\n",
       "..                                                 ...         ...        ...\n",
       "175  [(5, (3, 3), (1, 1)), (4, (4, 4), (2, 2))] [10...  validation  85.000000\n",
       "176  [(5, (3, 3), (1, 1)), (4, (4, 4), (2, 2))] [10...        test  78.500000\n",
       "177  [(5, (3, 3), (1, 1)), (4, (4, 4), (2, 2))] [10...       train  99.833333\n",
       "178  [(5, (3, 3), (1, 1)), (4, (4, 4), (2, 2))] [10...  validation  83.500000\n",
       "179  [(5, (3, 3), (1, 1)), (4, (4, 4), (2, 2))] [10...        test  80.000000\n",
       "\n",
       "[180 rows x 3 columns]"
      ]
     },
     "execution_count": 264,
     "metadata": {},
     "output_type": "execute_result"
    }
   ],
   "source": [
    "resultsdf1"
   ]
  },
  {
   "cell_type": "code",
   "execution_count": 265,
   "metadata": {
    "ExecuteTime": {
     "end_time": "2020-11-06T23:17:58.003471Z",
     "start_time": "2020-11-06T23:17:57.700351Z"
    },
    "execution": {
     "iopub.execute_input": "2020-11-19T03:29:15.357586Z",
     "iopub.status.busy": "2020-11-19T03:29:15.357008Z",
     "iopub.status.idle": "2020-11-19T03:29:15.778901Z",
     "shell.execute_reply": "2020-11-19T03:29:15.778481Z",
     "shell.execute_reply.started": "2020-11-19T03:29:15.357517Z"
    }
   },
   "outputs": [
    {
     "data": {
      "image/png": "[encoded data removed]",
      "text/plain": [
       "<Figure size 1080x720 with 1 Axes>"
      ]
     },
     "metadata": {
      "needs_background": "light"
     },
     "output_type": "display_data"
    }
   ],
   "source": [
    "import seaborn as sns\n",
    "\n",
    "plt.figure(figsize=(15, 10))\n",
    "sns.violinplot(x='Structure', y='Accuracy', hue='Partition', data=resultsdf1)\n",
    "plt.xticks(rotation=10)\n",
    "\n",
    "for x in range(len(n_conv_list) * len(n_fc_list) - 1):\n",
    "    plt.axvline(x + 0.5, color='r', linestyle='--', alpha=0.5)"
   ]
  },
  {
   "cell_type": "markdown",
   "metadata": {},
   "source": [
    "# Extra credit discussion\n",
    "\n",
    "1. We can see that the same configuration was followed for running on a gpu. \n",
    "2. Running on a cpu took around 4.55 seconds whereas running on a Gpu took only 29 seconds. \n",
    "3. The conversion of the numpy array to tensor and adding it to the gpu based a key role as cuda cores can compute way faster than cpu. \n",
    "4. the tricky part was to convert all the values correctly to tensors and add it to the cpu \n",
    "5. and also correctly converting them back to cpu for various operations. \n",
    "6. The accuracy of running on gpu is little higher than the cpu which proves that the tensor operation has higher mathematical precision. "
   ]
  },
  {
   "cell_type": "code",
   "execution_count": null,
   "metadata": {},
   "outputs": [],
   "source": []
  }
 ],
 "metadata": {
  "kernelspec": {
   "display_name": "Python 3",
   "language": "python",
   "name": "python3"
  },
  "language_info": {
   "codemirror_mode": {
    "name": "ipython",
    "version": 3
   },
   "file_extension": ".py",
   "mimetype": "text/x-python",
   "name": "python",
   "nbconvert_exporter": "python",
   "pygments_lexer": "ipython3",
   "version": "3.8.3"
  },
  "toc": {
   "base_numbering": 1,
   "nav_menu": {},
   "number_sections": true,
   "sideBar": true,
   "skip_h1_title": false,
   "title_cell": "Table of Contents",
   "title_sidebar": "Contents",
   "toc_cell": true,
   "toc_position": {},
   "toc_section_display": true,
   "toc_window_display": false
  }
 },
 "nbformat": 4,
 "nbformat_minor": 4
}
